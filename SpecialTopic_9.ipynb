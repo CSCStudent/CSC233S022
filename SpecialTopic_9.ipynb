{
 "cells": [
  {
   "cell_type": "markdown",
   "id": "ce6c9c8c",
   "metadata": {},
   "source": [
    "## Hashing"
   ]
  },
  {
   "cell_type": "markdown",
   "id": "e6be84a9",
   "metadata": {},
   "source": [
    "## Iterating over Dictionary Items"
   ]
  },
  {
   "cell_type": "markdown",
   "id": "2b28d003",
   "metadata": {},
   "source": [
    "## Storing Data Records"
   ]
  }
 ],
 "metadata": {
  "hide_input": false,
  "kernelspec": {
   "display_name": "Python 3 (ipykernel)",
   "language": "python",
   "name": "python3"
  },
  "language_info": {
   "codemirror_mode": {
    "name": "ipython",
    "version": 3
   },
   "file_extension": ".py",
   "mimetype": "text/x-python",
   "name": "python",
   "nbconvert_exporter": "python",
   "pygments_lexer": "ipython3",
   "version": "3.9.7"
  }
 },
 "nbformat": 4,
 "nbformat_minor": 5
}
