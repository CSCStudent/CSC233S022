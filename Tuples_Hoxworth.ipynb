{
 "cells": [
  {
   "cell_type": "markdown",
   "id": "d0cc1573",
   "metadata": {},
   "source": [
    "<font size=\"12\" color=\"red\">Tuples are immutable</font>"
   ]
  },
  {
   "cell_type": "markdown",
   "id": "e9de5fd7",
   "metadata": {},
   "source": [
    "Syntactically, a tuple is a comma-separated list of values:<br>\n",
    "#>>> t = 'a', 'b', 'c', 'd', 'e'<br>\n",
    "<br>\n",
    "common to enclose tuples in parentheses to help identify tuples<br>\n",
    "#>>> t = ('a', 'b', 'c', 'd', 'e')<br>\n",
    "<br>\n",
    "<font color=red>Other than immutable -tuples are hashable and lists are not</font> <br>\n",
    "<br>\n",
    "single element tuple:<br>\n",
    "#>>> t1 = ('a',)<br>\n",
    "#>>> type(t1)<br>\n",
    "#<type 'tuple'><br>\n",
    "<br>\n",
    "Without the comma Python treats (’a’) as an expression with a string in parentheses:<br>\n",
    "#>>> t2 = ('a')<br>\n",
    "#>>> type(t2)<br>\n",
    "#<type 'str'><br>\n",
    "<br>\n",
    "built-in function tuple:<br>\n",
    "#>>> t = tuple()\n",
    "#>>> print(t)\n",
    "#()\n",
    "or<br>\n",
    "#>>> t = tuple('lupins')<br>\n",
    "#>>> print(t)<br>\n",
    "#('l', 'u', 'p', 'i', 'n', 's')<br>\n",
    "<br>\n",
    "Indexes same as Lists:<br>\n",
    "#>>> t = ('a', 'b', 'c', 'd', 'e')<br>\n",
    "#>>> print(t[0])<br>\n",
    "#'a'<br>\n",
    "<br>\n",
    "Slices just like a lists:<br>\n",
    "#>>> print(t[1:3])<br>\n",
    "#('b', 'c')<br>\n",
    "<br>\n",
    "<b>try to modify elements of the tuple, get an error:</b><br>\n",
    "#>>> t[0] = 'A'<br>\n",
    "#TypeError: object doesn't support item assignment<br>"
   ]
  },
  {
   "cell_type": "markdown",
   "id": "76b04273",
   "metadata": {},
   "source": [
    "<b>Comparing tuples</b><br>\n",
    "<br>\n",
    "DSU<br>\n",
    "Decorate<br>\n",
    "Sort<br>\n",
    "undecorate<br>\n",
    "<br>"
   ]
  },
  {
   "cell_type": "code",
   "execution_count": 2,
   "id": "a62e3e3e",
   "metadata": {},
   "outputs": [
    {
     "name": "stdout",
     "output_type": "stream",
     "text": [
      "['yonder', 'window', 'breaks', 'light', 'what', 'soft', 'but', 'in']\n"
     ]
    }
   ],
   "source": [
    "txt = 'but soft what light in yonder window breaks'\n",
    "words = txt.split()\n",
    "t = list()\n",
    "for word in words:\n",
    "    t.append((len(word), word))\n",
    "#sort compares the first element, length, first, and only considers the second element\n",
    "#to break ties\n",
    "t.sort(reverse=True)\n",
    "#The keyword argument reverse=True tells sort to go in\n",
    "#decreasing order\n",
    "res = list()\n",
    "for length, word in t:\n",
    "    res.append(word)\n",
    "print(res)"
   ]
  },
  {
   "cell_type": "markdown",
   "id": "469012c4",
   "metadata": {},
   "source": [
    "Tuple assignment:<br>\n",
    "<br>\n",
    "Python language has the ability to have a tuple on the left side of an assignment statement. This allows you to assign more\n",
    "than one variable at a time when the left side is a sequence.\n",
    "<br>\n",
    "In this example we have a two-element list (which is a sequence) and assign the first and second elements of the sequence to the variables x and y in a single statement.\n",
    "<br>\n",
    "Example:\n",
    "#>>> m = [ 'have', 'fun' ]<br>\n",
    "#>>> x, y = m<br>\n",
    "#>>> x<br>\n",
    "#'have'<br>\n",
    "#>>> y<br>\n",
    "#'fun'<br>\n",
    "#>>><br>\n",
    "<br>\n",
    "<b>COOL Trick:</b><br>\n",
    "A particularly clever application of tuple assignment allows us to swap the values of two variables in a single statement:<br>\n",
    "#>>> a, b = b, a<br>\n",
    "<br>\n",
    "More generally, the right side can be any kind of sequence (string, list, or tuple). For example, to split an email address into a user name and a domain, you could<br>\n",
    "write:<br>\n",
    "#>>> addr = 'monty@python.org'<br>\n",
    "#>>> uname, domain = addr.split('@')<br>\n",
    "<br>\n",
    "The return value from split is a list with two elements; the first element is assigned to uname, the second to domain.<br>\n",
    "<br>\n",
    "#>>> print(uname)<br>\n",
    "monty<br>\n",
    "#>>> print(domain)<br>\n",
    "python.org<br>\n",
    "<br>\n"
   ]
  },
  {
   "cell_type": "code",
   "execution_count": 4,
   "id": "8b9fa730",
   "metadata": {},
   "outputs": [
    {
     "name": "stdout",
     "output_type": "stream",
     "text": [
      "monty\n",
      "python.org\n"
     ]
    }
   ],
   "source": [
    "addr = 'monty@python.org'\n",
    "uname, domain = addr.split('@')\n",
    "print(uname)\n",
    "print(domain)"
   ]
  },
  {
   "cell_type": "markdown",
   "id": "d200915f",
   "metadata": {},
   "source": [
    "<b>Dictionaries and tuples:</b><br>\n",
    "<br>\n",
    "Dictionaries have a method called items that returns a list of tuples, where each tuple is a key-value pair:<br>\n",
    "<br>\n"
   ]
  },
  {
   "cell_type": "code",
   "execution_count": 9,
   "id": "71354ae1",
   "metadata": {},
   "outputs": [
    {
     "name": "stdout",
     "output_type": "stream",
     "text": [
      "[('a', 10), ('b', 1), ('c', 22)]\n"
     ]
    }
   ],
   "source": [
    "d = {'a':10, 'b':1, 'c':22}\n",
    "t = list(d.items())\n",
    "print(t)"
   ]
  },
  {
   "cell_type": "markdown",
   "id": "b05a0e74",
   "metadata": {},
   "source": [
    "However, since the list of tuples is a list, and tuples are comparable, we can now\n",
    "sort the list of tuples. Converting a dictionary to a list of tuples is a way for us to\n",
    "output the contents of a dictionary sorted by key:"
   ]
  },
  {
   "cell_type": "code",
   "execution_count": 10,
   "id": "b965e676",
   "metadata": {},
   "outputs": [
    {
     "name": "stdout",
     "output_type": "stream",
     "text": [
      "[('a', 10), ('b', 1), ('c', 22)]\n",
      "[('a', 10), ('b', 1), ('c', 22)]\n"
     ]
    }
   ],
   "source": [
    "d = {'a':10, 'b':1, 'c':22}\n",
    "t = list(d.items())\n",
    "print(t)\n",
    "t.sort()\n",
    "print(t)"
   ]
  },
  {
   "cell_type": "code",
   "execution_count": 11,
   "id": "def6842b",
   "metadata": {},
   "outputs": [
    {
     "name": "stdout",
     "output_type": "stream",
     "text": [
      "10 a\n",
      "1 b\n",
      "22 c\n"
     ]
    }
   ],
   "source": [
    "for key, val in list(d.items()):\n",
    " print(val, key)"
   ]
  },
  {
   "cell_type": "code",
   "execution_count": 15,
   "id": "ffd61d4e",
   "metadata": {},
   "outputs": [
    {
     "name": "stdout",
     "output_type": "stream",
     "text": [
      "[(22, 'c'), (10, 'a'), (1, 'b')]\n"
     ]
    }
   ],
   "source": [
    "d = {'a':10, 'b':1, 'c':22}\n",
    "l = list()\n",
    "for key, val in d.items() :\n",
    "    l.append( (val, key) )\n",
    "    l.sort(reverse=True)\n",
    "print(l)"
   ]
  },
  {
   "cell_type": "markdown",
   "id": "6b7ca38d",
   "metadata": {},
   "source": [
    "<font color=red><b>IMPORTANT:  By carefully constructing the list of tuples to have the value as the first element of each tuple, we can sort the list of tuples and get our dictionary contents sorted by value.</font></b>"
   ]
  },
  {
   "cell_type": "markdown",
   "id": "2cfd9d1a",
   "metadata": {},
   "source": [
    "The most common words<br>\n",
    "Coming back to our running example of the text from Romeo and Juliet Act 2, Scene 2, we can augment our program to use this Technique to print the ten most common words in the text as follows:"
   ]
  },
  {
   "cell_type": "code",
   "execution_count": 17,
   "id": "29d7a73c",
   "metadata": {},
   "outputs": [
    {
     "ename": "FileNotFoundError",
     "evalue": "[Errno 2] No such file or directory: 'romeo-full.txt'",
     "output_type": "error",
     "traceback": [
      "\u001b[1;31m---------------------------------------------------------------------------\u001b[0m",
      "\u001b[1;31mFileNotFoundError\u001b[0m                         Traceback (most recent call last)",
      "\u001b[1;32mC:\\Windows\\Temp/ipykernel_1320/3331595278.py\u001b[0m in \u001b[0;36m<module>\u001b[1;34m\u001b[0m\n\u001b[0;32m      1\u001b[0m \u001b[1;32mimport\u001b[0m \u001b[0mstring\u001b[0m\u001b[1;33m\u001b[0m\u001b[1;33m\u001b[0m\u001b[0m\n\u001b[1;32m----> 2\u001b[1;33m \u001b[0mfhand\u001b[0m \u001b[1;33m=\u001b[0m \u001b[0mopen\u001b[0m\u001b[1;33m(\u001b[0m\u001b[1;34m'romeo-full.txt'\u001b[0m\u001b[1;33m)\u001b[0m\u001b[1;33m\u001b[0m\u001b[1;33m\u001b[0m\u001b[0m\n\u001b[0m\u001b[0;32m      3\u001b[0m \u001b[0mcounts\u001b[0m \u001b[1;33m=\u001b[0m \u001b[0mdict\u001b[0m\u001b[1;33m(\u001b[0m\u001b[1;33m)\u001b[0m\u001b[1;33m\u001b[0m\u001b[1;33m\u001b[0m\u001b[0m\n\u001b[0;32m      4\u001b[0m \u001b[1;32mfor\u001b[0m \u001b[0mline\u001b[0m \u001b[1;32min\u001b[0m \u001b[0mfhand\u001b[0m\u001b[1;33m:\u001b[0m\u001b[1;33m\u001b[0m\u001b[1;33m\u001b[0m\u001b[0m\n\u001b[0;32m      5\u001b[0m     \u001b[0mline\u001b[0m \u001b[1;33m=\u001b[0m \u001b[0mline\u001b[0m\u001b[1;33m.\u001b[0m\u001b[0mtranslate\u001b[0m\u001b[1;33m(\u001b[0m\u001b[0mstr\u001b[0m\u001b[1;33m.\u001b[0m\u001b[0mmaketrans\u001b[0m\u001b[1;33m(\u001b[0m\u001b[1;34m''\u001b[0m\u001b[1;33m,\u001b[0m \u001b[1;34m''\u001b[0m\u001b[1;33m,\u001b[0m \u001b[0mstring\u001b[0m\u001b[1;33m.\u001b[0m\u001b[0mpunctuation\u001b[0m\u001b[1;33m)\u001b[0m\u001b[1;33m)\u001b[0m\u001b[1;33m\u001b[0m\u001b[1;33m\u001b[0m\u001b[0m\n",
      "\u001b[1;31mFileNotFoundError\u001b[0m: [Errno 2] No such file or directory: 'romeo-full.txt'"
     ]
    }
   ],
   "source": [
    "import string\n",
    "fhand = open('romeo-full.txt')\n",
    "counts = dict()\n",
    "for line in fhand:\n",
    "    line = line.translate(str.maketrans('', '', string.punctuation))\n",
    "    line = line.lower()\n",
    "    words = line.split()\n",
    "    for word in words:\n",
    "        if word not in counts:\n",
    "            counts[word] = 1\n",
    "        else:\n",
    "            counts[word] += 1\n",
    "#Sort the dictionary by value\n",
    "lst = list()\n",
    "for key, val in list(counts.items()):\n",
    "    lst.append((val, key))\n",
    "lst.sort(reverse=True)\n",
    "for key, val in lst[:10]:\n",
    "    print(key, val)\n",
    "# Code: http://www.py4e.com/code3/count3.py\n"
   ]
  },
  {
   "cell_type": "markdown",
   "id": "8b94ef31",
   "metadata": {},
   "source": [
    "Using tuples as keys in dictionaries<br>\n",
    "<br>\n"
   ]
  },
  {
   "cell_type": "markdown",
   "id": "cb14d72f",
   "metadata": {},
   "source": [
    "<b>To Tuple or not to Tuple that is the question:</b><br>\n",
    "<br>\n",
    "Lists are more common than tuples, mostly because they are mutable. But there are a few cases where you might prefer tuples:\n",
    "<br>\n",
    "1. In some contexts, like a return statement, it is syntactically simpler to create\n",
    "a tuple than a list. In other contexts, you might prefer a list.\n",
    "2. If you want to use a sequence as a dictionary key, you have to use an immutable\n",
    "type like a tuple or string.\n",
    "3. If you are passing a sequence as an argument to a function, using tuples\n",
    "reduces the potential for unexpected behavior due to aliasing\n",
    "    \n",
    "    "
   ]
  },
  {
   "cell_type": "markdown",
   "id": "6e8451ae",
   "metadata": {},
   "source": [
    "10.11 Exercises"
   ]
  },
  {
   "cell_type": "markdown",
   "id": "991bd1a7",
   "metadata": {},
   "source": [
    "Exercise 1: Revise a previous program as follows: Read and parse the “From”\n",
    "lines and pull out the addresses from the line. Count the number of messages from\n",
    "each person using a dictionary.\n",
    "After all the data has been read, print the person with the most commits by\n",
    "creating a list of (count, email) tuples from the dictionary. Then sort the list in\n",
    "reverse order and print out the person who has the most commits.\n",
    "Sample Line:\n",
    "From stephen.marquard@uct.ac.za Sat Jan 5 09:14:16 2008\n",
    "Enter a file name: mbox-short.txt\n",
    "cwen@iupui.edu 5\n",
    "Enter a file name: mbox.txt\n",
    "zqian@umich.edu 195"
   ]
  },
  {
   "cell_type": "code",
   "execution_count": null,
   "id": "bb322c68",
   "metadata": {},
   "outputs": [],
   "source": []
  },
  {
   "cell_type": "markdown",
   "id": "65a7bd1e",
   "metadata": {},
   "source": [
    "Exercise 2: This program counts the distribution of the hour of the day for each\n",
    "of the messages. You can pull the hour from the “From” line by finding the time\n",
    "string and then splitting that string into parts using the colon character. Once\n",
    "you have accumulated the counts for each hour, print out the counts, one per line,\n",
    "sorted by hour as shown below.\n",
    "Sample Execution:\n",
    "python timeofday.py\n",
    "Enter a file name: mbox-short.txt\n",
    "04 3\n",
    "06 1\n",
    "07 1\n",
    "09 2\n",
    "10 3\n",
    "11 6\n",
    "14 1\n",
    "15 2\n",
    "16 4\n",
    "17 2\n",
    "18 1\n",
    "19 1"
   ]
  },
  {
   "cell_type": "code",
   "execution_count": null,
   "id": "73dbca7f",
   "metadata": {},
   "outputs": [],
   "source": []
  },
  {
   "cell_type": "markdown",
   "id": "0d243bca",
   "metadata": {},
   "source": [
    "Exercise 3: Write a program that reads a file and prints the letters in decreasing\n",
    "order of frequency. Your program should convert all the input to lower case and\n",
    "only count the letters a-z. Your program should not count spaces, digits, punctuation,\n",
    "or anything other than the letters a-z. Find text samples from several different\n",
    "languages and see how letter frequency varies between languages. Compare your\n",
    "results with the tables at wikipedia.org/wiki/Letter_frequencies."
   ]
  },
  {
   "cell_type": "code",
   "execution_count": null,
   "id": "5f35dd10",
   "metadata": {},
   "outputs": [],
   "source": []
  }
 ],
 "metadata": {
  "hide_input": false,
  "kernelspec": {
   "display_name": "Python 3 (ipykernel)",
   "language": "python",
   "name": "python3"
  },
  "language_info": {
   "codemirror_mode": {
    "name": "ipython",
    "version": 3
   },
   "file_extension": ".py",
   "mimetype": "text/x-python",
   "name": "python",
   "nbconvert_exporter": "python",
   "pygments_lexer": "ipython3",
   "version": "3.9.7"
  }
 },
 "nbformat": 4,
 "nbformat_minor": 5
}
