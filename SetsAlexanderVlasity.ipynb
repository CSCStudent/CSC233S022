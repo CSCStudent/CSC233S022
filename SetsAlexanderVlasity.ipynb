{
 "cells": [
  {
   "cell_type": "markdown",
   "id": "1a865a3a",
   "metadata": {},
   "source": [
    "# Sets"
   ]
  },
  {
   "cell_type": "markdown",
   "id": "b6820e33",
   "metadata": {},
   "source": [
    "### Definition:"
   ]
  },
  {
   "cell_type": "markdown",
   "id": "dd0b7c26",
   "metadata": {},
   "source": [
    "A Set is an unordered collection data type that is iterable, mutable and has no duplicate elements. Sets are used to store multiple items in a single variable."
   ]
  },
  {
   "cell_type": "markdown",
   "id": "aa7ff439",
   "metadata": {},
   "source": [
    "The major advantage of using a set, as opposed to a list, is that it has a highly optimized method for checking whether a specific element is contained in the set. This is based on a data structure known as a hash table. Since sets are unordered, we cannot access items using indexes like we do in lists."
   ]
  },
  {
   "cell_type": "markdown",
   "id": "bed5fbdc",
   "metadata": {},
   "source": [
    "Most important, a <b>set can contain different varaibale types.</b>"
   ]
  },
  {
   "cell_type": "code",
   "execution_count": 17,
   "id": "93d8aeff",
   "metadata": {},
   "outputs": [
    {
     "name": "stdout",
     "output_type": "stream",
     "text": [
      "{True, 34, 40, 'male', 'abc'}\n"
     ]
    }
   ],
   "source": [
    "set1 = {\"abc\", 34, True, 40, \"male\"}\n",
    "print(set1)"
   ]
  },
  {
   "cell_type": "markdown",
   "id": "8252e535",
   "metadata": {},
   "source": [
    "### Creating a Set:"
   ]
  },
  {
   "cell_type": "markdown",
   "id": "d844f6bf",
   "metadata": {},
   "source": [
    "There are a few ways to create a set. The first way is to use curly brackets \"{ }\"."
   ]
  },
  {
   "cell_type": "code",
   "execution_count": 1,
   "id": "ac7a0538",
   "metadata": {},
   "outputs": [
    {
     "name": "stdout",
     "output_type": "stream",
     "text": [
      "{'banana', 'cherry', 'apple'}\n"
     ]
    }
   ],
   "source": [
    "mySet = {\"apple\", \"banana\", \"cherry\"}\n",
    "print(mySet)"
   ]
  },
  {
   "cell_type": "markdown",
   "id": "99341514",
   "metadata": {},
   "source": [
    "Another way to create a set is to use the set() function with brackets \"[ ]\" containing your elements."
   ]
  },
  {
   "cell_type": "code",
   "execution_count": 2,
   "id": "5abd38c8",
   "metadata": {},
   "outputs": [
    {
     "name": "stdout",
     "output_type": "stream",
     "text": [
      "{'c', 'a', 'b'}\n"
     ]
    }
   ],
   "source": [
    "myset = set([\"a\", \"b\", \"c\"])\n",
    "print(myset)"
   ]
  },
  {
   "cell_type": "markdown",
   "id": "af79fc3a",
   "metadata": {},
   "source": [
    "Notice how the printed statement is out of order. This is due to sets being a unordered collection of data. "
   ]
  },
  {
   "cell_type": "markdown",
   "id": "8889e8b5",
   "metadata": {},
   "source": [
    "We are also able to create frozen sets which are immutable as opposed to mutable sets."
   ]
  },
  {
   "cell_type": "code",
   "execution_count": 3,
   "id": "217bab25",
   "metadata": {},
   "outputs": [
    {
     "name": "stdout",
     "output_type": "stream",
     "text": [
      "frozenset({'g', 'f', 'e'})\n"
     ]
    }
   ],
   "source": [
    "frozen_set = frozenset([\"e\", \"f\", \"g\"])\n",
    "print(frozen_set)"
   ]
  },
  {
   "cell_type": "markdown",
   "id": "041c8ed2",
   "metadata": {},
   "source": [
    "### Adding Elements to a Set:"
   ]
  },
  {
   "cell_type": "markdown",
   "id": "860fdc0d",
   "metadata": {},
   "source": [
    "Elements can be added to a set with the .add() function. Notice how the new element is added to the end of the set."
   ]
  },
  {
   "cell_type": "code",
   "execution_count": 4,
   "id": "31658a42",
   "metadata": {},
   "outputs": [
    {
     "name": "stdout",
     "output_type": "stream",
     "text": [
      "{'banana', 'cherry', 'apple', 'orange'}\n"
     ]
    }
   ],
   "source": [
    "mySet = {\"apple\", \"banana\", \"cherry\"}\n",
    "mySet.add(\"orange\")\n",
    "print(mySet)"
   ]
  },
  {
   "cell_type": "markdown",
   "id": "70758d94",
   "metadata": {},
   "source": [
    "### Removing Elements from a Set:"
   ]
  },
  {
   "cell_type": "markdown",
   "id": "8485c361",
   "metadata": {},
   "source": [
    "We can remove elements from a set by using the .remove() function."
   ]
  },
  {
   "cell_type": "code",
   "execution_count": 5,
   "id": "80f81fa6",
   "metadata": {},
   "outputs": [
    {
     "name": "stdout",
     "output_type": "stream",
     "text": [
      "{'banana', 'cherry'}\n"
     ]
    }
   ],
   "source": [
    "mySet = {\"apple\", \"banana\", \"cherry\"}\n",
    "mySet.remove(\"apple\")\n",
    "print(mySet)"
   ]
  },
  {
   "cell_type": "markdown",
   "id": "a1c0396e",
   "metadata": {},
   "source": [
    "### Union of Sets:"
   ]
  },
  {
   "cell_type": "markdown",
   "id": "d80905d2",
   "metadata": {},
   "source": [
    "Two sets can be merged using .union() function or | operator. Both Hash Table values are accessed and traversed with merge operation perform on them to combine the elements, at the same time duplicates are removed."
   ]
  },
  {
   "cell_type": "code",
   "execution_count": 6,
   "id": "6d2cb7d4",
   "metadata": {},
   "outputs": [
    {
     "name": "stdout",
     "output_type": "stream",
     "text": [
      "{'bird', 'cherry', 'apple', 'cat', 'banana', 'dog'}\n"
     ]
    }
   ],
   "source": [
    "fruitSet = {\"apple\", \"banana\", \"cherry\"}\n",
    "animalSet = {\"dog\", \"cat\", \"bird\"}\n",
    "elements = fruitSet.union(animalSet)\n",
    "print(elements)"
   ]
  },
  {
   "cell_type": "markdown",
   "id": "eae10160",
   "metadata": {},
   "source": [
    "### Intersection of Sets:"
   ]
  },
  {
   "cell_type": "markdown",
   "id": "bdc4ddc9",
   "metadata": {},
   "source": [
    "Two sets can be merged by using the .intersection() function or & operator. The intersection contains all values that are the same in all sets being merged. "
   ]
  },
  {
   "cell_type": "code",
   "execution_count": 10,
   "id": "7b206eba",
   "metadata": {},
   "outputs": [
    {
     "name": "stdout",
     "output_type": "stream",
     "text": [
      "{'banana', 'apple'}\n"
     ]
    }
   ],
   "source": [
    "fruitSet = {\"apple\", \"banana\", \"cherry\"}\n",
    "vegSet = {\"Lettuce\", \"apple\", \"banana\", \"carrot\"}\n",
    "elements = fruitSet.intersection(vegSet)\n",
    "print(elements)"
   ]
  },
  {
   "cell_type": "markdown",
   "id": "d5890670",
   "metadata": {},
   "source": [
    "### Difference of Sets:"
   ]
  },
  {
   "cell_type": "markdown",
   "id": "a138ea7e",
   "metadata": {},
   "source": [
    "To find the difference between sets we use the .difference() function or - operator. The difference contains all the values in the first set not contained by all the sets being merged."
   ]
  },
  {
   "cell_type": "code",
   "execution_count": 14,
   "id": "1d3e8053",
   "metadata": {},
   "outputs": [
    {
     "name": "stdout",
     "output_type": "stream",
     "text": [
      "{'cherry'}\n"
     ]
    }
   ],
   "source": [
    "fruitSet = {\"apple\", \"banana\", \"cherry\"}\n",
    "vegSet = {\"Lettuce\", \"apple\", \"banana\", \"carrot\"}\n",
    "elements = fruitSet.difference(vegSet)\n",
    "print(elements)"
   ]
  },
  {
   "cell_type": "markdown",
   "id": "53c7f662",
   "metadata": {},
   "source": [
    "### Other Set Functions:"
   ]
  },
  {
   "cell_type": "markdown",
   "id": "29654493",
   "metadata": {},
   "source": [
    "We can use the .clear() function to clear the values in a set."
   ]
  },
  {
   "cell_type": "code",
   "execution_count": 15,
   "id": "744de4a4",
   "metadata": {},
   "outputs": [
    {
     "name": "stdout",
     "output_type": "stream",
     "text": [
      "set()\n"
     ]
    }
   ],
   "source": [
    "fruitSet = {\"apple\", \"banana\", \"cherry\"}\n",
    "fruitSet.clear()\n",
    "print(fruitSet)"
   ]
  },
  {
   "cell_type": "markdown",
   "id": "1101f819",
   "metadata": {},
   "source": [
    "We can get the length of a set by using the len() function. This returns the number of elements in a set."
   ]
  },
  {
   "cell_type": "code",
   "execution_count": 16,
   "id": "6254bbb6",
   "metadata": {},
   "outputs": [
    {
     "name": "stdout",
     "output_type": "stream",
     "text": [
      "3\n"
     ]
    }
   ],
   "source": [
    "fruitSet = {\"apple\", \"banana\", \"cherry\"}\n",
    "print(len(fruitSet))"
   ]
  },
  {
   "cell_type": "code",
   "execution_count": null,
   "id": "51198f55",
   "metadata": {},
   "outputs": [],
   "source": []
  }
 ],
 "metadata": {
  "kernelspec": {
   "display_name": "Python 3 (ipykernel)",
   "language": "python",
   "name": "python3"
  },
  "language_info": {
   "codemirror_mode": {
    "name": "ipython",
    "version": 3
   },
   "file_extension": ".py",
   "mimetype": "text/x-python",
   "name": "python",
   "nbconvert_exporter": "python",
   "pygments_lexer": "ipython3",
   "version": "3.9.7"
  }
 },
 "nbformat": 4,
 "nbformat_minor": 5
}
