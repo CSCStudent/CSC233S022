{
 "cells": [
  {
   "cell_type": "code",
   "execution_count": 78,
   "id": "0a1d3507-bce1-4e99-bac8-c3dc3e44499d",
   "metadata": {},
   "outputs": [
    {
     "data": {
      "image/png": "[encoded data removed]",
      "text/plain": [
       "<Figure size 432x288 with 1 Axes>"
      ]
     },
     "metadata": {
      "needs_background": "light"
     },
     "output_type": "display_data"
    }
   ],
   "source": [
    "import numpy as np\n",
    "import matplotlib.pyplot as plt\n",
    "\n",
    "def p(x):\n",
    "    return x**4 - 4*x**2 + 3\n",
    "\n",
    "X = np.linspace(-3, 3, 50, endpoint=True)\n",
    "F = p(X)\n",
    "\n",
    "plt.grid(True)\n",
    "plt.plot(X,F)\n",
    "\n",
    "plt.show()"
   ]
  },
  {
   "cell_type": "code",
   "execution_count": 82,
   "id": "03f8303d-cc75-44c1-af2f-04d6feb57316",
   "metadata": {},
   "outputs": [
    {
     "data": {
      "image/png": "[encoded data removed]",
      "text/latex": [
       "$\\displaystyle x^{4} - 4 x^{2} + 3$"
      ],
      "text/plain": [
       " 4      2    \n",
       "x  - 4⋅x  + 3"
      ]
     },
     "execution_count": 82,
     "metadata": {},
     "output_type": "execute_result"
    }
   ],
   "source": [
    "from sympy import *\n",
    "\n",
    "init_printing()\n",
    "x = sympify(\"x\")\n",
    "F = p(x)\n",
    "f = expand(F)\n",
    "expand(F)\n"
   ]
  },
  {
   "cell_type": "code",
   "execution_count": 83,
   "id": "f0a14989-f5f6-4ef2-88e8-58bcddba134a",
   "metadata": {},
   "outputs": [
    {
     "data": {
      "image/png": "[encoded data removed]",
      "text/plain": [
       "<Figure size 432x288 with 1 Axes>"
      ]
     },
     "metadata": {
      "needs_background": "light"
     },
     "output_type": "display_data"
    },
    {
     "data": {
      "text/plain": [
       "<sympy.plotting.plot.Plot at 0x288d5672940>"
      ]
     },
     "execution_count": 83,
     "metadata": {},
     "output_type": "execute_result"
    }
   ],
   "source": [
    "plot(F,  xlim = (-4,4), ylim = (-10,50))"
   ]
  },
  {
   "cell_type": "code",
   "execution_count": 84,
   "id": "4991d2e3-dd97-4280-a677-0b2368bcc151",
   "metadata": {},
   "outputs": [
    {
     "data": {
      "image/png": "[encoded data removed]",
      "text/latex": [
       "$\\displaystyle \\left[ -1, \\  1, \\  - \\sqrt{3}, \\  \\sqrt{3}\\right]$"
      ],
      "text/plain": [
       "[-1, 1, -√3, √3]"
      ]
     },
     "execution_count": 84,
     "metadata": {},
     "output_type": "execute_result"
    }
   ],
   "source": [
    "solve(F)"
   ]
  },
  {
   "cell_type": "code",
   "execution_count": 38,
   "id": "fc52c469-05d4-4977-8201-ce38bc3c5553",
   "metadata": {},
   "outputs": [
    {
     "name": "stdout",
     "output_type": "stream",
     "text": [
      "3*x**4-5*x**2+2*x+7\n",
      "Polynomial(3, 0, -5, 2, 7)\n",
      "3*x**4-5*x**2+2*x+7\n"
     ]
    },
    {
     "data": {
      "image/png": "[encoded data removed]",
      "text/latex": [
       "$\\displaystyle 3 x^{4} - 5 x^{2} + 2 x + 7$"
      ],
      "text/plain": [
       "   4      2          \n",
       "3⋅x  - 5⋅x  + 2⋅x + 7"
      ]
     },
     "execution_count": 38,
     "metadata": {},
     "output_type": "execute_result"
    }
   ],
   "source": [
    "from sympy import *\n",
    "\n",
    "class Polynomial:      \n",
    "    def __init__(self, *coefficients):\n",
    "        \"\"\" input: coefficients are in the form a_n, ...a_1, a_0 \n",
    "        \"\"\"\n",
    "        self.coefficients = list(coefficients) # tuple is turned into a list\n",
    "     \n",
    "    \n",
    "    def __repr__(self):\n",
    "        \"\"\"\n",
    "        method to return the canonical string representation \n",
    "        of a polynomial.\n",
    "        \"\"\"\n",
    "        return \"Polynomial\" + str(tuple(self.coefficients))\n",
    "\n",
    "    \n",
    "    def __str__(self):\n",
    "        \n",
    "        def x_expr(degree):\n",
    "            if degree == 0:\n",
    "                res = \"\"\n",
    "            elif degree == 1:\n",
    "                res = \"x\"\n",
    "            else:\n",
    "                res = \"x**\"+str(degree)\n",
    "            return res\n",
    "\n",
    "        degree = len(self.coefficients) - 1\n",
    "        res = \"\"\n",
    "\n",
    "        for i in range(0, degree+1):\n",
    "            coeff = self.coefficients[i]\n",
    "            # nothing has to be done if coeff is 0:\n",
    "            if abs(coeff) == 1 and i < degree:\n",
    "                # 1 in front of x shouldn't occur, e.g. x instead of 1x\n",
    "                # but we need the plus or minus sign:\n",
    "                res += f\"{'+' if coeff>0 else '-'}{x_expr(degree-i)}\"  \n",
    "            elif coeff != 0:\n",
    "                if degree-i > 0:\n",
    "                    res += f\"{coeff:+g}*{x_expr(degree-i)}\" \n",
    "                else:\n",
    "                    res += f\"{coeff:+g}{x_expr(degree-i)}\"\n",
    "\n",
    "        return res.lstrip('+')    # removing leading '+'\n",
    "\n",
    "p = Polynomial(3, 0, -5, 2, 7)\n",
    "print(p)\n",
    "\n",
    "print(repr(p))\n",
    "p2 = eval(repr(p))\n",
    "print(p2)\n",
    " \n",
    "init_printing()\n",
    "expand(\"3*x**4-5*x**2+x+7\")\n",
    "x = sympify(\"x\")\n",
    "s = expand(p.__str__())\n",
    "s\n"
   ]
  }
 ],
 "metadata": {
  "kernelspec": {
   "display_name": "Python 3 (ipykernel)",
   "language": "python",
   "name": "python3"
  },
  "language_info": {
   "codemirror_mode": {
    "name": "ipython",
    "version": 3
   },
   "file_extension": ".py",
   "mimetype": "text/x-python",
   "name": "python",
   "nbconvert_exporter": "python",
   "pygments_lexer": "ipython3",
   "version": "3.9.7"
  }
 },
 "nbformat": 4,
 "nbformat_minor": 5
}
