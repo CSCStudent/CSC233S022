{
 "cells": [
  {
   "cell_type": "markdown",
   "id": "15b566a9",
   "metadata": {},
   "source": [
    "# Tuples"
   ]
  },
  {
   "cell_type": "markdown",
   "id": "dce47bea",
   "metadata": {},
   "source": [
    "Tuples are a data type used to store collections of data. Tuples are ordered, indexed, and immutable. being immutable, tuples can be used as keys in dictionaries. Essentially tuples are python's version of arrays from  java or c++. However, unlike arrays the values stored in tuples are also unchangeable. unlike dictionaries and sets, tuples allows for duplicate values. "
   ]
  },
  {
   "cell_type": "code",
   "execution_count": 42,
   "id": "e0a8e4a0",
   "metadata": {},
   "outputs": [
    {
     "name": "stdout",
     "output_type": "stream",
     "text": [
      "('one', 2, [3, 5], False)\n",
      "one\n",
      "5\n",
      "True\n"
     ]
    }
   ],
   "source": [
    "myTuple = (\"one\", 2, [3, 5] , False)\n",
    "anotherTuple = tuple((1,\"two\", True, \"four\")) #when using the tuple constructor, note the double parenthases\n",
    "print(myTuple)\n",
    "print(myTuple[0])\n",
    "print(myTuple[2][1])\n",
    "\n",
    "print(anotherTuple[2])\n"
   ]
  },
  {
   "cell_type": "markdown",
   "id": "0d7fd9f1",
   "metadata": {},
   "source": [
    "## Modifing tuples"
   ]
  },
  {
   "cell_type": "markdown",
   "id": "19a42d53",
   "metadata": {},
   "source": [
    "Typically tuples can't be modified after they are created. The values cant be changed, they cant be added or removed from. however we can work around this limitation by first converting the tuple to a list, then modifying it, then changeing it back to a tuple. \n",
    "\n",
    "tuples can be added to other tuples without having to convert them first"
   ]
  },
  {
   "cell_type": "code",
   "execution_count": 43,
   "id": "610cb40c",
   "metadata": {},
   "outputs": [
    {
     "name": "stdout",
     "output_type": "stream",
     "text": [
      "('one', 2, [3, 5], False)\n",
      "('one', 1324, [3, 5], False, 'another Value')\n",
      "('one', 1324, [3, 5], False, 'another Value', 'apple')\n"
     ]
    }
   ],
   "source": [
    "print(myTuple)\n",
    "\n",
    "temp = list(myTuple)\n",
    "temp.append(\"another Value\")\n",
    "temp[1] = 1324 #we can also change individual items after converting to a list\n",
    "myTuple = tuple(temp)\n",
    "\n",
    "print(myTuple)\n",
    "\n",
    "myTuple = myTuple + (\"apple\",) #notice the ',' (\"something\") is not a tuple, however (\"something\", )is\n",
    "print(myTuple)"
   ]
  },
  {
   "cell_type": "markdown",
   "id": "65192b65",
   "metadata": {},
   "source": [
    "We can remove items in a similar way as adding"
   ]
  },
  {
   "cell_type": "code",
   "execution_count": 44,
   "id": "7be5effd",
   "metadata": {},
   "outputs": [
    {
     "name": "stdout",
     "output_type": "stream",
     "text": [
      "('one', 1324, [3, 5], False, 'another Value', 'apple')\n",
      "('one', 1324, [3, 5], False, 'apple')\n"
     ]
    }
   ],
   "source": [
    "print(myTuple)\n",
    "\n",
    "temp = list(myTuple)\n",
    "if \"another Value\" in temp:\n",
    "    temp.remove(\"another Value\")\n",
    "myTuple = tuple(temp)\n",
    "\n",
    "print(myTuple)\n"
   ]
  },
  {
   "cell_type": "markdown",
   "id": "fa35f307",
   "metadata": {},
   "source": [
    "## Unpacking tuples"
   ]
  },
  {
   "cell_type": "markdown",
   "id": "c0cef873",
   "metadata": {},
   "source": [
    "we can assign the values of a tuple to multipul variables at the same time. If the number of variables is less then the number of values in a tuple we can use the asterisk * to assinge multipule values as a list to that variable."
   ]
  },
  {
   "cell_type": "code",
   "execution_count": 45,
   "id": "a7b0d6b7",
   "metadata": {},
   "outputs": [
    {
     "name": "stdout",
     "output_type": "stream",
     "text": [
      "red green blue\n",
      "red blue\n",
      "('red', 'green', 'blue', 'red', 'green', 'blue')\n",
      "red green ['blue', 'red', 'green', 'blue']\n",
      "red ['green', 'blue', 'red', 'green'] blue\n"
     ]
    }
   ],
   "source": [
    "del(myTuple)\n",
    "\n",
    "myTuple = (\"red\", \"green\", \"blue\")\n",
    "apple, grass, sky = myTuple #we can unpack the values of a tuple into seperate variables\n",
    "\n",
    "#if we only need specific values from the tuple we can use the underscore \"_\" to skip that value\n",
    "fireTruck, _, car = myTuple \n",
    "\n",
    "print(apple + \" \" + grass + \" \" + sky)\n",
    "print(fireTruck + \" \" + car)\n",
    "\n",
    "myTuple = myTuple * 2 #we can make duplicate values of a tuple and add them to the end of the tuple\n",
    "print(myTuple)\n",
    "\n",
    "apple, grass, *car = myTuple #myTuple has 6 values, but only 3 variables are given, so cars stores the last 4 as a list\n",
    "print(str(apple) + \" \" + str(grass) + \" \" + str(car))\n",
    "\n",
    "#if the asterisk is not use on the last variable then enough values will be assigned to \n",
    "#that variable such that there is just enough values for the rest of the variables\n",
    "apples, *grass, car = myTuple \n",
    "print(str(apple) + \" \" + str(grass) + \" \" + str(car))"
   ]
  },
  {
   "cell_type": "code",
   "execution_count": null,
   "id": "0dd79d85",
   "metadata": {},
   "outputs": [],
   "source": []
  }
 ],
 "metadata": {
  "kernelspec": {
   "display_name": "Python 3 (ipykernel)",
   "language": "python",
   "name": "python3"
  },
  "language_info": {
   "codemirror_mode": {
    "name": "ipython",
    "version": 3
   },
   "file_extension": ".py",
   "mimetype": "text/x-python",
   "name": "python",
   "nbconvert_exporter": "python",
   "pygments_lexer": "ipython3",
   "version": "3.9.7"
  }
 },
 "nbformat": 4,
 "nbformat_minor": 5
}
