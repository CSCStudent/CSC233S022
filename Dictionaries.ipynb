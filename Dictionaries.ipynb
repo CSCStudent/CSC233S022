{
 "cells": [
  {
   "cell_type": "markdown",
   "id": "6b99ac91",
   "metadata": {},
   "source": [
    "A <b>dictionary</b> is an unordered associative array that is a mapping between a set of indices (which are\n",
    "called keys) and a set of values. Each key maps to a value.  In a list, the index positions have to\n",
    "be integers but in a dictionary, the indices can be (almost) any type.\n",
    "\n",
    "The association of a key and a value is called a key-value pair or sometimes an item.\n",
    "As an example, we’ll build a dictionary that maps from English to Spanish"
   ]
  },
  {
   "cell_type": "code",
   "execution_count": 7,
   "id": "6a13cca1",
   "metadata": {},
   "outputs": [
    {
     "name": "stdout",
     "output_type": "stream",
     "text": [
      "{'GOOG': (100, 490.1)}\n",
      "(100, 490.1)\n",
      "number of shares: 100 at price 490.10\n",
      "(100, 490.1)\n",
      "(20, 91.5)\n",
      "my portfolio: ['GOOG', 'IBM']\n",
      "my portfolio: {'GOOG': (100, 490.1)}\n"
     ]
    }
   ],
   "source": [
    "#use a constructor to instantiate a dictionary object\n",
    "shares = dict()\n",
    "\n",
    "shares[\"GOOG\"] = (100, 490.10)\n",
    "mystocks = dict(shares)\n",
    "print(mystocks)\n",
    "\n",
    "print(mystocks[\"GOOG\"])\n",
    "\n",
    "numShares, price = shares[\"GOOG\"]\n",
    "print(f\"number of shares: {numShares} at price %.2f\" %price)\n",
    "\n",
    "shares[\"IBM\"] = (20, 91.50)\n",
    "mystocks[\"IBM\"] = shares[\"IBM\"]  #add it to stocks I own\n",
    "\n",
    "for s in mystocks:\n",
    "    print (mystocks[s])\n",
    "    \n",
    "portfolio = list(mystocks)  #dictionary keys as a list\n",
    "print(f\"my portfolio: {portfolio}\")\n",
    "\n",
    "del mystocks[\"IBM\"]\n",
    "print(f\"my portfolio: {mystocks}\")"
   ]
  },
  {
   "cell_type": "code",
   "execution_count": 5,
   "id": "2ef217a3",
   "metadata": {},
   "outputs": [
    {
     "name": "stdout",
     "output_type": "stream",
     "text": [
      "{'b': 1}\n",
      "{'b': 1, 'r': 1}\n",
      "{'b': 1, 'r': 1, 'o': 1}\n",
      "{'b': 1, 'r': 1, 'o': 1, 'n': 1}\n",
      "{'b': 1, 'r': 1, 'o': 1, 'n': 1, 't': 1}\n",
      "{'b': 1, 'r': 1, 'o': 2, 'n': 1, 't': 1}\n",
      "{'b': 1, 'r': 1, 'o': 2, 'n': 1, 't': 1, 's': 1}\n",
      "{'b': 1, 'r': 1, 'o': 2, 'n': 1, 't': 1, 's': 1, 'a': 1}\n",
      "{'b': 1, 'r': 1, 'o': 2, 'n': 1, 't': 1, 's': 1, 'a': 1, 'u': 1}\n",
      "{'b': 1, 'r': 2, 'o': 2, 'n': 1, 't': 1, 's': 1, 'a': 1, 'u': 1}\n",
      "{'b': 1, 'r': 2, 'o': 2, 'n': 1, 't': 1, 's': 1, 'a': 1, 'u': 2}\n",
      "{'b': 1, 'r': 2, 'o': 2, 'n': 1, 't': 1, 's': 2, 'a': 1, 'u': 2}\n",
      "{'b': 1, 'r': 2, 'o': 2, 'n': 1, 't': 1, 's': 2, 'a': 1, 'u': 2}\n"
     ]
    }
   ],
   "source": [
    "word = 'brontosaurus'\n",
    "#key is the letter, value is count\n",
    "d = dict()\n",
    "for c in word:\n",
    "    if c not in d:\n",
    "        d[c] = 1\n",
    "    else:\n",
    "        d[c] = d[c] + 1\n",
    "    print(d)\n",
    "print(d)"
   ]
  }
 ],
 "metadata": {
  "hide_input": false,
  "kernelspec": {
   "display_name": "Python 3 (ipykernel)",
   "language": "python",
   "name": "python3"
  },
  "language_info": {
   "codemirror_mode": {
    "name": "ipython",
    "version": 3
   },
   "file_extension": ".py",
   "mimetype": "text/x-python",
   "name": "python",
   "nbconvert_exporter": "python",
   "pygments_lexer": "ipython3",
   "version": "3.9.7"
  }
 },
 "nbformat": 4,
 "nbformat_minor": 5
}
