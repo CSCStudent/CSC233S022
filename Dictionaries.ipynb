{
 "cells": [
  {
   "cell_type": "markdown",
   "id": "6b99ac91",
   "metadata": {},
   "source": [
    "A <b>dictionary</b> is an unordered associative array that is a mapping between a set of indices (which are\n",
    "called keys) and a set of values. Each key maps to a value.  In a list, the index positions have to\n",
    "be integers but in a dictionary, the indices can be (almost) any type.\n",
    "\n",
    "The association of a key and a value is called a key-value pair or sometimes an item.\n",
    "As an example, we’ll build a dictionary that maps from English to Spanish"
   ]
  },
  {
   "cell_type": "code",
   "execution_count": 21,
   "id": "6a13cca1",
   "metadata": {},
   "outputs": [
    {
     "name": "stdout",
     "output_type": "stream",
     "text": [
      "['GOOG']\n",
      "{'GOOG': (100, 490.1)}\n",
      "number of shares: 100 at price 490.10\n",
      "GOOG\n",
      "IBM\n",
      "my portfolio: ['GOOG', 'IBM']\n",
      "my portfolio: {'GOOG': {'GOOG': (100, 490.1)}}\n"
     ]
    }
   ],
   "source": [
    "#use a constructor to instantiate a dictionary object\n",
    "shares = dict()\n",
    "\n",
    "shares[\"GOOG\"] = (100, 490.10)\n",
    "mystocks[\"GOOG\"] = dict(shares)\n",
    "print(myStocks)\n",
    "\n",
    "print(mystocks[\"GOOG\"])\n",
    "\n",
    "numShares, price = shares[\"GOOG\"]\n",
    "print(f\"number of shares: {numShares} at price %.2f\" %price)\n",
    "\n",
    "shares[\"IBM\"] = (20, 91.50)\n",
    "mystocks[\"IBM\"] = shares[\"IBM\"]  #add it to stocks I own\n",
    "\n",
    "for s in mystocks:\n",
    "    print (s)\n",
    "    \n",
    "portfolio = list(mystocks)  #dictionary keys as a list\n",
    "print(f\"my portfolio: {portfolio}\")\n",
    "\n",
    "del mystocks[\"IBM\"]\n",
    "print(f\"my portfolio: {mystocks}\")"
   ]
  }
 ],
 "metadata": {
  "hide_input": false,
  "kernelspec": {
   "display_name": "Python 3 (ipykernel)",
   "language": "python",
   "name": "python3"
  },
  "language_info": {
   "codemirror_mode": {
    "name": "ipython",
    "version": 3
   },
   "file_extension": ".py",
   "mimetype": "text/x-python",
   "name": "python",
   "nbconvert_exporter": "python",
   "pygments_lexer": "ipython3",
   "version": "3.9.7"
  }
 },
 "nbformat": 4,
 "nbformat_minor": 5
}
