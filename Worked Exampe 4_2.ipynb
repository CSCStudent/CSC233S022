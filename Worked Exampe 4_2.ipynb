{
 "cells": [
  {
   "cell_type": "markdown",
   "id": "3ac3871a",
   "metadata": {},
   "source": [
    "#   A Grade Distribution Histogram"
   ]
  },
  {
   "cell_type": "markdown",
   "id": "86e8c959",
   "metadata": {},
   "source": [
    "Histograms are used to show the distribution of data across a fixed number of categories. They are essentially bar charts in which the height of a bar indicates the number of items in a category. Your task is to construct a histogram to visualize the distribution of letter grades for a single class, using the plotting package described in Toolbox 3.2. The grades are entered as numerical values that must be converted to the appropriate letter grade."
   ]
  },
  {
   "cell_type": "code",
   "execution_count": 3,
   "id": "270afc8a",
   "metadata": {},
   "outputs": [
    {
     "name": "stdout",
     "output_type": "stream",
     "text": [
      "Enter exam grade or -1 to finish: 80\n",
      "Enter exam grade or -1 to finish: 85\n",
      "Enter exam grade or -1 to finish: 90\n",
      "Enter exam grade or -1 to finish: -1\n"
     ]
    },
    {
     "data": {
      "image/png": "[encoded data removed]",
      "text/plain": [
       "<Figure size 432x288 with 1 Axes>"
      ]
     },
     "metadata": {
      "needs_background": "light"
     },
     "output_type": "display_data"
    }
   ],
   "source": [
    "##\n",
    "#  This program reads numerical exam grades from the user and produces a grade \n",
    "#  distribution histogram.\n",
    "#\n",
    "\n",
    "from matplotlib import pyplot\n",
    "\n",
    "# Initialize the variables used to maintain the grade counts.\n",
    "numAs = 0\n",
    "numBs = 0\n",
    "numCs = 0\n",
    "numDs = 0\n",
    "numFs = 0\n",
    "\n",
    "# Use a while loop with a priming read to obtain the exam grades.\n",
    "grade = int(input(\"Enter exam grade or -1 to finish: \"))\n",
    "while grade >= 0 :\n",
    "   if grade >= 90.0 :\n",
    "      numAs = numAs + 1\n",
    "   elif grade >= 80.0 :\n",
    "      numBs = numBs + 1\n",
    "   elif grade >= 70.0 :\n",
    "      numCs = numCs + 1\n",
    "   elif grade >= 60.0 :\n",
    "      numDs = numDs + 1\n",
    "   else :\n",
    "      numFs = numFs + 1\n",
    "    \n",
    "   grade = int(input(\"Enter exam grade or -1 to finish: \"))\n",
    "  \n",
    "# Plot the grade distribution.\n",
    "pyplot.bar(1, numAs)\n",
    "pyplot.bar(2, numBs)\n",
    "pyplot.bar(3, numCs)\n",
    "pyplot.bar(4, numDs) \n",
    "pyplot.bar(5, numFs) \n",
    "\n",
    "# Add axis labels.\n",
    "pyplot.xlabel(\"Grades\")\n",
    "pyplot.ylabel(\"Number of Students\")\n",
    "\n",
    "# Add a title that indicates the total number of students.\n",
    "numStudents = numAs + numBs + numCs + numDs + numFs\n",
    "pyplot.title(\"%d students\\nGrade Distribution\" % numStudents)\n",
    "\n",
    "# Add the letter grades as labels under the bars.\n",
    "pyplot.xticks([1.4, 2.4, 3.4, 4.4, 5.4], [\"A\", \"B\", \"C\", \"D\", \"F\"])\n",
    "\n",
    "# Display the graph.\n",
    "pyplot.show()\n",
    "\n"
   ]
  }
 ],
 "metadata": {
  "kernelspec": {
   "display_name": "Python 3 (ipykernel)",
   "language": "python",
   "name": "python3"
  },
  "language_info": {
   "codemirror_mode": {
    "name": "ipython",
    "version": 3
   },
   "file_extension": ".py",
   "mimetype": "text/x-python",
   "name": "python",
   "nbconvert_exporter": "python",
   "pygments_lexer": "ipython3",
   "version": "3.9.7"
  }
 },
 "nbformat": 4,
 "nbformat_minor": 5
}
