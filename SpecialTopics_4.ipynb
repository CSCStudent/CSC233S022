{
 "cells": [
  {
   "cell_type": "markdown",
   "id": "30179321",
   "metadata": {},
   "source": [
    "## Processing Sentinel Values with a Boolean Variable"
   ]
  },
  {
   "cell_type": "markdown",
   "id": "d2fa1b43",
   "metadata": {},
   "source": [
    "Seninel expressions can be processed using a Boolean variable for loop control."
   ]
  },
  {
   "cell_type": "code",
   "execution_count": null,
   "id": "ccc43a64",
   "metadata": {},
   "outputs": [],
   "source": [
    "done = False\n",
    "while not done:\n",
    "    value = float(input(\"enter price or -1 to finish: \"))\n",
    "    if value < 0.0:\n",
    "        done = True\n",
    "    else:\n",
    "        # process the input!!\n",
    "        pass"
   ]
  },
  {
   "cell_type": "markdown",
   "id": "07e641d8",
   "metadata": {},
   "source": [
    "The <b>break</b> statement terminates the enclosing loop."
   ]
  },
  {
   "cell_type": "code",
   "execution_count": null,
   "id": "4eb74c13",
   "metadata": {},
   "outputs": [],
   "source": [
    "while True:\n",
    "    value = float(input(\"enter price or -1 to finish: \"))\n",
    "    if value < 0.0:\n",
    "        break\n",
    "    else:\n",
    "        # process the input!!\n",
    "        pass    "
   ]
  },
  {
   "cell_type": "markdown",
   "id": "4a8a2659",
   "metadata": {},
   "source": [
    "## Common Loop Code Structure"
   ]
  },
  {
   "cell_type": "code",
   "execution_count": null,
   "id": "587f5316",
   "metadata": {},
   "outputs": [],
   "source": [
    "##\n",
    "#  This program computes information related to a sequence of grades obtained\n",
    "#  from the user. It computes the number of passing and failing grades, \n",
    "#  computes the average grade and finds the highest and lowest grade.\n",
    "#\n",
    "\n",
    "# Initialize the counter variables.\n",
    "numPassing = 0\n",
    "numFailing = 0\n",
    "\n",
    "# Initialize the variables used to compute the average.\n",
    "total = 0\n",
    "count = 0\n",
    "\n",
    "# Initialize the min and max variables.\n",
    "minGrade = 100.0        # Assuming 100 is the highest grade possible.\n",
    "maxGrade = 0.0\n",
    "\n",
    "# Use a while loop with a priming read to obtain the grades.\n",
    "grade = float(input(\"Enter a grade or -1 to finish: \"))\n",
    "while grade >= 0.0 :\n",
    "   # Increment the passing or failing counter.\n",
    "   if grade >= 60.0 :\n",
    "      numPassing = numPassing + 1\n",
    "   else :\n",
    "      numFailing = numFailing + 1\n",
    "      \n",
    "   # Determine if the grade is the min or max grade.\n",
    "   if grade < minGrade :\n",
    "      minGrade = grade\n",
    "   if grade > maxGrade :\n",
    "      maxGrade = grade\n",
    "      \n",
    "   # Add the grade to the running total.\n",
    "   total = total + grade\n",
    "   count = count + 1\n",
    "      \n",
    "   # Read the next grade.\n",
    "   grade = float(input(\"Enter a grade or -1 to finish: \")) \n",
    "\n",
    "# Print the results.\n",
    "if count > 0 :\n",
    "   average = total / count\n",
    "   print(\"The average grade is %.2f\" % average)\n",
    "   print(\"Number of passing grades is\", numPassing)\n",
    "   print(\"Number of failing grades is\", numFailing)\n",
    "   print(\"The maximum grade is %.2f\" % maxGrade)\n",
    "   print(\"The minimum grade is %.2f\" % minGrade)\n",
    "\n"
   ]
  }
 ],
 "metadata": {
  "hide_input": false,
  "kernelspec": {
   "display_name": "Python 3 (ipykernel)",
   "language": "python",
   "name": "python3"
  },
  "language_info": {
   "codemirror_mode": {
    "name": "ipython",
    "version": 3
   },
   "file_extension": ".py",
   "mimetype": "text/x-python",
   "name": "python",
   "nbconvert_exporter": "python",
   "pygments_lexer": "ipython3",
   "version": "3.9.7"
  }
 },
 "nbformat": 4,
 "nbformat_minor": 5
}
