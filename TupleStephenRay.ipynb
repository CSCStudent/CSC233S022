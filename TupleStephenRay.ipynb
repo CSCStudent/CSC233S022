{
 "cells": [
  {
   "cell_type": "markdown",
   "id": "2559150a",
   "metadata": {},
   "source": [
    "A <b>tuple</b>\n",
    "is a sequence of values much like a list. The values stored in a tuple can\n",
    "be any type, and they are indexed by integers. The important difference is that\n",
    "tuples are <b>immutable</b>. Tuples are also comparable and hashable so we can sort lists\n",
    "of them and use tuples as key values in Python dictionaries.\n",
    "Syntactically, a tuple is a comma-separated list of values. Number of values are theoretically unlimited."
   ]
  },
  {
   "cell_type": "markdown",
   "id": "3cd1820b",
   "metadata": {},
   "source": [
    "How to create a tuple: "
   ]
  },
  {
   "cell_type": "code",
   "execution_count": 2,
   "id": "a8240f9d",
   "metadata": {},
   "outputs": [
    {
     "name": "stdout",
     "output_type": "stream",
     "text": [
      "('a', 3, 'c', 'Goober', 'e')\n"
     ]
    }
   ],
   "source": [
    "t = 'a', 3, 'c', \"Goober\", 'e'\n",
    "print(t)"
   ]
  },
  {
   "cell_type": "markdown",
   "id": "f4aca82b",
   "metadata": {},
   "source": [
    "Tuple with a single value (Add a comma):"
   ]
  },
  {
   "cell_type": "code",
   "execution_count": 3,
   "id": "b2103190",
   "metadata": {},
   "outputs": [
    {
     "name": "stdout",
     "output_type": "stream",
     "text": [
      "('a',)\n"
     ]
    }
   ],
   "source": [
    "t1 = ('a',)\n",
    "print(t1)\n"
   ]
  },
  {
   "cell_type": "markdown",
   "id": "c19a4d19",
   "metadata": {},
   "source": [
    "Slice operator is a left inclusive operator:"
   ]
  },
  {
   "cell_type": "code",
   "execution_count": 5,
   "id": "9de74567",
   "metadata": {},
   "outputs": [
    {
     "name": "stdout",
     "output_type": "stream",
     "text": [
      "a\n",
      "a\n"
     ]
    }
   ],
   "source": [
    "print(t1[0])\n",
    "x = t1[0]\n",
    "print(x)"
   ]
  },
  {
   "cell_type": "code",
   "execution_count": 7,
   "id": "568b36eb",
   "metadata": {},
   "outputs": [
    {
     "name": "stdout",
     "output_type": "stream",
     "text": [
      "('a', 3, 'c', 'Goober')\n"
     ]
    }
   ],
   "source": [
    "print(t[0:4])"
   ]
  },
  {
   "cell_type": "markdown",
   "id": "a1118a65",
   "metadata": {},
   "source": [
    "<b>Comparing tuples</b>\n",
    "\n",
    "The comparison operators work with tuples and other sequences. Python starts by\n",
    "comparing the first element from each sequence. If they are equal, it goes on to the\n",
    "next element, and so on, until it finds elements that differ. Subsequent elements\n",
    "are not considered (even if they are really big).\n",
    "\n"
   ]
  },
  {
   "cell_type": "code",
   "execution_count": 1,
   "id": "4dd750cc",
   "metadata": {},
   "outputs": [
    {
     "name": "stdout",
     "output_type": "stream",
     "text": [
      "['yonder', 'window', 'breaks', 'light', 'what', 'soft', 'but', 'in']\n"
     ]
    }
   ],
   "source": [
    "txt = 'but soft what light in yonder window breaks'\n",
    "words = txt.split()\n",
    "t = list()\n",
    "for word in words:\n",
    "    t.append((len(word), word))\n",
    "\n",
    "t.sort(reverse=True)\n",
    "\n",
    "res = list()\n",
    "for length, word in t:\n",
    "    res.append(word)\n",
    "\n",
    "print(res)"
   ]
  },
  {
   "cell_type": "markdown",
   "id": "59496131",
   "metadata": {},
   "source": [
    "<b>Tuple Assignment</b>\n",
    "\n",
    "One of the unique syntactic features of the Python language is the ability to have\n",
    "a tuple on the left side of an assignment statement. This allows you to assign more\n",
    "than one variable at a time when the left side is a sequence.\n",
    "In this example we have a two-element list (which is a sequence) and assign the first\n",
    "and second elements of the sequence to the variables x and y in a single statement.\n",
    "\n",
    "m = ['have', 'fun']\n",
    "x, y = m\n",
    "x = 'have'\n",
    "y = 'fun'"
   ]
  },
  {
   "cell_type": "markdown",
   "id": "b5aa3a18",
   "metadata": {},
   "source": [
    "<b>Dictionaries and Tuples</b>\n",
    "\n",
    "Dictionaries have a method called items that returns a list of tuples, where each\n",
    "tuple is a key-value pair:\n",
    "\n",
    "As you should expect from a dictionary, the items are in no particular order.\n",
    "However, since the list of tuples is a list, and tuples are comparable, we can now\n",
    "sort the list of tuples. Converting a dictionary to a list of tuples is a way for us to\n",
    "output the contents of a dictionary sorted by key:\n"
   ]
  },
  {
   "cell_type": "code",
   "execution_count": 5,
   "id": "fb54f525",
   "metadata": {},
   "outputs": [
    {
     "name": "stdout",
     "output_type": "stream",
     "text": [
      "[('a', 10), ('b', 1), ('c', 22)]\n"
     ]
    }
   ],
   "source": [
    "d = {'a':10, 'b':1, 'c':22}\n",
    "t = list(d.items())\n",
    "t.sort()\n",
    "print(t)"
   ]
  },
  {
   "cell_type": "markdown",
   "id": "ae2dc1dd",
   "metadata": {},
   "source": [
    "<b>Multiple Assignment with Dictionaries</b>\n",
    "\n",
    "Combining items, tuple assignment, and for, you can see a nice code pattern for\n",
    "traversing the keys and values of a dictionary in a single loop:\n",
    "\n",
    "for key, val in list(d.items()):\n",
    "    print(val, key)\n",
    "    \n",
    "This loop has two iteration variables because items returns a list of tuples and key,\n",
    "val is a tuple assignment that successively iterates through each of the key-value\n",
    "pairs in the dictionary.\n",
    "For each iteration through the loop, both key and value are advanced to the next\n",
    "key-value pair in the dictionary (still in hash order).\n"
   ]
  },
  {
   "cell_type": "markdown",
   "id": "1fe9c28f",
   "metadata": {},
   "source": [
    "<b>The Most Common Words</b>\n",
    "\n",
    "Coming back to our running example of the text from Romeo and Juliet Act 2,\n",
    "Scene 2, we can augment our program to use this technique to print the ten most\n",
    "common words in the text as follows:\n"
   ]
  },
  {
   "cell_type": "code",
   "execution_count": 7,
   "id": "95b4492b",
   "metadata": {
    "scrolled": false
   },
   "outputs": [
    {
     "ename": "FileNotFoundError",
     "evalue": "[Errno 2] No such file or directory: 'romeo-full.txt'",
     "output_type": "error",
     "traceback": [
      "\u001b[1;31m---------------------------------------------------------------------------\u001b[0m",
      "\u001b[1;31mFileNotFoundError\u001b[0m                         Traceback (most recent call last)",
      "\u001b[1;32m~\\AppData\\Local\\Temp/ipykernel_13332/606240267.py\u001b[0m in \u001b[0;36m<module>\u001b[1;34m\u001b[0m\n\u001b[0;32m      1\u001b[0m \u001b[1;32mimport\u001b[0m \u001b[0mstring\u001b[0m\u001b[1;33m\u001b[0m\u001b[1;33m\u001b[0m\u001b[0m\n\u001b[1;32m----> 2\u001b[1;33m \u001b[0mfhand\u001b[0m \u001b[1;33m=\u001b[0m \u001b[0mopen\u001b[0m\u001b[1;33m(\u001b[0m\u001b[1;34m'romeo-full.txt'\u001b[0m\u001b[1;33m)\u001b[0m\u001b[1;33m\u001b[0m\u001b[1;33m\u001b[0m\u001b[0m\n\u001b[0m\u001b[0;32m      3\u001b[0m \u001b[0mcounts\u001b[0m \u001b[1;33m=\u001b[0m \u001b[0mdict\u001b[0m\u001b[1;33m(\u001b[0m\u001b[1;33m)\u001b[0m\u001b[1;33m\u001b[0m\u001b[1;33m\u001b[0m\u001b[0m\n\u001b[0;32m      4\u001b[0m \u001b[1;32mfor\u001b[0m \u001b[0mline\u001b[0m \u001b[1;32min\u001b[0m \u001b[0mfhand\u001b[0m\u001b[1;33m:\u001b[0m\u001b[1;33m\u001b[0m\u001b[1;33m\u001b[0m\u001b[0m\n\u001b[0;32m      5\u001b[0m     \u001b[0mline\u001b[0m \u001b[1;33m=\u001b[0m \u001b[0mline\u001b[0m\u001b[1;33m.\u001b[0m\u001b[0mtranslate\u001b[0m\u001b[1;33m(\u001b[0m\u001b[0mstr\u001b[0m\u001b[1;33m.\u001b[0m\u001b[0mmaketrans\u001b[0m\u001b[1;33m(\u001b[0m\u001b[1;34m''\u001b[0m\u001b[1;33m,\u001b[0m \u001b[1;34m''\u001b[0m\u001b[1;33m,\u001b[0m \u001b[0mstring\u001b[0m\u001b[1;33m.\u001b[0m\u001b[0mpunctuation\u001b[0m\u001b[1;33m)\u001b[0m\u001b[1;33m)\u001b[0m\u001b[1;33m\u001b[0m\u001b[1;33m\u001b[0m\u001b[0m\n",
      "\u001b[1;31mFileNotFoundError\u001b[0m: [Errno 2] No such file or directory: 'romeo-full.txt'"
     ]
    }
   ],
   "source": [
    "import string\n",
    "#NOTE need access to romeo-full.txt\n",
    "fhand = open('romeo-full.txt')\n",
    "counts = dict()\n",
    "for line in fhand:\n",
    "    line = line.translate(str.maketrans('', '', string.punctuation))\n",
    "    line = line.lower()\n",
    "    words = line.split()\n",
    "    for word in words:\n",
    "        if word not in counts:\n",
    "            counts[word] = 1\n",
    "        else:\n",
    "            counts[word] += 1\n",
    "\n",
    "# Sort the dictionary by value\n",
    "lst = list()\n",
    "for key, val in list(counts.items()):\n",
    "    lst.append((val, key))\n",
    "\n",
    "lst.sort(reverse=True)\n",
    "\n",
    "for key, val in lst[:10]:\n",
    "    print(key, val)"
   ]
  },
  {
   "cell_type": "markdown",
   "id": "a1dc19d2",
   "metadata": {},
   "source": [
    "The first part of the program which reads the file and computes the dictionary\n",
    "that maps each word to the count of words in the document is unchanged. But\n",
    "instead of simply printing out counts and ending the program, we construct a list\n",
    "of (val, key) tuples and then sort the list in reverse order.\n",
    "Since the value is first, it will be used for the comparisons. If there is more than\n",
    "one tuple with the same value, it will look at the second element (the key), so\n",
    "tuples where the value is the same will be further sorted by the alphabetical order\n",
    "of the key."
   ]
  },
  {
   "cell_type": "markdown",
   "id": "6f42160e",
   "metadata": {},
   "source": [
    "<b>Using Tuples as Keys in Dictionaries</b>\n",
    "\n",
    "Because tuples are hashable and lists are not, if we want to create a composite key\n",
    "to use in a dictionary we must use a tuple as the key.\n",
    "We would encounter a composite key if we wanted to create a telephone directory\n",
    "that maps from last-name, first-name pairs to telephone numbers. Assuming that\n",
    "we have defined the variables last, first, and number, we could write a dictionary\n",
    "assignment statement as follows:\n",
    "directory[last,first] = number\n",
    "The expression in brackets is a tuple. We could use tuple assignment in a for loop\n",
    "to traverse this dictionary."
   ]
  },
  {
   "cell_type": "markdown",
   "id": "df44a83e",
   "metadata": {},
   "source": [
    "<b>Sequences: Strings, Lists, and Tuples</b>\n",
    "\n",
    "I have focused on lists of tuples, but almost all of the examples in this chapter\n",
    "also work with lists of lists, tuples of tuples, and tuples of lists. To avoid enumer\u0002ating the possible combinations, it is sometimes easier to talk about sequences of\n",
    "sequences.\n",
    "In many contexts, the different kinds of sequences (strings, lists, and tuples) can\n",
    "be used interchangeably. So how and why do you choose one over the others?\n",
    "To start with the obvious, strings are more limited than other sequences because\n",
    "the elements have to be characters. They are also immutable. If you need the\n",
    "ability to change the characters in a string (as opposed to creating a new string),\n",
    "you might want to use a list of characters instead.\n",
    "\n",
    "Lists are more common than tuples, mostly because they are mutable. But there\n",
    "are a few cases where you might prefer tuples:\n",
    "1. In some contexts, like a return statement, it is syntactically simpler to create\n",
    "a tuple than a list. In other contexts, you might prefer a list.\n",
    "2. If you want to use a sequence as a dictionary key, you have to use an im\u0002mutable type like a tuple or string.\n",
    "3. If you are passing a sequence as an argument to a function, using tuples\n",
    "reduces the potential for unexpected behavior due to aliasing."
   ]
  }
 ],
 "metadata": {
  "kernelspec": {
   "display_name": "Python 3 (ipykernel)",
   "language": "python",
   "name": "python3"
  },
  "language_info": {
   "codemirror_mode": {
    "name": "ipython",
    "version": 3
   },
   "file_extension": ".py",
   "mimetype": "text/x-python",
   "name": "python",
   "nbconvert_exporter": "python",
   "pygments_lexer": "ipython3",
   "version": "3.9.7"
  }
 },
 "nbformat": 4,
 "nbformat_minor": 5
}
