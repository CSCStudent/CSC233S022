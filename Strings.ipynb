{
 "cells": [
  {
   "cell_type": "markdown",
   "id": "05f60692",
   "metadata": {},
   "source": [
    "## A String as a Sequence of Characters"
   ]
  },
  {
   "cell_type": "markdown",
   "id": "7379872c",
   "metadata": {},
   "source": [
    "Strings are an example of Python objects. An object contains both data (the actual\n",
    "string itself) and methods, which are effectively functions that are built into the\n",
    "object and are available to any instance of the object."
   ]
  },
  {
   "attachments": {
    "Screenshot%202022-01-21%20094029.jpg": {
     "image/jpeg": "[encoded data removed]"
    }
   },
   "cell_type": "markdown",
   "id": "e6d7a477",
   "metadata": {},
   "source": [
    "![Screenshot%202022-01-21%20094029.jpg](attachment:Screenshot%202022-01-21%20094029.jpg)"
   ]
  },
  {
   "cell_type": "code",
   "execution_count": 4,
   "id": "3a7c4a49",
   "metadata": {},
   "outputs": [
    {
     "name": "stdout",
     "output_type": "stream",
     "text": [
      "Starts with letter: b\n",
      "6\n"
     ]
    }
   ],
   "source": [
    "fruit = \"banana\"\n",
    "print(\"Starts with letter: %c\" %fruit[0])\n",
    "\n",
    "print(len(fruit))"
   ]
  },
  {
   "cell_type": "markdown",
   "id": "ea3eb0da",
   "metadata": {},
   "source": [
    "## String slices"
   ]
  },
  {
   "cell_type": "code",
   "execution_count": 12,
   "id": "a741f42f",
   "metadata": {},
   "outputs": [
    {
     "name": "stdout",
     "output_type": "stream",
     "text": [
      "Jack\n",
      "Sparrow\n"
     ]
    }
   ],
   "source": [
    "s = \"Jack Sparrow\"\n",
    "print(s[0:4])\n",
    "print(s[5:])"
   ]
  },
  {
   "cell_type": "markdown",
   "id": "963d5ad8",
   "metadata": {},
   "source": [
    "## Strings are immutable"
   ]
  },
  {
   "cell_type": "code",
   "execution_count": 22,
   "id": "7b873fca",
   "metadata": {},
   "outputs": [
    {
     "name": "stdout",
     "output_type": "stream",
     "text": [
      "both Davey Jones and Davey Jones are same object\n",
      "1538503180464\n",
      "1538503180464\n",
      "Davey Jones and Davey Jones are different objects\n",
      "1538503180464\n",
      "1538520050544\n"
     ]
    }
   ],
   "source": [
    "#s[0] = \"W\" # generates TypeError: 'str' object does not support item assignment\n",
    "\n",
    "f = s   #why can we do this?\n",
    "if s is f:\n",
    "    print(f\"both {s} and {f} are same object\")\n",
    "    print(id(s))\n",
    "    print(id(f))\n",
    "    \n",
    "f = \"Davey Jones\"\n",
    "if s is f:\n",
    "    print(f\"both {s} and {f} are same object\")\n",
    "else:\n",
    "    print(f\"{s} and {f} are different objects\")\n",
    "    print(id(s))\n",
    "    print(id(f))"
   ]
  },
  {
   "cell_type": "markdown",
   "id": "6c5ad323",
   "metadata": {},
   "source": [
    "## Looping and counting"
   ]
  },
  {
   "cell_type": "code",
   "execution_count": 25,
   "id": "561838fa",
   "metadata": {},
   "outputs": [
    {
     "name": "stdout",
     "output_type": "stream",
     "text": [
      "found consonant M\n",
      "found vowel i\n",
      "found consonant s\n",
      "found consonant s\n",
      "found vowel i\n",
      "found consonant s\n",
      "found consonant s\n",
      "found vowel i\n",
      "found consonant p\n",
      "found consonant p\n",
      "found vowel i\n"
     ]
    }
   ],
   "source": [
    "vowels = [\"a\", \"e\", \"i\", \"o\", \"u\"]\n",
    "word = \"Mississippi\"\n",
    "\n",
    "for letter in word:\n",
    "    if letter in vowels:\n",
    "        print(f\"found vowel {letter}\")\n",
    "    else:\n",
    "        print(f\"found consonant {letter}\")"
   ]
  },
  {
   "cell_type": "markdown",
   "id": "6516f6e6",
   "metadata": {},
   "source": [
    "## Operations"
   ]
  },
  {
   "cell_type": "code",
   "execution_count": 31,
   "id": "227b67cd",
   "metadata": {},
   "outputs": [
    {
     "name": "stdout",
     "output_type": "stream",
     "text": [
      "True\n",
      "Your word,pineapple, comes after banana.\n"
     ]
    }
   ],
   "source": [
    "print(\"ana\" in \"banana\")\n",
    "\n",
    "word = \"banana\"\n",
    "if word == \"foobar\":\n",
    "    print(\"we have no banana\")\n",
    "\n",
    "# lexicographic comparison of strings\n",
    "word = \"pineapple\"\n",
    "if word < 'banana':\n",
    "    print('Your word,' + word + ', comes before banana.')\n",
    "elif word > 'banana':\n",
    "    print('Your word,' + word + ', comes after banana.')\n",
    "else:\n",
    "    print('All right, bananas.')"
   ]
  },
  {
   "cell_type": "markdown",
   "id": "278462d6",
   "metadata": {},
   "source": [
    "## Parsing strings"
   ]
  },
  {
   "cell_type": "markdown",
   "id": "be946a51",
   "metadata": {},
   "source": [
    "Often, we want to look into a string and find a substring. For example if we were\n",
    "presented a series of lines formatted as follows:\n",
    "From stephen.marquard@ uct.ac.za Sat Jan 5 09:14:16 2008\n",
    "and we wanted to pull out only the second half of the address (i.e., uct.ac.za)\n",
    "from each line, we can do this by using the find method and string slicing.\n",
    "First, we will find the position of the at-sign in the string. Then we will find the\n",
    "position of the first space after the at-sign. And then we will use string slicing to\n",
    "extract the portion of the string which we are looking for."
   ]
  },
  {
   "cell_type": "code",
   "execution_count": 32,
   "id": "320ed25e",
   "metadata": {},
   "outputs": [
    {
     "name": "stdout",
     "output_type": "stream",
     "text": [
      "21\n",
      "31\n",
      "uct.ac.za\n"
     ]
    }
   ],
   "source": [
    "data = 'From stephen.marquard@uct.ac.za Sat Jan 5 09:14:16 2008'\n",
    "atpos = data.find('@')\n",
    "print(atpos)\n",
    "\n",
    "sppos = data.find(' ',atpos)\n",
    "print(sppos)\n",
    "\n",
    "host = data[atpos+1:sppos]\n",
    "print(host)\n"
   ]
  }
 ],
 "metadata": {
  "hide_input": false,
  "kernelspec": {
   "display_name": "Python 3 (ipykernel)",
   "language": "python",
   "name": "python3"
  },
  "language_info": {
   "codemirror_mode": {
    "name": "ipython",
    "version": 3
   },
   "file_extension": ".py",
   "mimetype": "text/x-python",
   "name": "python",
   "nbconvert_exporter": "python",
   "pygments_lexer": "ipython3",
   "version": "3.9.7"
  }
 },
 "nbformat": 4,
 "nbformat_minor": 5
}
