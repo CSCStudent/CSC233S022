{
 "cells": [
  {
   "cell_type": "markdown",
   "id": "99c67d0b",
   "metadata": {},
   "source": [
    "# Complex Structures"
   ]
  },
  {
   "cell_type": "markdown",
   "id": "4a1c7eb5",
   "metadata": {},
   "source": [
    "A <b>collection</b> — sometimes called a container — is simply an object that groups multiple elements into a single unit. Collections are used to store, retrieve, manipulate, and communicate aggregate data. Typically, they represent data items that form a natural group, such as a poker hand (a collection of cards), a mail folder (a collection of letters), or a telephone directory (a mapping of names to phone numbers). If you have used the Java programming language — or just about any other programming language — you are already familiar with collections.\n",
    "\n",
    "A <B>collections framework</B> is a unified architecture for representing and manipulating collections. All collections frameworks contain the following:\n",
    "\n",
    "    Interfaces: These are abstract data types that represent collections. Interfaces allow collections to be manipulated independently of the details of their representation. In object-oriented languages, interfaces generally form a hierarchy.\n",
    "    Implementations: These are the concrete implementations of the collection interfaces. In essence, they are reusable data structures.\n",
    "    Algorithms: These are the methods that perform useful computations, such as searching and sorting, on objects that implement collection interfaces. The algorithms are said to be polymorphic: that is, the same method can be used on many different implementations of the appropriate collection interface. In essence, algorithms are reusable functionality."
   ]
  },
  {
   "cell_type": "markdown",
   "id": "8316233f",
   "metadata": {},
   "source": [
    "## A Dictionary of Sets"
   ]
  },
  {
   "cell_type": "markdown",
   "id": "2359dd8d",
   "metadata": {},
   "source": [
    "An example is the index of a book where on which page each term occurs.  An implementation requires a data structure where the term can be used as the index to find the list of pages.  The dictionary, also referred to as a hash table or an associative array, exactly fits the requirements.\n",
    "\n",
    "The use of this structure also ensures that we satisfy several additional features:\n",
    "<ul>\n",
    "<li>The terms in the index must be unique.</li>\n",
    "<li>The index listing must be provided in alphabetical order by term.</li>\n",
    "<li>Duplicate page numbers for a term should appear only once.</li>\n",
    "</ul>"
   ]
  },
  {
   "cell_type": "code",
   "execution_count": 2,
   "id": "eec5735d",
   "metadata": {},
   "outputs": [
    {
     "name": "stdout",
     "output_type": "stream",
     "text": [
      "example 7, 10\n",
      "index 7\n",
      "program 7, 11\n",
      "set 20\n",
      "type 6, 8\n"
     ]
    }
   ],
   "source": [
    "## \n",
    "#  This program builds the index of a book from terms and page numbers.\n",
    "#\n",
    "\n",
    " \n",
    "## Extract a single record from the input file.\n",
    "#  @param infile the input file object\n",
    "#  @return a list containing the page number and term or an empty list if\n",
    "#  the end of file was reached\n",
    "#\n",
    "def extractRecord(infile) :\n",
    "   line = infile.readline()\n",
    "   if line != \"\" :   \n",
    "      fields = line.split(\":\")      \n",
    "      page = int(fields[0])\n",
    "      term = fields[1].rstrip()\n",
    "      return [page, term]\n",
    "   else :\n",
    "      return []   \n",
    "   \n",
    "## Add a word and its page number to the index.\n",
    "#  @param entries the dictionary of index entries\n",
    "#  @param term the term to be added to the index\n",
    "#  @param page the page number for this occurrence of the term\n",
    "#\n",
    "def addWord(entries, term, page) :   \n",
    "   # If the term is already in the dictionary, add the page to the set.\n",
    "   if term in entries :\n",
    "      pageSet = entries[term]\n",
    "      pageSet.add(page)\n",
    "      \n",
    "   # Otherwise, create a new set that contains the page and add an entry.\n",
    "   else :\n",
    "      pageSet = set([page])\n",
    "      entries[term] = pageSet\n",
    "\n",
    "## Print the index listing.\n",
    "#  @param entries a dictionary containing the entries of the index\n",
    "#\n",
    "def printIndex(entries) :\n",
    "   for key in sorted(entries) :\n",
    "      print(key, end=\" \")\n",
    "      pageSet = entries[key]\n",
    "      first = True\n",
    "      for page in sorted(pageSet) :\n",
    "         if first :\n",
    "            print(page, end=\"\")\n",
    "            first = False\n",
    "         else :\n",
    "            print(\",\", page, end=\"\")\n",
    "         \n",
    "      print()\n",
    "      \n",
    "if __name__ == \"__main__\":\n",
    "    # Start the program.\n",
    "   # Create an empty dictionary.\n",
    "   indexEntries = {}\n",
    "   \n",
    "   # Extract the data from the text file.\n",
    "   #infile = open(\"indexdata.txt\", \"r\")\n",
    "   with open(\"indexdata.txt\", \"r\") as infile:\n",
    "      fields = extractRecord(infile)\n",
    "      while len(fields) > 0 :\n",
    "         addWord(indexEntries, fields[1], fields[0])\n",
    "         fields = extractRecord(infile)\n",
    "         \n",
    "      infile.close()\n",
    "   \n",
    "   # Print the index listing.\n",
    "   printIndex(indexEntries)\n",
    "\n"
   ]
  },
  {
   "cell_type": "markdown",
   "id": "66fc4ba5",
   "metadata": {},
   "source": [
    "## A Dictionary of Lists"
   ]
  },
  {
   "cell_type": "markdown",
   "id": "7f45e955",
   "metadata": {},
   "source": [
    "A dictionary value which is associated with a given key can be any data type including a container.  A common use of a dictionary in Python is to store a list in which each list is assoiated with the key.\n",
    "\n",
    "The following example code extracts data from a text file that represents the yearly sales of different ice cream flavors in multiple stores of a retail ice cream company."
   ]
  },
  {
   "cell_type": "code",
   "execution_count": 4,
   "id": "53ef2945",
   "metadata": {},
   "outputs": [
    {
     "name": "stdout",
     "output_type": "stream",
     "text": [
      "chocolate        10225.25   9025.00   9505.00       28755.25\n",
      "cookie dough      7901.25   4267.00   7056.50       19224.75\n",
      "rocky road        6700.10   5012.45   6011.00       17723.55\n",
      "strawberry        9285.15   8276.10   8705.00       26266.25\n",
      "vanilla           8580.00   7201.25   8900.00       24681.25\n",
      "                 42691.75  33781.80  40177.50\n"
     ]
    }
   ],
   "source": [
    "## \n",
    "#  This program processes a collection of sales data for flavors of ice cream\n",
    "#  and prints a report sorted by flavor.\n",
    "#\n",
    "\n",
    "## Reads the tabular data.\n",
    "#  @param filename name of the input file\n",
    "#  @return a dictionary whose keys are ice cream flavors and \n",
    "#  whose values are sales data\n",
    "#\n",
    "def readData(filename) :\n",
    "   # Create an empty dictionary.\n",
    "   salesData = {}\n",
    "   \n",
    "   infile = open(filename, \"r\")\n",
    "   \n",
    "   # Read each record from the file.   \n",
    "   for line in infile :\n",
    "      fields = line.split(\":\")\n",
    "      flavor = fields[0]\n",
    "      salesData[flavor] = buildList(fields)\n",
    "\n",
    "   infile.close()   \n",
    "   return salesData\n",
    "\n",
    "## Builds a list of store sales contained in the fields split from a string.\n",
    "#  @param fields a list of strings comprising the record fields\n",
    "#  @return a list of floating-point values\n",
    "#\n",
    "def buildList(fields) :\n",
    "   storeSales = []\n",
    "   for i in range(1, len(fields)) :\n",
    "      sales = float(fields[i])\n",
    "      storeSales.append(sales)\n",
    "      \n",
    "   return storeSales\n",
    "   \n",
    "## Prints a sales report.\n",
    "#  @param salesData a table composed of a dictionary of lists\n",
    "#\n",
    "def printReport(salesData) :\n",
    "   # Find the number of stores as the length of the longest store sales list.\n",
    "   numStores = 0\n",
    "   for storeSales in salesData.values() :\n",
    "      if len(storeSales) > numStores :\n",
    "         numStores = len(storeSales)\n",
    "\n",
    "   # Create a list of store totals.\n",
    "   storeTotals = [0.0] * numStores\n",
    "   \n",
    "   # Print the flavor sales.\n",
    "   for flavor in sorted(salesData) :\n",
    "      print(\"%-15s\" % flavor, end=\"\")\n",
    "      \n",
    "      flavorTotal = 0.0\n",
    "      storeSales = salesData[flavor]\n",
    "      for i in range(len(storeSales)) :\n",
    "         sales = storeSales[i]\n",
    "         flavorTotal = flavorTotal + sales\n",
    "         storeTotals[i] = storeTotals[i] + sales\n",
    "         print(\"%10.2f\" % sales, end=\"\")\n",
    "         \n",
    "      print(\"%15.2f\" % flavorTotal)\n",
    "         \n",
    "   # Print the store totals.\n",
    "   print(\"%15s\" % \" \", end=\"\")\n",
    "   for i in range(numStores) :\n",
    "      print(\"%10.2f\" % storeTotals[i], end=\"\")\n",
    "   print()\n",
    "\n",
    "if __name__ == \"__main__\" : \n",
    "    # Start the program.  \n",
    "   salesData = readData(\"icecream.txt\")\n",
    "   printReport(salesData)\n",
    "\n",
    "\n"
   ]
  }
 ],
 "metadata": {
  "hide_input": false,
  "kernelspec": {
   "display_name": "Python 3 (ipykernel)",
   "language": "python",
   "name": "python3"
  },
  "language_info": {
   "codemirror_mode": {
    "name": "ipython",
    "version": 3
   },
   "file_extension": ".py",
   "mimetype": "text/x-python",
   "name": "python",
   "nbconvert_exporter": "python",
   "pygments_lexer": "ipython3",
   "version": "3.9.7"
  }
 },
 "nbformat": 4,
 "nbformat_minor": 5
}
