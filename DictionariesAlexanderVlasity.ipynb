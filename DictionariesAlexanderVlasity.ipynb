{
 "cells": [
  {
   "cell_type": "markdown",
   "id": "030ed0cb",
   "metadata": {},
   "source": [
    "# Dictionaries"
   ]
  },
  {
   "cell_type": "markdown",
   "id": "e7c00b42",
   "metadata": {},
   "source": [
    "### Definition: \n",
    "A <b><u>dictionary</u></b> is like a list, but more general. In a list, the index positions have to\n",
    "be integers; in a dictionary, the indices can be (almost) any type. <br>\n",
    "<br>You can think of a dictionary as a mapping between a set of indices (which are\n",
    "called keys) and a set of values. <b>Each key maps to a value.</b> The association of a\n",
    "key and a value is called a key-value pair or sometimes an item."
   ]
  },
  {
   "cell_type": "markdown",
   "id": "15759e30",
   "metadata": {},
   "source": [
    "Dictionaries are used to store data values in \"key:value\" pairs. Take a look at the example below: \n",
    "- The <u><b>\"brand\"</b></u> of car is used as the key and the <u><b>\"Ford\"</b></u> model is used as the value. \n",
    "- The car <u><b>\"model\"</b></u> is used as the key and the <u><b>\"Mustang\"</b></u> model is used as the value. \n",
    "- The <u><b>\"year\"</b></u> is used as the key and the year <u><b>\"1964\"</b></u> is used as the value.  "
   ]
  },
  {
   "cell_type": "code",
   "execution_count": 1,
   "id": "8992970f",
   "metadata": {},
   "outputs": [
    {
     "name": "stdout",
     "output_type": "stream",
     "text": [
      "{'brand': 'Ford', 'model': 'Mustang', 'year': 1964}\n"
     ]
    }
   ],
   "source": [
    "thisDictionary = {\n",
    "    \"brand\" : \"Ford\",\n",
    "    \"model\" : \"Mustang\",\n",
    "    \"year\" : 1964\n",
    "}\n",
    "print(thisDictionary)"
   ]
  },
  {
   "cell_type": "markdown",
   "id": "0f34dc79",
   "metadata": {},
   "source": [
    "### Building a Dictionary:"
   ]
  },
  {
   "cell_type": "markdown",
   "id": "8aa5fe45",
   "metadata": {},
   "source": [
    "The example below shows one way to create a dictionary. Here, we are creating a new dictionary with no items. The dictionary name is set equal to the built in function \"dict()\". You should avoid naming your dictionary \"dict\" due to conflict with the built in function \"dict()\"."
   ]
  },
  {
   "cell_type": "code",
   "execution_count": 2,
   "id": "f4e11fb1",
   "metadata": {},
   "outputs": [
    {
     "name": "stdout",
     "output_type": "stream",
     "text": [
      "{}\n"
     ]
    }
   ],
   "source": [
    "newDictionary = dict()\n",
    "print(newDictionary)"
   ]
  },
  {
   "cell_type": "markdown",
   "id": "2e311062",
   "metadata": {},
   "source": [
    "The printed curly brackets represent an empty dictionary. "
   ]
  },
  {
   "cell_type": "markdown",
   "id": "ed9f6921",
   "metadata": {},
   "source": [
    "Another way to create a dictionary is to use curly brackets \"{ }\". The example below shows the creation of a dictionary using curly brackets:"
   ]
  },
  {
   "cell_type": "code",
   "execution_count": 4,
   "id": "ee034755",
   "metadata": {},
   "outputs": [
    {
     "name": "stdout",
     "output_type": "stream",
     "text": [
      "{'one': 'uno', 'two': 'dos', 'three': 'tres'}\n"
     ]
    }
   ],
   "source": [
    "newDictionary = {'one': 'uno', 'two': 'dos', 'three': 'tres'}\n",
    "print(newDictionary)"
   ]
  },
  {
   "cell_type": "markdown",
   "id": "9ebd110d",
   "metadata": {},
   "source": [
    "Notice the printed dictionary now has key-value pairs populated inside the curly brackets. When printing dictionaries, the order of items in a dictionary is unpredictable. This is because the elements of a dictionary are never indexd with integer indicies. If you were to print this statement on your computer, your results could look like: {'one': 'uno', 'three': 'tres', 'two': 'dos'}."
   ]
  },
  {
   "cell_type": "markdown",
   "id": "aef6416a",
   "metadata": {},
   "source": [
    "### Adding Elements to a Dictionary:"
   ]
  },
  {
   "cell_type": "markdown",
   "id": "c3e6c8fd",
   "metadata": {},
   "source": [
    "One way to add items to a dictionary is with square brackets \"[ ]\". As seen in the example below, the defined item inside the square brackets <u><b>\"['Animal']\"</b></u> creates the key value inside the dictionary. The <u><b>'Bird'</b></u> item creates the value mapped to the \"['Animal']\" key."
   ]
  },
  {
   "cell_type": "code",
   "execution_count": 3,
   "id": "a539c926",
   "metadata": {},
   "outputs": [
    {
     "name": "stdout",
     "output_type": "stream",
     "text": [
      "{'Animal': 'Bird'}\n"
     ]
    }
   ],
   "source": [
    "newDictionary = dict()\n",
    "newDictionary['Animal'] = 'Bird'\n",
    "print(newDictionary)"
   ]
  },
  {
   "cell_type": "markdown",
   "id": "ea9af77c",
   "metadata": {},
   "source": [
    "The printed dictionary now has one key-value pair with a colon between the key and the value. "
   ]
  },
  {
   "cell_type": "markdown",
   "id": "9dcc2c65",
   "metadata": {},
   "source": [
    "Let's try adding another item to newDictionary. Let's say you want to add the value 'Dog' to the dictionary using the 'Animal' key value. When executing the code below, we get an unexpected result. Our 'Animal' key has updated its 'Bird' value to 'Dog'. This is because keys in dictionaries are unique values that can not be duplicated. "
   ]
  },
  {
   "cell_type": "code",
   "execution_count": 5,
   "id": "9ef9055d",
   "metadata": {},
   "outputs": [
    {
     "name": "stdout",
     "output_type": "stream",
     "text": [
      "{'Animal': 'Dog'}\n"
     ]
    }
   ],
   "source": [
    "newDictionary = {'Animal': 'Bird'}\n",
    "newDictionary['Animal'] = 'Dog'\n",
    "print(newDictionary)"
   ]
  },
  {
   "cell_type": "markdown",
   "id": "422a3908",
   "metadata": {},
   "source": [
    "In order to add our 'Dog' value to newDictionary, we would have to create a unique key value as seen below. Now we have two key-value pairs inside our dictionary. "
   ]
  },
  {
   "cell_type": "code",
   "execution_count": 6,
   "id": "0bf13b7a",
   "metadata": {},
   "outputs": [
    {
     "name": "stdout",
     "output_type": "stream",
     "text": [
      "{'Animal': 'Bird', 'Mammal': 'Dog'}\n"
     ]
    }
   ],
   "source": [
    "newDictionary = {'Animal': 'Bird'}\n",
    "newDictionary['Mammal'] = 'Dog'\n",
    "print(newDictionary)"
   ]
  },
  {
   "cell_type": "markdown",
   "id": "1a6ac5bc",
   "metadata": {},
   "source": [
    "### Removing Elements:"
   ]
  },
  {
   "cell_type": "markdown",
   "id": "b7b32977",
   "metadata": {},
   "source": [
    "In order to delete items in a dictionary, we need to delte their key value. We can remove elements with the 'del' function. When using this function it is important to note that if the key value does not exist, a KeyError will be called."
   ]
  },
  {
   "cell_type": "code",
   "execution_count": 15,
   "id": "ad114c6b",
   "metadata": {},
   "outputs": [
    {
     "name": "stdout",
     "output_type": "stream",
     "text": [
      "{'Mammal': 'Dog'}\n"
     ]
    }
   ],
   "source": [
    "newDictionary = {'Animal': 'Bird', 'Mammal' : 'Dog'}\n",
    "del newDictionary['Animal']\n",
    "print(newDictionary)"
   ]
  },
  {
   "cell_type": "markdown",
   "id": "a01e2dfc",
   "metadata": {},
   "source": [
    "Another way to delete an element is to use the pop() function. The advantage to using the pop() function is that it doesn't raise an exception when a key value does not exist. Instead, we can pass a second argument to the pop function to return a value if the key does not exist as seen in the second example. "
   ]
  },
  {
   "cell_type": "code",
   "execution_count": 20,
   "id": "3a6b7896",
   "metadata": {},
   "outputs": [
    {
     "name": "stdout",
     "output_type": "stream",
     "text": [
      "Bird\n",
      "{'Mammal': 'Dog'}\n"
     ]
    }
   ],
   "source": [
    "newDictionary = {'Animal': 'Bird', 'Mammal' : 'Dog'}\n",
    "removed_value = newDictionary.pop('Animal')\n",
    "print(removed_value)\n",
    "print(newDictionary)"
   ]
  },
  {
   "cell_type": "code",
   "execution_count": 19,
   "id": "ede90834",
   "metadata": {},
   "outputs": [
    {
     "name": "stdout",
     "output_type": "stream",
     "text": [
      "No Key Found\n",
      "{'Animal': 'Bird', 'Mammal': 'Dog'}\n"
     ]
    }
   ],
   "source": [
    "newDictionary = {'Animal': 'Bird', 'Mammal' : 'Dog'}\n",
    "removed_value = newDictionary.pop('Fish', 'No Key Found')\n",
    "print(removed_value)\n",
    "print(newDictionary)"
   ]
  },
  {
   "cell_type": "markdown",
   "id": "52ed4d62",
   "metadata": {},
   "source": [
    "### Printing Elements in a Dictionary:"
   ]
  },
  {
   "cell_type": "markdown",
   "id": "f3f301d4",
   "metadata": {},
   "source": [
    "When printing a dictionary we can use the print(newDictionary) function to view all elements inside our dictionary as seen above. However, what if we only wanted to see the first element. Remeber, elements inside a dictionary are never indexed so we can't simply call element 1 from the dictionary. Instead, we would need to call the 'key' value from our dictionary. "
   ]
  },
  {
   "cell_type": "code",
   "execution_count": 7,
   "id": "f6a6652d",
   "metadata": {},
   "outputs": [
    {
     "name": "stdout",
     "output_type": "stream",
     "text": [
      "Bird\n"
     ]
    }
   ],
   "source": [
    "newDictionary = {'Animal': 'Bird', 'Mammal' : 'Dog'}\n",
    "print(newDictionary['Animal'])"
   ]
  },
  {
   "cell_type": "markdown",
   "id": "058cd05d",
   "metadata": {},
   "source": [
    "Notice how when we call the key value 'Animal', the associated value 'Bird' is printed. But what happens if we call a key value that doesn't exist? We get a key error as seen below. "
   ]
  },
  {
   "cell_type": "code",
   "execution_count": 8,
   "id": "98e81799",
   "metadata": {},
   "outputs": [
    {
     "ename": "KeyError",
     "evalue": "'Fish'",
     "output_type": "error",
     "traceback": [
      "\u001b[1;31m---------------------------------------------------------------------------\u001b[0m",
      "\u001b[1;31mKeyError\u001b[0m                                  Traceback (most recent call last)",
      "\u001b[1;32m~\\AppData\\Local\\Temp/ipykernel_5892/3646555583.py\u001b[0m in \u001b[0;36m<module>\u001b[1;34m\u001b[0m\n\u001b[0;32m      1\u001b[0m \u001b[0mnewDictionary\u001b[0m \u001b[1;33m=\u001b[0m \u001b[1;33m{\u001b[0m\u001b[1;34m'Animal'\u001b[0m\u001b[1;33m:\u001b[0m \u001b[1;34m'Bird'\u001b[0m\u001b[1;33m,\u001b[0m \u001b[1;34m'Mammal'\u001b[0m \u001b[1;33m:\u001b[0m \u001b[1;34m'Dog'\u001b[0m\u001b[1;33m}\u001b[0m\u001b[1;33m\u001b[0m\u001b[1;33m\u001b[0m\u001b[0m\n\u001b[1;32m----> 2\u001b[1;33m \u001b[0mprint\u001b[0m\u001b[1;33m(\u001b[0m\u001b[0mnewDictionary\u001b[0m\u001b[1;33m[\u001b[0m\u001b[1;34m'Fish'\u001b[0m\u001b[1;33m]\u001b[0m\u001b[1;33m)\u001b[0m\u001b[1;33m\u001b[0m\u001b[1;33m\u001b[0m\u001b[0m\n\u001b[0m",
      "\u001b[1;31mKeyError\u001b[0m: 'Fish'"
     ]
    }
   ],
   "source": [
    "newDictionary = {'Animal': 'Bird', 'Mammal' : 'Dog'}\n",
    "print(newDictionary['Fish'])"
   ]
  },
  {
   "cell_type": "markdown",
   "id": "34daacd8",
   "metadata": {},
   "source": [
    "### Functions and Operators:"
   ]
  },
  {
   "cell_type": "markdown",
   "id": "25429b4e",
   "metadata": {},
   "source": [
    "The len() function allows us to see how many key-value pairs are inside a dictionary."
   ]
  },
  {
   "cell_type": "code",
   "execution_count": 9,
   "id": "d70ca6a6",
   "metadata": {},
   "outputs": [
    {
     "data": {
      "text/plain": [
       "2"
      ]
     },
     "execution_count": 9,
     "metadata": {},
     "output_type": "execute_result"
    }
   ],
   "source": [
    "newDictionary = {'Animal': 'Bird', 'Mammal' : 'Dog'}\n",
    "len(newDictionary)"
   ]
  },
  {
   "cell_type": "markdown",
   "id": "c9281aff",
   "metadata": {},
   "source": [
    "The 'in' operator allows us to determine whether something appears a s a key value in a dictionary. 'Animal' is a key value so it's output is True. 'One' is not a key value so it's value is False."
   ]
  },
  {
   "cell_type": "code",
   "execution_count": 11,
   "id": "bbc1e422",
   "metadata": {},
   "outputs": [
    {
     "data": {
      "text/plain": [
       "True"
      ]
     },
     "execution_count": 11,
     "metadata": {},
     "output_type": "execute_result"
    }
   ],
   "source": [
    "newDictionary = {'Animal': 'Bird', 'Mammal' : 'Dog'}\n",
    "'Animal' in newDictionary"
   ]
  },
  {
   "cell_type": "code",
   "execution_count": 12,
   "id": "a6932565",
   "metadata": {},
   "outputs": [
    {
     "data": {
      "text/plain": [
       "False"
      ]
     },
     "execution_count": 12,
     "metadata": {},
     "output_type": "execute_result"
    }
   ],
   "source": [
    "newDictionary = {'Animal': 'Bird', 'Mammal' : 'Dog'}\n",
    "'One' in newDictionary"
   ]
  },
  {
   "cell_type": "markdown",
   "id": "b819c366",
   "metadata": {},
   "source": [
    "To see if something appears as a value, we can use the 'list' function followed by the 'in' operator."
   ]
  },
  {
   "cell_type": "code",
   "execution_count": 14,
   "id": "427ce00e",
   "metadata": {},
   "outputs": [
    {
     "data": {
      "text/plain": [
       "True"
      ]
     },
     "execution_count": 14,
     "metadata": {},
     "output_type": "execute_result"
    }
   ],
   "source": [
    "newDictionary = {'Animal': 'Bird', 'Mammal' : 'Dog'}\n",
    "vals = list(newDictionary.values())\n",
    "'Bird' in vals"
   ]
  },
  {
   "cell_type": "markdown",
   "id": "cec3b338",
   "metadata": {},
   "source": [
    "### Using Tuples As Key Values:"
   ]
  },
  {
   "cell_type": "markdown",
   "id": "01e29658",
   "metadata": {},
   "source": [
    "Dictionary key values can be tuples. You use tuples as keys when you want to show multiple elements which form a key together. For example if you needed to show an x-coordinate and a y-coordinate together to represent the point you would use a tuple. "
   ]
  },
  {
   "cell_type": "code",
   "execution_count": 26,
   "id": "0ec2ecf1",
   "metadata": {},
   "outputs": [
    {
     "name": "stdout",
     "output_type": "stream",
     "text": [
      "{(5, 6): 'gfg', (1, 2, 8): 'is', (9, 10): 'best'}\n"
     ]
    }
   ],
   "source": [
    "tuple_dict = {(5, 6) : 'gfg', (1, 2, 8) : 'is', (9, 10) : 'best'}\n",
    "print(tuple_dict)"
   ]
  },
  {
   "cell_type": "markdown",
   "id": "7d6a3634",
   "metadata": {},
   "source": [
    "### Examples:"
   ]
  },
  {
   "cell_type": "code",
   "execution_count": 25,
   "id": "bb4e83e1",
   "metadata": {},
   "outputs": [
    {
     "name": "stdout",
     "output_type": "stream",
     "text": [
      "Student: Dave\n",
      "Letter Grade: A\n",
      "Student: Mike\n",
      "Letter Grade: B\n",
      "Student: Ron\n",
      "Letter Grade: C\n",
      "Student: Bob\n",
      "Letter Grade: Fail\n"
     ]
    }
   ],
   "source": [
    "studentScores = {'Dave' : 92, 'Mike': 80, 'Ron' : 75, 'Bob' : 55}\n",
    "for name in studentScores:\n",
    "    if studentScores[name] >= 90:\n",
    "        print(\"Student:\", name)\n",
    "        print(\"Letter Grade: A\")\n",
    "    elif studentScores[name] >= 80:\n",
    "        print(\"Student:\", name)\n",
    "        print(\"Letter Grade: B\")\n",
    "    elif studentScores[name] >= 70:\n",
    "        print(\"Student:\", name)\n",
    "        print(\"Letter Grade: C\")\n",
    "    else:\n",
    "        print(\"Student:\", name)\n",
    "        print(\"Letter Grade: Fail\")"
   ]
  },
  {
   "cell_type": "code",
   "execution_count": null,
   "id": "53db6c88",
   "metadata": {},
   "outputs": [],
   "source": []
  }
 ],
 "metadata": {
  "kernelspec": {
   "display_name": "Python 3 (ipykernel)",
   "language": "python",
   "name": "python3"
  },
  "language_info": {
   "codemirror_mode": {
    "name": "ipython",
    "version": 3
   },
   "file_extension": ".py",
   "mimetype": "text/x-python",
   "name": "python",
   "nbconvert_exporter": "python",
   "pygments_lexer": "ipython3",
   "version": "3.9.7"
  }
 },
 "nbformat": 4,
 "nbformat_minor": 5
}
