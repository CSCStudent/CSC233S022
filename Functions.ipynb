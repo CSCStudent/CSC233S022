{
 "cells": [
  {
   "cell_type": "markdown",
   "id": "edeeb7e7",
   "metadata": {},
   "source": [
    "The body of a function is simply a sequence of statements that execute when the function is called."
   ]
  },
  {
   "cell_type": "code",
   "execution_count": 1,
   "id": "814e05f8",
   "metadata": {},
   "outputs": [
    {
     "data": {
      "text/plain": [
       "43"
      ]
     },
     "execution_count": 1,
     "metadata": {},
     "output_type": "execute_result"
    }
   ],
   "source": [
    "def add(x,y):\n",
    "    return x+y\n",
    "\n",
    "add(10,33)"
   ]
  },
  {
   "cell_type": "markdown",
   "id": "419e870d",
   "metadata": {},
   "source": [
    "### Scoping Rules"
   ]
  },
  {
   "cell_type": "markdown",
   "id": "95f15a24",
   "metadata": {},
   "source": [
    "Each time a function executes, a new local namespace is created comprised of the function parameters and the local variables that are assigned inside of the function body.\n",
    "\n",
    "When resolving names, the interpreter first searches the local namespace.  If not match is found, it then searches the global namespace (the module in which the function is defined)."
   ]
  },
  {
   "cell_type": "code",
   "execution_count": 31,
   "id": "9ae5679c",
   "metadata": {},
   "outputs": [
    {
     "name": "stdout",
     "output_type": "stream",
     "text": [
      "42\n"
     ]
    }
   ],
   "source": [
    "a = 42\n",
    "\n",
    "def foo():\n",
    "    a = 10\n",
    "    \n",
    "foo()\n",
    "print(a)"
   ]
  },
  {
   "cell_type": "markdown",
   "id": "51096a23",
   "metadata": {},
   "source": [
    "You can attach default arguments to function parameters by assigning values in the function definition."
   ]
  },
  {
   "cell_type": "code",
   "execution_count": 7,
   "id": "a544412e",
   "metadata": {},
   "outputs": [
    {
     "name": "stdout",
     "output_type": "stream",
     "text": [
      "<class 'list'>  ['1', '2', '3', '4', '5']\n",
      "1\n",
      "2\n",
      "3\n",
      "4\n",
      "5\n"
     ]
    }
   ],
   "source": [
    "def split(line, delimiter=\",\"):\n",
    "    return line.split(delimiter)\n",
    "\n",
    "items = split(\"1:2:3:4:5\", delimiter = ':')\n",
    "print(f\"{type(items)}  {items}\")\n",
    "for n in items:\n",
    "    print(n)"
   ]
  },
  {
   "cell_type": "markdown",
   "id": "3b4ada71",
   "metadata": {},
   "source": [
    "A function can accept a variable number of parameters if an asterisk is added to the last last parameter name."
   ]
  },
  {
   "cell_type": "code",
   "execution_count": 12,
   "id": "c634933e",
   "metadata": {},
   "outputs": [
    {
     "name": "stdout",
     "output_type": "stream",
     "text": [
      "42 'hello world' 12.34\n"
     ]
    }
   ],
   "source": [
    "def printf(fmt, *args):\n",
    "    print(fmt %args)\n",
    "    \n",
    "printf(\"%d '%s' %.2f\", 42, \"hello world\", 12.34)"
   ]
  },
  {
   "cell_type": "markdown",
   "id": "1a367594",
   "metadata": {},
   "source": [
    "If the last parameter of a function definition begins with a \\*\\*, all the additional keyword arguments that do not match any of the other keyword parameters are placed in a dictionary with the parameter name."
   ]
  },
  {
   "cell_type": "code",
   "execution_count": 22,
   "id": "9df78505",
   "metadata": {},
   "outputs": [
    {
     "name": "stdout",
     "output_type": "stream",
     "text": [
      "<class 'int'> 123\n",
      "d0 1\n",
      "d1 2\n",
      "d2 3\n"
     ]
    }
   ],
   "source": [
    "def make_table(data, **parms):\n",
    "    print(type(data), data)\n",
    "    for s in parms:\n",
    "        print (s, parms.get(s))\n",
    "    \n",
    "make_table(123, d0=1, d1=2, d2=3)\n",
    "    "
   ]
  },
  {
   "cell_type": "markdown",
   "id": "fdc51bb3",
   "metadata": {},
   "source": [
    "You can combine variable-length parameters with extra keyword parameters.  Note that the ** parameter must appear last in the list of parameters.\n",
    "\n",
    "The use of *args and \\*\\*kwargs is commonly used to write wrappers and overloaded methods in classes."
   ]
  },
  {
   "cell_type": "code",
   "execution_count": 27,
   "id": "dd7e708c",
   "metadata": {},
   "outputs": [
    {
     "name": "stdout",
     "output_type": "stream",
     "text": [
      "<class 'tuple'>\n",
      "a\n",
      "b\n",
      "c\n",
      "<class 'dict'>\n",
      "L0 a\n",
      "L1 b\n",
      "L2 c\n"
     ]
    }
   ],
   "source": [
    "def spam(*args, **kwargs):\n",
    "    #args is a tuple of positional args\n",
    "    print(type(args))\n",
    "    for s in args:   \n",
    "        print(s)\n",
    "    \n",
    "    #kwargs is a dictionary of keyword args\n",
    "    print(type(kwargs))\n",
    "    for s in kwargs:\n",
    "        print (s, kwargs.get(s))\n",
    "        \n",
    "spam(\"a\", \"b\", \"c\", L0='a', L1='b', L2='c')"
   ]
  }
 ],
 "metadata": {
  "hide_input": false,
  "kernelspec": {
   "display_name": "Python 3 (ipykernel)",
   "language": "python",
   "name": "python3"
  },
  "language_info": {
   "codemirror_mode": {
    "name": "ipython",
    "version": 3
   },
   "file_extension": ".py",
   "mimetype": "text/x-python",
   "name": "python",
   "nbconvert_exporter": "python",
   "pygments_lexer": "ipython3",
   "version": "3.9.7"
  }
 },
 "nbformat": 4,
 "nbformat_minor": 5
}
