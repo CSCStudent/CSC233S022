{
 "cells": [
  {
   "cell_type": "markdown",
   "id": "7f9b152b",
   "metadata": {},
   "source": [
    "# Tuples"
   ]
  },
  {
   "cell_type": "markdown",
   "id": "a6c98172",
   "metadata": {},
   "source": [
    "### Definition:"
   ]
  },
  {
   "cell_type": "markdown",
   "id": "0cfa50d0",
   "metadata": {},
   "source": [
    "<b>Tuples are immutable</b> meaning that their values can not be changed."
   ]
  },
  {
   "cell_type": "markdown",
   "id": "43e61387",
   "metadata": {},
   "source": [
    "A tuple is a sequence of values much like a list. The values stored in a tuple can\n",
    "be any type, and they <b>are indexed by integers</b>. Tuples are also comparable and hashable so we can sort lists\n",
    "of them and use tuples as key values in Python dictionaries. Syntactically, a tuple is a comma-separated list of values as seen below:"
   ]
  },
  {
   "cell_type": "code",
   "execution_count": 2,
   "id": "75d09a40",
   "metadata": {},
   "outputs": [],
   "source": [
    "t = ('t', 'u', 'p', 'l', 'e', 's')"
   ]
  },
  {
   "cell_type": "markdown",
   "id": "9edc2d55",
   "metadata": {},
   "source": [
    "### Creating a Tuple:"
   ]
  },
  {
   "cell_type": "markdown",
   "id": "644642cb",
   "metadata": {},
   "source": [
    "To create a tuple with a single element, we need to include a final comma after the first element. Without the comma, Python reads 'a' as a string value."
   ]
  },
  {
   "cell_type": "code",
   "execution_count": 3,
   "id": "d32b4b00",
   "metadata": {},
   "outputs": [],
   "source": [
    "t = ('a',)"
   ]
  },
  {
   "cell_type": "markdown",
   "id": "17369899",
   "metadata": {},
   "source": [
    "In order to create an empty tuple, we use the built-in function tuple(). This creates an empty tuple printed as \"()\". You should avoid using tuple as a variable name given that it is used by the built-in function."
   ]
  },
  {
   "cell_type": "code",
   "execution_count": 5,
   "id": "cc53e1da",
   "metadata": {},
   "outputs": [
    {
     "name": "stdout",
     "output_type": "stream",
     "text": [
      "()\n"
     ]
    }
   ],
   "source": [
    "t = tuple()\n",
    "print(t)"
   ]
  },
  {
   "cell_type": "markdown",
   "id": "40e5da14",
   "metadata": {},
   "source": [
    "We can also create tuples where the argument is a sequence. This means that our argument is a string, list, or another tuple value. The example below passes in a string value as an argument and in turn the elements (or individual letters) of the sequence are printed."
   ]
  },
  {
   "cell_type": "code",
   "execution_count": 6,
   "id": "6e4e7e98",
   "metadata": {},
   "outputs": [
    {
     "name": "stdout",
     "output_type": "stream",
     "text": [
      "('t', 'u', 'p', 'l', 'e')\n"
     ]
    }
   ],
   "source": [
    "t = tuple('tuple')\n",
    "print(t)"
   ]
  },
  {
   "cell_type": "markdown",
   "id": "8841010e",
   "metadata": {},
   "source": [
    "### Printing Tuples:"
   ]
  },
  {
   "cell_type": "markdown",
   "id": "cf7c9653",
   "metadata": {},
   "source": [
    "Because tuples are indexed by integers, we can call each index and print each index. For example, if we wanted to print the first element of a tuple we would call the first index as seen below:"
   ]
  },
  {
   "cell_type": "code",
   "execution_count": 7,
   "id": "1d65dd16",
   "metadata": {},
   "outputs": [
    {
     "name": "stdout",
     "output_type": "stream",
     "text": [
      "t\n"
     ]
    }
   ],
   "source": [
    "t = tuple('tuple')\n",
    "print(t[0])"
   ]
  },
  {
   "cell_type": "markdown",
   "id": "dd1c2e34",
   "metadata": {},
   "source": [
    "We can also print a range of elements as seen in the example below. "
   ]
  },
  {
   "cell_type": "code",
   "execution_count": 8,
   "id": "96d7cc79",
   "metadata": {},
   "outputs": [
    {
     "name": "stdout",
     "output_type": "stream",
     "text": [
      "('t', 'u', 'p')\n"
     ]
    }
   ],
   "source": [
    "t = tuple('tuple')\n",
    "print(t[0:3])"
   ]
  },
  {
   "cell_type": "markdown",
   "id": "bbd4cad2",
   "metadata": {},
   "source": [
    "### Modifying Tuples:"
   ]
  },
  {
   "cell_type": "markdown",
   "id": "6e42ee7b",
   "metadata": {},
   "source": [
    "It is important to note that we <b>can not modify the elements of a tuple.</b> This will produce a TypeError. Instead, we can replace one tuple with another. In the example below, we replaced the first tuple with a capital 'T'. Notice how the variable 't' was assigned to 'tuple' and then we re-assigned the variable to 'Tuple' with an uppercase 'T' as the first element."
   ]
  },
  {
   "cell_type": "code",
   "execution_count": 9,
   "id": "be67bb37",
   "metadata": {},
   "outputs": [
    {
     "name": "stdout",
     "output_type": "stream",
     "text": [
      "('T', 'u', 'p', 'l', 'e')\n"
     ]
    }
   ],
   "source": [
    "t = tuple('tuple')\n",
    "t = ('T',) + t[1:]\n",
    "print(t)"
   ]
  },
  {
   "cell_type": "markdown",
   "id": "9f71d0d3",
   "metadata": {},
   "source": [
    "We can also merge tuples togther with the + operator. "
   ]
  },
  {
   "cell_type": "code",
   "execution_count": 13,
   "id": "0607f13e",
   "metadata": {},
   "outputs": [
    {
     "name": "stdout",
     "output_type": "stream",
     "text": [
      "(4, 6, 2, 8, 3, 1)\n",
      "(4, 6, 2, 8, 3, 1, 9)\n"
     ]
    }
   ],
   "source": [
    "t = (4, 6, 2, 8, 3, 1) \n",
    "print(t)\n",
    "t = t + (9,)\n",
    "print(t)"
   ]
  },
  {
   "cell_type": "markdown",
   "id": "69d1a801",
   "metadata": {},
   "source": [
    "We can even add tuples at a specific index in another tuple. The example below shows a tuple being added at index 5 inside another tuple."
   ]
  },
  {
   "cell_type": "code",
   "execution_count": 14,
   "id": "f88c7e03",
   "metadata": {},
   "outputs": [
    {
     "name": "stdout",
     "output_type": "stream",
     "text": [
      "(4, 6, 2, 8, 3, 1)\n",
      "(4, 6, 2, 8, 3, 15, 20, 25)\n"
     ]
    }
   ],
   "source": [
    "t = (4, 6, 2, 8, 3, 1) \n",
    "print(t)\n",
    "t = t[:5] + (15, 20, 25)\n",
    "print(t)"
   ]
  },
  {
   "cell_type": "markdown",
   "id": "a0f694e3",
   "metadata": {},
   "source": [
    "### Removing Items From a Tuple:"
   ]
  },
  {
   "cell_type": "markdown",
   "id": "ec385f27",
   "metadata": {},
   "source": [
    "Remember, tuples are immutable so how do we remove elements from a tuple? The answer is to convert our tuple to a list, remove the item from the list, and then convert our list back to a tuple. In the example below, we remove the letter \"c\" from the tuple."
   ]
  },
  {
   "cell_type": "code",
   "execution_count": 45,
   "id": "0f5d2b7e",
   "metadata": {},
   "outputs": [
    {
     "name": "stdout",
     "output_type": "stream",
     "text": [
      "('s', 'c', 'h', 'o', 'o', 'l')\n",
      "['s', 'c', 'h', 'o', 'o', 'l']\n",
      "['s', 'h', 'o', 'o', 'l']\n",
      "('s', 'h', 'o', 'o', 'l')\n"
     ]
    }
   ],
   "source": [
    "t = ('s', 'c', 'h', 'o', 'o', 'l')\n",
    "print(t)\n",
    "newList = list(t)\n",
    "print(newList)\n",
    "newList.remove('c')\n",
    "print(newList)\n",
    "newTuple = (*newList,)\n",
    "print(newTuple)"
   ]
  },
  {
   "cell_type": "markdown",
   "id": "e7114ec5",
   "metadata": {},
   "source": [
    "Note: converting a list back to a tuple is tricky. There are many ways to do it. The first way is to use the tuple() function. The second way is to unpack the list into a tuple using newTuple = (*yourList,). "
   ]
  },
  {
   "cell_type": "markdown",
   "id": "13d3fb8b",
   "metadata": {},
   "source": [
    "### Comparing Tuples:"
   ]
  },
  {
   "cell_type": "markdown",
   "id": "15d2d42c",
   "metadata": {},
   "source": [
    "<b>Tuples can be compared to eachother.</b> Python starts by comparing the first elements, if they are equal, it works its way to the next element. If the elements are different it determines which one is larger. In the example below, our output is true because t is less than t1 or 6 is less than 8."
   ]
  },
  {
   "cell_type": "code",
   "execution_count": 28,
   "id": "b3f07902",
   "metadata": {},
   "outputs": [
    {
     "name": "stdout",
     "output_type": "stream",
     "text": [
      "True\n"
     ]
    }
   ],
   "source": [
    "t = (5, 6, 7)\n",
    "t1 = (5, 8, 9)\n",
    "print(t < t1)"
   ]
  },
  {
   "cell_type": "markdown",
   "id": "8ba7695d",
   "metadata": {},
   "source": [
    "### Tuple Functions:"
   ]
  },
  {
   "cell_type": "markdown",
   "id": "536e38e4",
   "metadata": {},
   "source": [
    "<b><u>Decorate</u></b> a sequence by building a list of tuples with one or more sort keys\n",
    "preceding the elements from the sequence. <br>\n",
    "<b><u>Sort</u></b> the list of tuples using the Python built-in sort.<br>\n",
    "<b><u>Undecorate</u></b> by extracting the sorted elements of the sequence.<br>"
   ]
  },
  {
   "cell_type": "markdown",
   "id": "e7c60ab0",
   "metadata": {},
   "source": [
    "### Tuple Assignment:"
   ]
  },
  {
   "cell_type": "markdown",
   "id": "f8a57037",
   "metadata": {},
   "source": [
    "One of the unique syntactic features of the Python language is the ability to have\n",
    "a tuple on the left side of an assignment statement. This allows you to assign more\n",
    "than one variable at a time when the left side is a sequence. The example below shows how multiple variables can be used to define a sequence."
   ]
  },
  {
   "cell_type": "code",
   "execution_count": 32,
   "id": "e16f1093",
   "metadata": {},
   "outputs": [
    {
     "name": "stdout",
     "output_type": "stream",
     "text": [
      "Yes\n",
      "You\n",
      "Can\n"
     ]
    }
   ],
   "source": [
    "myTuple = ['Yes', 'You', 'Can']\n",
    "x, y, z = myTuple\n",
    "print(x)\n",
    "print(y)\n",
    "print(z)"
   ]
  },
  {
   "cell_type": "markdown",
   "id": "e3600020",
   "metadata": {},
   "source": [
    "<b><u>Note:</u></b> If you have too many variables on the left side assigned to your sequence tuple, you will recieve a ValueError."
   ]
  },
  {
   "cell_type": "markdown",
   "id": "4b1ec574",
   "metadata": {},
   "source": [
    "### Dictionaries and Tuples:"
   ]
  },
  {
   "cell_type": "markdown",
   "id": "6c624e31",
   "metadata": {},
   "source": [
    "Dictionaries have a method called items that allow us to return a list of tuples (ie key and value pairs). We use this method in order to sort dictionaries by key value. "
   ]
  },
  {
   "cell_type": "code",
   "execution_count": 35,
   "id": "0e12304b",
   "metadata": {},
   "outputs": [
    {
     "name": "stdout",
     "output_type": "stream",
     "text": [
      "[('Al', 95), ('Bob', 90), ('Dan', 65), ('Steve', 80)]\n"
     ]
    }
   ],
   "source": [
    "newDictionary = {'Steve' : 80, 'Dan' : 65, \"Bob\" : 90, \"Al\" : 95}\n",
    "myTuple = list(newDictionary.items())\n",
    "myTuple.sort()\n",
    "print(myTuple)"
   ]
  },
  {
   "cell_type": "code",
   "execution_count": null,
   "id": "6d6fd19d",
   "metadata": {},
   "outputs": [],
   "source": []
  }
 ],
 "metadata": {
  "kernelspec": {
   "display_name": "Python 3 (ipykernel)",
   "language": "python",
   "name": "python3"
  },
  "language_info": {
   "codemirror_mode": {
    "name": "ipython",
    "version": 3
   },
   "file_extension": ".py",
   "mimetype": "text/x-python",
   "name": "python",
   "nbconvert_exporter": "python",
   "pygments_lexer": "ipython3",
   "version": "3.9.7"
  }
 },
 "nbformat": 4,
 "nbformat_minor": 5
}
