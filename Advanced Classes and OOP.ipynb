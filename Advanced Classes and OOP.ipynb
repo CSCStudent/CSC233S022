{
 "cells": [
  {
   "cell_type": "markdown",
   "id": "d50aac34",
   "metadata": {},
   "source": [
    "## Descriptors"
   ]
  },
  {
   "cell_type": "markdown",
   "id": "0bbaa765",
   "metadata": {},
   "source": [
    "With properties, access to an attribute is controlled by a series of user-defined get(), set(), and delete() methods.  This sort of attribute control can be generalized through the use of <b>desriptor objects</b>.\n",
    "\n",
    "A descriptor is an object that represents the value of an attribute.  By implementing the methods __get__(), __set__(), and __delete__(), it can hook into the attribute access mechanism to customize each operation.\n",
    "\n",
    "In other programming languages, descriptors are referred to as setter and getter, where public functions are used to Get and Set a private variable. Python doesn’t have a private variables concept, and descriptor protocol can be considered as a Pythonic way to achieve something similar. Descriptors are a new way to implement classes in Python, and it does not need to inherit anything from a particular object. To implement descriptors easily in python we have to use at least one of the methods that are defined above. Note that instance below returns to the object where the attribute was accessed, and the owner is the class where the descriptor was assigned as an attribute. There are three protocol in python descriptor for setters, getters and delete method.\n",
    "\n",
    "    gfg.__get__(self, obj, type=None) : This attribute is called when you want to retrieve the information (value = obj.attr), and whatever it returns is what will be given to the code that requested the attribute’s value.\n",
    "    gfg.__set__(self, obj, value) : This method is called to set the values of an attribute (obj.attr = 'value'), and it will not return anything to you.\n",
    "    gfg.__delete__(self, obj) : This method is called when the attribute is deleted from an object (del obj.attr)\n",
    "\n",
    " \n",
    "Invoking descriptor :\n",
    "Descriptors are invoked automatically whenever it receives the call for a set() method or get() method. For example, obj.gfg looks up gfg in the dictionary of obj. If gfg defines the method __get__(), then gfg.__get__(obj) is invoked. It can also directly be invoked by method name i.e gfg.__get__(obj)."
   ]
  },
  {
   "attachments": {
    "table3_17.jpg": {
     "image/jpeg": "[encoded data removed]"
    }
   },
   "cell_type": "markdown",
   "id": "1601b6db",
   "metadata": {},
   "source": [
    "![table3_17.jpg](attachment:table3_17.jpg)"
   ]
  },
  {
   "cell_type": "code",
   "execution_count": 5,
   "id": "3f3c6f16",
   "metadata": {},
   "outputs": [],
   "source": [
    "class TypeChecker(object):\n",
    "    def __init__(self, name, type, default = None):\n",
    "        self.name = name\n",
    "        self.type = type\n",
    "        self.default = default\n",
    "        \n",
    "    def __get__(self, instance, cls):\n",
    "        return self.name\n",
    "        \n",
    "    def __set__(self, instance, value):\n",
    "        if not isinstance(value, self.type):\n",
    "            raise TypeError(\"argument must of type %s\" %self.type)\n",
    "        self.name = value\n",
    "        \n",
    "    def __delete__(self, instance):\n",
    "        raise AttributeError(\"can't delete attribute\")"
   ]
  },
  {
   "cell_type": "code",
   "execution_count": 6,
   "id": "2593f204",
   "metadata": {},
   "outputs": [],
   "source": [
    "class B(object):\n",
    "    name = TypeChecker(\"name\", str)\n",
    "    num = TypeChecker(\"num\", int, 33)"
   ]
  },
  {
   "cell_type": "code",
   "execution_count": 7,
   "id": "af7354f7",
   "metadata": {},
   "outputs": [
    {
     "name": "stdout",
     "output_type": "stream",
     "text": [
      "name\n",
      "Guido\n"
     ]
    },
    {
     "ename": "AttributeError",
     "evalue": "can't delete attribute",
     "output_type": "error",
     "traceback": [
      "\u001b[1;31m---------------------------------------------------------------------------\u001b[0m",
      "\u001b[1;31mAttributeError\u001b[0m                            Traceback (most recent call last)",
      "\u001b[1;32m~\\AppData\\Local\\Temp/ipykernel_9296/4032944664.py\u001b[0m in \u001b[0;36m<module>\u001b[1;34m\u001b[0m\n\u001b[0;32m      4\u001b[0m \u001b[0mf\u001b[0m\u001b[1;33m.\u001b[0m\u001b[0mname\u001b[0m \u001b[1;33m=\u001b[0m \u001b[1;34m\"Guido\"\u001b[0m\u001b[1;33m\u001b[0m\u001b[1;33m\u001b[0m\u001b[0m\n\u001b[0;32m      5\u001b[0m \u001b[0mprint\u001b[0m\u001b[1;33m(\u001b[0m\u001b[0mf\u001b[0m\u001b[1;33m.\u001b[0m\u001b[0mname\u001b[0m\u001b[1;33m)\u001b[0m\u001b[1;33m\u001b[0m\u001b[1;33m\u001b[0m\u001b[0m\n\u001b[1;32m----> 6\u001b[1;33m \u001b[1;32mdel\u001b[0m \u001b[0mf\u001b[0m\u001b[1;33m.\u001b[0m\u001b[0mname\u001b[0m\u001b[1;33m\u001b[0m\u001b[1;33m\u001b[0m\u001b[0m\n\u001b[0m",
      "\u001b[1;32m~\\AppData\\Local\\Temp/ipykernel_9296/1322722941.py\u001b[0m in \u001b[0;36m__delete__\u001b[1;34m(self, instance)\u001b[0m\n\u001b[0;32m     14\u001b[0m \u001b[1;33m\u001b[0m\u001b[0m\n\u001b[0;32m     15\u001b[0m     \u001b[1;32mdef\u001b[0m \u001b[0m__delete__\u001b[0m\u001b[1;33m(\u001b[0m\u001b[0mself\u001b[0m\u001b[1;33m,\u001b[0m \u001b[0minstance\u001b[0m\u001b[1;33m)\u001b[0m\u001b[1;33m:\u001b[0m\u001b[1;33m\u001b[0m\u001b[1;33m\u001b[0m\u001b[0m\n\u001b[1;32m---> 16\u001b[1;33m         \u001b[1;32mraise\u001b[0m \u001b[0mAttributeError\u001b[0m\u001b[1;33m(\u001b[0m\u001b[1;34m\"can't delete attribute\"\u001b[0m\u001b[1;33m)\u001b[0m\u001b[1;33m\u001b[0m\u001b[1;33m\u001b[0m\u001b[0m\n\u001b[0m",
      "\u001b[1;31mAttributeError\u001b[0m: can't delete attribute"
     ]
    }
   ],
   "source": [
    "f = B()\n",
    "a = f.name\n",
    "print(a)\n",
    "f.name = \"Guido\"\n",
    "print(f.name)\n",
    "del f.name"
   ]
  },
  {
   "cell_type": "markdown",
   "id": "16e25d2c",
   "metadata": {},
   "source": [
    "<b>Creating a Descriptor using property() :</b>\n",
    "property(), it is easy to create a usable descriptor for any attribute. Syntax for creating property()\n",
    "\n",
    "property(fget=None, fset=None, fdel=None, doc=None)"
   ]
  },
  {
   "cell_type": "code",
   "execution_count": 1,
   "id": "f21a7cc7",
   "metadata": {},
   "outputs": [
    {
     "name": "stdout",
     "output_type": "stream",
     "text": [
      "Getting value\n",
      "GeeksforGeeks\n",
      "Setting value to GfG\n",
      "Deleting value\n"
     ]
    }
   ],
   "source": [
    "# Python program to explain property() function\n",
    "\t\n",
    "# Alphabet class\n",
    "class Alphabet:\n",
    "\tdef __init__(self, value):\n",
    "\t\tself._value = value\n",
    "\t\t\t\n",
    "\t# getting the values\n",
    "\tdef getValue(self):\n",
    "\t\tprint('Getting value')\n",
    "\t\treturn self._value\n",
    "\t\t\t\n",
    "\t# setting the values\n",
    "\tdef setValue(self, value):\n",
    "\t\tprint('Setting value to ' + value)\n",
    "\t\tself._value = value\n",
    "\t\t\t\n",
    "\t# deleting the values\n",
    "\tdef delValue(self):\n",
    "\t\tprint('Deleting value')\n",
    "\t\tdel self._value\n",
    "\t\t\n",
    "\tvalue = property(getValue, setValue, delValue, )\n",
    "\t\n",
    "# passing the value\n",
    "x = Alphabet('GeeksforGeeks')\n",
    "print(x.value)\n",
    "\t\n",
    "x.value = 'GfG'\n",
    "\t\n",
    "del x.value\n"
   ]
  },
  {
   "cell_type": "markdown",
   "id": "7158a747",
   "metadata": {},
   "source": [
    "A suble aspect of attribute manipulation is that sometimes the attributes of an object are wrapped with an extra layer of logic that interact with the get(), set(), and delete() operations as described above.  This kind of wrapping is accomplished by creating a descriptor object that implements one or more of the methods listed in Table 3.17.  Keep in mind that descriptors are optional and rarely need to be defined."
   ]
  },
  {
   "cell_type": "markdown",
   "id": "c2d960c3",
   "metadata": {},
   "source": [
    "## Data Encapsulation and Private Attributes"
   ]
  },
  {
   "cell_type": "markdown",
   "id": "9d2e6815",
   "metadata": {},
   "source": [
    "Data encapsulation implies that client code does not have direct access to an object's data.  By default, all attributes and methods of a class in Python are public.  This means that they are directly accessible from client code without any restrictions. To resolve this problem, all names in a class that start with a double underscore are automatically changed to form a new name of the form <b>_Classname__name</b>.\n",
    "\n",
    "A class can make the names of its attributes less visible by overriding the __dir__() method (returns the list of names returned by the dir() method and used to inspect the attributes of an object)."
   ]
  },
  {
   "cell_type": "code",
   "execution_count": 8,
   "id": "83e5cc0b",
   "metadata": {},
   "outputs": [
    {
     "name": "stdout",
     "output_type": "stream",
     "text": [
      "['keep a secret']\n"
     ]
    },
    {
     "ename": "AttributeError",
     "evalue": "'A' object has no attribute '__X'",
     "output_type": "error",
     "traceback": [
      "\u001b[1;31m---------------------------------------------------------------------------\u001b[0m",
      "\u001b[1;31mAttributeError\u001b[0m                            Traceback (most recent call last)",
      "\u001b[1;32m~\\AppData\\Local\\Temp/ipykernel_12104/1965690937.py\u001b[0m in \u001b[0;36m<module>\u001b[1;34m\u001b[0m\n\u001b[0;32m      8\u001b[0m \u001b[0mc\u001b[0m \u001b[1;33m=\u001b[0m \u001b[0mA\u001b[0m\u001b[1;33m(\u001b[0m\u001b[1;33m)\u001b[0m\u001b[1;33m\u001b[0m\u001b[1;33m\u001b[0m\u001b[0m\n\u001b[0;32m      9\u001b[0m \u001b[0mprint\u001b[0m\u001b[1;33m(\u001b[0m\u001b[0mdir\u001b[0m\u001b[1;33m(\u001b[0m\u001b[0mc\u001b[0m\u001b[1;33m)\u001b[0m\u001b[1;33m)\u001b[0m\u001b[1;33m\u001b[0m\u001b[1;33m\u001b[0m\u001b[0m\n\u001b[1;32m---> 10\u001b[1;33m \u001b[0mprint\u001b[0m\u001b[1;33m(\u001b[0m\u001b[0mc\u001b[0m\u001b[1;33m.\u001b[0m\u001b[0m__X\u001b[0m\u001b[1;33m)\u001b[0m \u001b[1;31m#variable has been mangled to _A__X\u001b[0m\u001b[1;33m\u001b[0m\u001b[1;33m\u001b[0m\u001b[0m\n\u001b[0m",
      "\u001b[1;31mAttributeError\u001b[0m: 'A' object has no attribute '__X'"
     ]
    }
   ],
   "source": [
    "class A(object):\n",
    "    def __init__(self):\n",
    "        self.__X = 3    #mangled to self._A__X\n",
    "        \n",
    "    def __dir__(self):\n",
    "        return [\"keep a secret\"]\n",
    "        \n",
    "c = A()\n",
    "print(dir(c))\n",
    "print(c.__X) #variable has been mangled to _A__X"
   ]
  }
 ],
 "metadata": {
  "kernelspec": {
   "display_name": "Python 3 (ipykernel)",
   "language": "python",
   "name": "python3"
  },
  "language_info": {
   "codemirror_mode": {
    "name": "ipython",
    "version": 3
   },
   "file_extension": ".py",
   "mimetype": "text/x-python",
   "name": "python",
   "nbconvert_exporter": "python",
   "pygments_lexer": "ipython3",
   "version": "3.9.7"
  }
 },
 "nbformat": 4,
 "nbformat_minor": 5
}
