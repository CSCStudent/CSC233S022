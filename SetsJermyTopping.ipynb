{
 "cells": [
  {
   "cell_type": "markdown",
   "id": "5e6f8d0f",
   "metadata": {},
   "source": [
    "# Sets"
   ]
  },
  {
   "cell_type": "markdown",
   "id": "49f9737d",
   "metadata": {},
   "source": [
    "Sets are iterable, unchangable, unordered, unindexed collections of data that can not contain duplicate entries. typically sets are used to perform mathmatic like set opperations on sets of data, things like returning only the items two sets have in common, or only the items that are different."
   ]
  },
  {
   "cell_type": "code",
   "execution_count": 1,
   "id": "572c0771",
   "metadata": {},
   "outputs": [
    {
     "name": "stdout",
     "output_type": "stream",
     "text": [
      "{False, 'itemOne', 3, 'itemTwo'}\n"
     ]
    }
   ],
   "source": [
    "thisSet = {\"itemOne\", \"itemTwo\", 3, False}\n",
    "\n",
    "print(thisSet)"
   ]
  },
  {
   "cell_type": "markdown",
   "id": "32e08b49",
   "metadata": {},
   "source": [
    "there are only a limited number of ways to access the data held in a set, typically this is done though iterating though a loop"
   ]
  },
  {
   "cell_type": "code",
   "execution_count": 2,
   "id": "d1afae1b",
   "metadata": {},
   "outputs": [
    {
     "name": "stdout",
     "output_type": "stream",
     "text": [
      "False\n",
      "itemOne\n",
      "3\n",
      "itemTwo\n"
     ]
    }
   ],
   "source": [
    "for x in thisSet:\n",
    "    print(x)"
   ]
  },
  {
   "cell_type": "markdown",
   "id": "e0e4b259",
   "metadata": {},
   "source": [
    "it is possible to check to see if a specific item is in the set however."
   ]
  },
  {
   "cell_type": "code",
   "execution_count": 5,
   "id": "2e162680",
   "metadata": {},
   "outputs": [
    {
     "name": "stdout",
     "output_type": "stream",
     "text": [
      "{False, 'itemOne', 3, 'itemTwo'}\n",
      "True\n",
      "False\n"
     ]
    }
   ],
   "source": [
    "print(thisSet)\n",
    "print(\"itemOne\" in thisSet)\n",
    "print(\"ItemOne\" in thisSet)"
   ]
  },
  {
   "cell_type": "markdown",
   "id": "9ef56274",
   "metadata": {},
   "source": [
    "while the actual items in a set are unchangable, the set its self can be added to and items can be removed from it. by calling a method update() and passing any iterable object we can add to our set. we can also remove items from the set with either remove() or discard(). care should be taken when using remove() as an exception will be thrown if the value you are deleting doesnt exist. in addition pop() can be used to delete the last item, however given that sets are unordered there's no way to be sure what is getting deleted. all items can be removed from the set by calling the method clear()"
   ]
  },
  {
   "cell_type": "code",
   "execution_count": 14,
   "id": "1ab7aac9",
   "metadata": {},
   "outputs": [
    {
     "name": "stdout",
     "output_type": "stream",
     "text": [
      "{'orange', 'four', 'banana', 'one', 'apple', 'three', 'two'}\n",
      "{'orange', 'four', 'one', 'apple', 'three', 'two'}\n",
      "{'orange', 'four', 'one', 'apple', 'three', 'two'}\n"
     ]
    }
   ],
   "source": [
    "del(thisSet)\n",
    "thisSet = {\"one\", \"two\", \"three\", \"four\"}\n",
    "myList = [\"apple\", \"orange\", \"banana\"]\n",
    "\n",
    "thisSet.update(myList)\n",
    "print(thisSet)\n",
    "\n",
    "thisSet.remove(\"banana\")\n",
    "#thisSet.remove(\"banana\") be careful when using remove() it will throw an error if the value is not in the set\n",
    "print(thisSet)\n",
    "\n",
    "thisSet.discard(\"banana\") #if you dont know if an item is in a set, use discard()\n",
    "                          #it doesn't throw an error if the item doesnt exist\n",
    "print(thisSet)"
   ]
  },
  {
   "cell_type": "markdown",
   "id": "b9f49584",
   "metadata": {},
   "source": [
    "the real use for sets is the ability to quickly compare different sets against each other. "
   ]
  },
  {
   "cell_type": "code",
   "execution_count": 23,
   "id": "82b8cefe",
   "metadata": {},
   "outputs": [
    {
     "name": "stdout",
     "output_type": "stream",
     "text": [
      "{'one', 'two'}\n",
      "{'three', 'four'}\n",
      "{'one', 'five', 'six', 'two'}\n",
      "{'four', 'one', 'five', 'six', 'three', 'two'}\n",
      "True\n",
      "True\n"
     ]
    }
   ],
   "source": [
    "thisSet.clear()\n",
    "thisSet = {\"one\", \"two\", \"three\", \"four\"}\n",
    "secondSet = {\"three\", \"four\", \"five\", \"six\"}\n",
    "subset = {\"two\", \"three\"}\n",
    "\n",
    "print(thisSet.difference(secondSet))#difference() returns a set that only contains items that are not in the second set\n",
    "print(thisSet.intersection(secondSet))#intersection() returns a set that only contains items that are in both sets\n",
    "print(thisSet.symmetric_difference(secondSet))#symmetric_difference() returns a set that contains \n",
    "                                              #items that are in one set or the other, but not both\n",
    "print(thisSet.union(secondSet))#union() returns a set that contains all items from both sets\n",
    "print(thisSet.issuperset(subset))#issuperset returns true if the first set contains all items in the second set\n",
    "print(subset.issubset(thisSet))#issubset returns true if all items in the first set are contained in the second set"
   ]
  },
  {
   "cell_type": "markdown",
   "id": "8e2fe02a",
   "metadata": {},
   "source": [
    "all of the above methods also have an update version, instead of simply returning a set with the respective values calling ..._update() will instead update the set that called the method into the set that would have been returned"
   ]
  },
  {
   "cell_type": "code",
   "execution_count": 24,
   "id": "2425234d",
   "metadata": {},
   "outputs": [
    {
     "name": "stdout",
     "output_type": "stream",
     "text": [
      "{'one', 'two'}\n"
     ]
    }
   ],
   "source": [
    "thisSet.clear()\n",
    "thisSet = {\"one\", \"two\", \"three\", \"four\"}\n",
    "secondSet = {\"three\", \"four\", \"five\", \"six\"}\n",
    "subset = {\"two\", \"three\"}\n",
    "thisSet.difference_update(secondSet)\n",
    "print(thisSet)\n",
    "\n"
   ]
  },
  {
   "cell_type": "code",
   "execution_count": null,
   "id": "2e8ada2c",
   "metadata": {},
   "outputs": [],
   "source": []
  }
 ],
 "metadata": {
  "kernelspec": {
   "display_name": "Python 3 (ipykernel)",
   "language": "python",
   "name": "python3"
  },
  "language_info": {
   "codemirror_mode": {
    "name": "ipython",
    "version": 3
   },
   "file_extension": ".py",
   "mimetype": "text/x-python",
   "name": "python",
   "nbconvert_exporter": "python",
   "pygments_lexer": "ipython3",
   "version": "3.9.7"
  }
 },
 "nbformat": 4,
 "nbformat_minor": 5
}
