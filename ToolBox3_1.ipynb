{
 "cells": [
  {
   "cell_type": "markdown",
   "id": "84af284a",
   "metadata": {},
   "source": [
    "# Sending Email"
   ]
  },
  {
   "cell_type": "markdown",
   "id": "d91372f5",
   "metadata": {},
   "source": [
    "## Assembling an Email Message"
   ]
  },
  {
   "cell_type": "markdown",
   "id": "cf8bf814",
   "metadata": {},
   "source": []
  },
  {
   "cell_type": "markdown",
   "id": "75fa1b94",
   "metadata": {},
   "source": [
    "This example sends a simple email message.  In general, messges can be a combination of text and attachments.  A specification with the abbreviation MIME describes how email messages need to be formatted.\n",
    "\n",
    "Here, we simply use the MIME classes that Python provides to create the message.\n",
    "You start by making a message that can consist of multiple parts.\n",
    "\n",
    "Specify the email addresses of the sender and one or more recipients, and the subject line:"
   ]
  },
  {
   "cell_type": "code",
   "execution_count": 46,
   "id": "121fad64",
   "metadata": {},
   "outputs": [],
   "source": [
    "from email.mime.multipart import MIMEMultipart\n",
    "from email.mime.text import MIMEText\n",
    "from email.mime.image import MIMEImage\n",
    "from email.mime.application import MIMEApplication"
   ]
  },
  {
   "cell_type": "code",
   "execution_count": null,
   "id": "22e33d99",
   "metadata": {},
   "outputs": [],
   "source": [
    "msg = MIMEMultipart()\n",
    "sender = input(\"From: \")\n",
    "recipient = input(\"To: \")\n",
    "subject = input(\"Subject: \")\n",
    "msgBody = input(\"Message: \")"
   ]
  },
  {
   "cell_type": "markdown",
   "id": "5044d962",
   "metadata": {},
   "source": [
    "Now you can include the message body."
   ]
  },
  {
   "cell_type": "code",
   "execution_count": 48,
   "id": "14de4aee",
   "metadata": {},
   "outputs": [],
   "source": [
    "msg.add_header(\"From\", sender)\n",
    "msg.add_header(\"To\", recipient)\n",
    "msg.add_header(\"Subject\", subject)\n",
    "msg.attach(MIMEText(msgBody, \"plain\"))"
   ]
  },
  {
   "cell_type": "markdown",
   "id": "a6cb8d34",
   "metadata": {},
   "source": [
    "## Sending a Message"
   ]
  },
  {
   "cell_type": "code",
   "execution_count": 49,
   "id": "ccddcb49",
   "metadata": {},
   "outputs": [],
   "source": [
    "import smtplib\n",
    "\n",
    "host = \"smtp.gmail.com\"\n",
    "port = 587\n",
    "server = smtplib.SMTP(host, port)\n"
   ]
  },
  {
   "cell_type": "markdown",
   "id": "2a016b47",
   "metadata": {},
   "source": [
    "Now create the message.  Here we simply create a plain text message and then finally send it."
   ]
  },
  {
   "cell_type": "code",
   "execution_count": null,
   "id": "0ef51053",
   "metadata": {},
   "outputs": [],
   "source": [
    "username = input(\"user name:\")\n",
    "password = input(\"password: \")\n",
    "\n",
    "server.starttls()\n",
    "server.login(username, password)\n",
    "server.send_message(msg)\n",
    "server.quit()\n"
   ]
  }
 ],
 "metadata": {
  "kernelspec": {
   "display_name": "Python 3 (ipykernel)",
   "language": "python",
   "name": "python3"
  },
  "language_info": {
   "codemirror_mode": {
    "name": "ipython",
    "version": 3
   },
   "file_extension": ".py",
   "mimetype": "text/x-python",
   "name": "python",
   "nbconvert_exporter": "python",
   "pygments_lexer": "ipython3",
   "version": "3.9.7"
  }
 },
 "nbformat": 4,
 "nbformat_minor": 5
}
