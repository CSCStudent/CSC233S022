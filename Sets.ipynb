{
 "cells": [
  {
   "cell_type": "markdown",
   "id": "39aa66c3",
   "metadata": {},
   "source": [
    "## Sets"
   ]
  },
  {
   "cell_type": "markdown",
   "id": "2d9a2a2b",
   "metadata": {},
   "source": [
    "A set is used to contain an unordered collection of objects.  Unlike lists and tuples, set are unordered and cannot be indexed by numbers.  The elements of a set are unique."
   ]
  },
  {
   "cell_type": "code",
   "execution_count": 5,
   "id": "779241f3",
   "metadata": {},
   "outputs": [
    {
     "name": "stdout",
     "output_type": "stream",
     "text": [
      "{22}\n",
      "{'l', 'd', 'w', 'e', 'h', ' ', 'o', 'r'}\n",
      "{'l', 'd', 3, 5, 7, 'w', 11, 'e', 'h', ' ', 'o', 'r'}\n",
      "True\n"
     ]
    }
   ],
   "source": [
    "s = set()\n",
    "s.add(22)\n",
    "print(s)\n",
    "\n",
    "t = set(\"hello world\")\n",
    "print (t)\n",
    "t.update([3,5,7,11])\n",
    "print(t)\n",
    "\n",
    "print(3 in t)"
   ]
  }
 ],
 "metadata": {
  "hide_input": false,
  "kernelspec": {
   "display_name": "Python 3 (ipykernel)",
   "language": "python",
   "name": "python3"
  },
  "language_info": {
   "codemirror_mode": {
    "name": "ipython",
    "version": 3
   },
   "file_extension": ".py",
   "mimetype": "text/x-python",
   "name": "python",
   "nbconvert_exporter": "python",
   "pygments_lexer": "ipython3",
   "version": "3.9.7"
  }
 },
 "nbformat": 4,
 "nbformat_minor": 5
}
