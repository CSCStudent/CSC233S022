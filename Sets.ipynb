{
 "cells": [
  {
   "cell_type": "markdown",
   "id": "42044546",
   "metadata": {},
   "source": [
    "## Sets"
   ]
  },
  {
   "cell_type": "markdown",
   "id": "90fdeb11",
   "metadata": {},
   "source": [
    "A set is used to contain an unordered collection of objects.  Unlike lists and tuples, set are unordered and cannot be indexed by numbers.  The elements of a set are unique."
   ]
  },
  {
   "cell_type": "code",
   "execution_count": 14,
   "id": "b7b6c546",
   "metadata": {},
   "outputs": [
    {
     "name": "stdout",
     "output_type": "stream",
     "text": [
      "{22}\n",
      "{'l', 'd', 'w', 'e', 'h', ' ', 'o', 'r'}\n",
      "{'l', 'd', 3, 5, 7, 'w', 11, 'e', 'h', ' ', 'o', 'r'}\n",
      "True\n",
      "{'l', 'd', 3, 5, 7, 'w', 11, 'e', 'King Arthur', 'h', ' ', 'o', 'r'}\n",
      "{'l', 'd', 3, 5, 7, 'w', 11, 'e', 'h', ' ', 'o', 'r'}\n",
      "{'l', 'd', 3, 5, 7, 'w', 11, 'e', 'h', ' ', 'o', 'r'}\n"
     ]
    },
    {
     "ename": "KeyError",
     "evalue": "'King Arthur'",
     "output_type": "error",
     "traceback": [
      "\u001b[1;31m---------------------------------------------------------------------------\u001b[0m",
      "\u001b[1;31mKeyError\u001b[0m                                  Traceback (most recent call last)",
      "\u001b[1;32m~\\AppData\\Local\\Temp/ipykernel_20028/943307099.py\u001b[0m in \u001b[0;36m<module>\u001b[1;34m\u001b[0m\n\u001b[0;32m     17\u001b[0m \u001b[0mt\u001b[0m\u001b[1;33m.\u001b[0m\u001b[0mdiscard\u001b[0m\u001b[1;33m(\u001b[0m\u001b[1;34m\"King Arthur\"\u001b[0m\u001b[1;33m)\u001b[0m\u001b[1;33m\u001b[0m\u001b[1;33m\u001b[0m\u001b[0m\n\u001b[0;32m     18\u001b[0m \u001b[0mprint\u001b[0m\u001b[1;33m(\u001b[0m\u001b[0mt\u001b[0m\u001b[1;33m)\u001b[0m\u001b[1;33m\u001b[0m\u001b[1;33m\u001b[0m\u001b[0m\n\u001b[1;32m---> 19\u001b[1;33m \u001b[0mt\u001b[0m\u001b[1;33m.\u001b[0m\u001b[0mremove\u001b[0m\u001b[1;33m(\u001b[0m\u001b[1;34m\"King Arthur\"\u001b[0m\u001b[1;33m)\u001b[0m\u001b[1;33m\u001b[0m\u001b[1;33m\u001b[0m\u001b[0m\n\u001b[0m",
      "\u001b[1;31mKeyError\u001b[0m: 'King Arthur'"
     ]
    }
   ],
   "source": [
    "s = set()\n",
    "s.add(22)\n",
    "s.add(22)\n",
    "print(s)\n",
    "\n",
    "t = set(\"hello world\")\n",
    "print (t)\n",
    "t.update([3,5,7,11,11])\n",
    "print(t)\n",
    "\n",
    "print(3 in t)\n",
    "\n",
    "t.add(\"King Arthur\")\n",
    "print (t)\n",
    "t.discard(\"King Arthur\")\n",
    "print(t)\n",
    "t.discard(\"King Arthur\")\n",
    "print(t)\n",
    "t.remove(\"King Arthur\")"
   ]
  },
  {
   "cell_type": "markdown",
   "id": "c97c1d58",
   "metadata": {},
   "source": [
    "The union, intersection, and difference operators."
   ]
  },
  {
   "cell_type": "code",
   "execution_count": 19,
   "id": "d63ed812",
   "metadata": {},
   "outputs": [
    {
     "name": "stdout",
     "output_type": "stream",
     "text": [
      "False\n",
      "{'White', 'Red', 'Blue'}\n",
      "{'Green'}\n"
     ]
    }
   ],
   "source": [
    "canadian = {\"Red\", \"White\"}\n",
    "british = {\"Red\", \"Blue\", \"White\"}\n",
    "italian = {\"Red\", \"White\", \"Green\"}\n",
    "\n",
    "# the issubset() returns true/false to report whether one set is a subset of another.\n",
    "print(italian.issubset(canadian))\n",
    "\n",
    "# the union of two set contains all of the elements from both sets\n",
    "print(canadian.union(british))\n",
    "\n",
    "# the difference of two sets results in a new set that contains those \n",
    "# elements that are in the first set but not in the second set.\n",
    "print(italian.difference(canadian))"
   ]
  }
 ],
 "metadata": {
  "hide_input": false,
  "kernelspec": {
   "display_name": "Python 3 (ipykernel)",
   "language": "python",
   "name": "python3"
  },
  "language_info": {
   "codemirror_mode": {
    "name": "ipython",
    "version": 3
   },
   "file_extension": ".py",
   "mimetype": "text/x-python",
   "name": "python",
   "nbconvert_exporter": "python",
   "pygments_lexer": "ipython3",
   "version": "3.9.7"
  }
 },
 "nbformat": 4,
 "nbformat_minor": 5
}
