{
 "cells": [
  {
   "cell_type": "markdown",
   "id": "3bd94f7b",
   "metadata": {},
   "source": [
    "<p style=\"font-size:26px;\">This is the notebook for Dictionaries Chapter 9</p>"
   ]
  },
  {
   "cell_type": "markdown",
   "id": "c2b6c81b",
   "metadata": {},
   "source": [
    "<h><b>Dictionary as a set of counters</H></b>\n",
    "Suppose you are given a string and you want to count how many times each letter\n",
    "appears. There are several ways you could do it:<br>\n",
    "You could create 26 variables, one for each letter of the alphabet. Then you\n",
    "could traverse the string and, for each character, increment the corresponding\n",
    "counter, probably using a chained conditional.<br><br>\n",
    "You could create a list with 26 elements. Then you could convert each\n",
    "character to a number (using the built-in function ord), use the number as\n",
    "an index into the list, and increment the appropriate counter.<br><br>\n",
    "You could create a dictionary with characters as keys and counters as the\n",
    "corresponding values. The first time you see a character, you would add\n",
    "an item to the dictionary. After that you would increment the value of an\n",
    "existing item.<br>"
   ]
  },
  {
   "cell_type": "code",
   "execution_count": 1,
   "id": "dc86b8d6",
   "metadata": {},
   "outputs": [
    {
     "name": "stdout",
     "output_type": "stream",
     "text": [
      "{'b': 1, 'r': 2, 'o': 2, 'n': 1, 't': 1, 's': 2, 'a': 1, 'u': 2}\n"
     ]
    }
   ],
   "source": [
    "word = 'brontosaurus'\n",
    "d = dict()\n",
    "for c in word:\n",
    "    if c not in d:\n",
    "        d[c] = 1\n",
    "    else:\n",
    "        d[c] = d[c] + 1\n",
    "print(d)"
   ]
  },
  {
   "cell_type": "markdown",
   "id": "046125e4",
   "metadata": {},
   "source": [
    "counts = { 'chuck' : 1 , 'annie' : 42, 'jan': 100}\n",
    "print(counts.get('jan', 0))\n",
    "100\n",
    "\n",
    "print(counts.get('tim', 0))\n",
    "0\n",
    "\n",
    "NOW use get for the histogram loop:\n",
    "\n",
    "word = 'brontosaurus'\n",
    "d = dict()\n",
    "for c in word:\n",
    "    d[c] = d.get(c,0) + 1\n",
    "print(d)\n",
    "\n",
    "*use of the get method to simplify this counting loop ends up being a very\n",
    "commonly used <b><u>“idiom” in Python</b></u>"
   ]
  },
  {
   "cell_type": "code",
   "execution_count": null,
   "id": "3c560d08",
   "metadata": {},
   "outputs": [],
   "source": [
    "word = 'brontosaurus'\n",
    "d = dict()\n",
    "for c in word:\n",
    "    d[c] = d.get(c,0) + 1\n",
    "print(d)"
   ]
  },
  {
   "cell_type": "markdown",
   "id": "477ebf08",
   "metadata": {},
   "source": [
    "<b><u>Dictionaries and files</b></u>\n",
    "\n",
    "count the occurrence of words\n",
    "simple file of words taken from the text of <b><i>Romeo and Juliet.</b></i>\n",
    "\n",
    "example uses inner and outer <b>for</b> loops, nested, outer loop reads the line and the inner loop acts on the words.\n",
    "\n",
    "\n",
    "\n"
   ]
  },
  {
   "cell_type": "code",
   "execution_count": null,
   "id": "8b56f66f",
   "metadata": {},
   "outputs": [],
   "source": [
    "fname = input('Enter the file name: ')\n",
    "try:\n",
    "    fhand = open(fname)\n",
    "except:\n",
    "    print('File cannot be opened:', fname)\n",
    "    exit()\n",
    "    \n",
    "counts = dict()\n",
    "for line in fhand:\n",
    "    words = line.split()\n",
    "for word in words:\n",
    "    if word not in counts:\n",
    "        counts[word] = 1\n",
    "    else:\n",
    "        counts[word] += 1\n",
    "print(counts)\n",
    "\n",
    "#file run Romeo.txt\n",
    "# Code: http://www.py4e.com/code3/count1.py"
   ]
  },
  {
   "cell_type": "markdown",
   "id": "b7f55d88",
   "metadata": {},
   "source": [
    "python count1.py\n",
    "Enter the file name: romeo.txt\n",
    "{'and': 3, 'envious': 1, 'already': 1, 'fair': 1,\n",
    "'is': 3, 'through': 1, 'pale': 1, 'yonder': 1,\n",
    "'what': 1, 'sun': 2, 'Who': 1, 'But': 1, 'moon': 1,\n",
    "'window': 1, 'sick': 1, 'east': 1, 'breaks': 1,\n",
    "'grief': 1, 'with': 1, 'light': 1, 'It': 1, 'Arise': 1,\n",
    "'kill': 1, 'the': 3, 'soft': 1, 'Juliet': 1}"
   ]
  },
  {
   "cell_type": "markdown",
   "id": "545c8db7",
   "metadata": {},
   "source": [
    "<b><u>Looping and dictionaries</b></u>\n",
    "\n",
    "use a dictionary as the sequence in a for statement, it traverses the keys of\n",
    "the dictionary. This loop prints each key and the corresponding value:"
   ]
  },
  {
   "cell_type": "code",
   "execution_count": 5,
   "id": "ba9609db",
   "metadata": {},
   "outputs": [
    {
     "name": "stdout",
     "output_type": "stream",
     "text": [
      "chuck 1\n",
      "annie 42\n",
      "jan 100\n"
     ]
    }
   ],
   "source": [
    "counts = { 'chuck' : 1 , 'annie' : 42, 'jan': 100}\n",
    "for key in counts:\n",
    "    print(key, counts[key])"
   ]
  },
  {
   "cell_type": "markdown",
   "id": "3cc2bacf",
   "metadata": {},
   "source": [
    "<b> Qualifier statement in for loop</b> same dictionary and keys, but with a qualifier only printing list with >10 counts"
   ]
  },
  {
   "cell_type": "code",
   "execution_count": null,
   "id": "b5ea7caf",
   "metadata": {},
   "outputs": [],
   "source": [
    "counts = { 'chuck' : 1 , 'annie' : 42, 'jan': 100}\n",
    "for key in counts:\n",
    "    if counts[key] > 10 :\n",
    "    print(key, counts[key])"
   ]
  },
  {
   "cell_type": "markdown",
   "id": "05d55a77",
   "metadata": {},
   "source": [
    "<b>list sorted alphabetical:</b> - sort before the loop"
   ]
  },
  {
   "cell_type": "code",
   "execution_count": 6,
   "id": "77b8f2f4",
   "metadata": {},
   "outputs": [
    {
     "name": "stdout",
     "output_type": "stream",
     "text": [
      "['chuck', 'annie', 'jan']\n",
      "annie 42\n",
      "chuck 1\n",
      "jan 100\n"
     ]
    }
   ],
   "source": [
    "counts = { 'chuck' : 1 , 'annie' : 42, 'jan': 100}\n",
    "lst = list(counts.keys())\n",
    "print(lst)\n",
    "lst.sort()\n",
    "for key in lst:\n",
    "    print(key, counts[key])"
   ]
  },
  {
   "cell_type": "markdown",
   "id": "9bd9c8de",
   "metadata": {},
   "source": [
    "<b><u>Advanced text parsing</b></u><br><br>\n",
    "Python <b>split</b> function looks for spaces - runs into issues with punctuation<br>\n",
    "functions may be case sensitive too!!<br>\n",
    "\n",
    "useful method string.punctuation:\n",
    "#>>> import string\n",
    "#>>> string.punctuation<br>\n",
    "'!\"#$%&\\'()*+,-./:;<=>?@[\\\\]^_`{|}~'\n"
   ]
  },
  {
   "cell_type": "code",
   "execution_count": null,
   "id": "9d4e2cb7",
   "metadata": {},
   "outputs": [],
   "source": [
    "import string\n",
    "fname = input('Enter the file name: ')\n",
    "try:\n",
    "    fhand = open(fname)\n",
    "except:\n",
    "    print('File cannot be opened:', fname)\n",
    "    exit()\n",
    "counts = dict()\n",
    "for line in fhand:\n",
    "        line = line.rstrip()\n",
    "        line = line.translate(line.maketrans('', '', string.punctuation))\n",
    "        line = line.lower()\n",
    "        words = line.split()\n",
    "        for word in words:\n",
    "            if word not in counts:\n",
    "                counts[word] = 1\n",
    "            else:\n",
    "                counts[word] += 1\n",
    "print(counts)"
   ]
  },
  {
   "cell_type": "markdown",
   "id": "3b02c230",
   "metadata": {},
   "source": [
    "Enter the file name: <p style=\"color:red;\">romeo-full.txt</b>\n"
   ]
  },
  {
   "cell_type": "code",
   "execution_count": null,
   "id": "66b61bdf",
   "metadata": {},
   "outputs": [],
   "source": []
  }
 ],
 "metadata": {
  "hide_input": false,
  "kernelspec": {
   "display_name": "Python 3 (ipykernel)",
   "language": "python",
   "name": "python3"
  },
  "language_info": {
   "codemirror_mode": {
    "name": "ipython",
    "version": 3
   },
   "file_extension": ".py",
   "mimetype": "text/x-python",
   "name": "python",
   "nbconvert_exporter": "python",
   "pygments_lexer": "ipython3",
   "version": "3.9.7"
  }
 },
 "nbformat": 4,
 "nbformat_minor": 5
}
