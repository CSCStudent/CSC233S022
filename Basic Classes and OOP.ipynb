{
 "cells": [
  {
   "cell_type": "markdown",
   "id": "0e61366e",
   "metadata": {},
   "source": [
    "## Objects and values"
   ]
  },
  {
   "cell_type": "markdown",
   "id": "c49001ed",
   "metadata": {},
   "source": [
    "In an object oriented programming language, an object is the instance data defined by a class.  It \"refers\" to the data and is the handle that's used by the client code in either invoking class instance methods or object attributes or properties."
   ]
  },
  {
   "cell_type": "markdown",
   "id": "4f753961",
   "metadata": {},
   "source": [
    "The built-in function <b>id()</b> returns the identity of an object as an integer.  The function <b>type()</b> returns the type of an object.\n",
    "\n",
    "We can manipulate the reference variable using some of the Python built in functions."
   ]
  },
  {
   "cell_type": "code",
   "execution_count": 1,
   "id": "235002e1",
   "metadata": {},
   "outputs": [
    {
     "name": "stdout",
     "output_type": "stream",
     "text": [
      "banana <class 'str'> 2697209422064\n",
      "banana <class 'str'> 2697209422064\n",
      "\t aliasing...refers to same object\n",
      "\t objects have same value\n",
      "\t objects have the same type <class 'str'>\n",
      "banana <class 'str'> 2697209422064\n",
      "grapefruit <class 'str'> 2697209404592\n",
      "\t refer to different objects\n",
      "\t objects have different values\n",
      "\t objects have the same type <class 'str'>\n"
     ]
    }
   ],
   "source": [
    "def compare(m,n):\n",
    "    print(f\"{m} {type(m)} {id(m)}\")\n",
    "    print(f\"{n} {type(n)} {id(n)}\")\n",
    "    if m is n:\n",
    "        print(\"\\t aliasing...refers to same object\")\n",
    "    else:\n",
    "        print(\"\\t refer to different objects\")\n",
    "\n",
    "    if m == n:\n",
    "        print(\"\\t objects have same value\")\n",
    "    else:\n",
    "        print(\"\\t objects have different values\")\n",
    "        \n",
    "    if type(m) is type(n):\n",
    "        print(f\"\\t objects have the same type {type(m)}\")\n",
    "    else:\n",
    "        print(\"\\t objects are of different types.\")\n",
    "\n",
    "a = str(\"banana\")\n",
    "b = \"banana\"\n",
    "compare(a,b)\n",
    "\n",
    "b = \"grapefruit\"\n",
    "compare(a,b)"
   ]
  },
  {
   "cell_type": "markdown",
   "id": "9219286c",
   "metadata": {},
   "source": [
    "## Objects as arguments"
   ]
  },
  {
   "cell_type": "markdown",
   "id": "8716c0ec",
   "metadata": {},
   "source": [
    "When you pass an object to a function, the function gets a reference to the object so if the function modifies the parameter variable its also modifying the data of the caller.  For immutable objects, like numbers and strings, a copy of the originating argument is made."
   ]
  },
  {
   "cell_type": "code",
   "execution_count": 25,
   "id": "5a6ea380",
   "metadata": {},
   "outputs": [
    {
     "name": "stdout",
     "output_type": "stream",
     "text": [
      "['a', 'b', 'c']\n",
      "['b', 'c']\n",
      "['b']\n",
      "4\n",
      "[8]\n"
     ]
    }
   ],
   "source": [
    "def deleteHead(t):\n",
    "    del t[0]\n",
    "    \n",
    "def deleteTail(l):\n",
    "    del l[-1]\n",
    "    \n",
    "def double(n):\n",
    "    if type(n) is int:\n",
    "        n *= 2\n",
    "    else:\n",
    "        n[0] *= 2\n",
    "    \n",
    "    \n",
    "letters = [\"a\", \"b\", \"c\"]\n",
    "print(letters)\n",
    "deleteHead(letters)\n",
    "print(letters)\n",
    "\n",
    "deleteTail(letters)\n",
    "print(letters)\n",
    "\n",
    "val = 4\n",
    "double(val)\n",
    "print(val)\n",
    "\n",
    "val = [4]\n",
    "double(val)\n",
    "print(val)"
   ]
  },
  {
   "cell_type": "markdown",
   "id": "a15c2ed3",
   "metadata": {},
   "source": [
    "# The <I>class</I> Statement"
   ]
  },
  {
   "cell_type": "markdown",
   "id": "603d52c9",
   "metadata": {},
   "source": [
    "A class defines a set of attributes and methods associated with a collection of objects know as instances.  A set of methods and class and instance variables comprise a class.  "
   ]
  },
  {
   "cell_type": "markdown",
   "id": "f9008e2c",
   "metadata": {},
   "source": [
    "## Scope Rules"
   ]
  },
  {
   "cell_type": "markdown",
   "id": "0a43ef75",
   "metadata": {},
   "source": [
    "Although class defines a namespace, in Python classes do not create a scope for names used inside the class definition.  Consequently, references to attributes and methods must be fully qualified with class_name.attribute or class_name.method.  In methods, the class' attributes are always referenced using the \"self\" keyword.\n",
    "\n",
    "The lack of scoping rules in classes is one area where Python differes from C++ and Java.  If you have used those languages, the <I>self</I> parameter is the same as the <I>this</I> parameter."
   ]
  },
  {
   "cell_type": "code",
   "execution_count": 32,
   "id": "1a195c27",
   "metadata": {},
   "outputs": [],
   "source": [
    "class Foo(object):\n",
    "    def bar(self):\n",
    "        print(\"bar\")\n",
    "    def spam(self):    #using positional parameter, optional, keyword\n",
    "#        bar(self)    #generates a NameError\n",
    "        self.bar()    #implied agument 'self'  --- instance entity\n",
    "        Foo.bar(self) #class entity\n",
    "        \n",
    "    def __add__(self, rhs):       \n",
    "        print(\"hello from add\")\n",
    "        \n",
    "    def __truediv__(self, o):\n",
    "        print(f\"denominator is {dir(o)}\")"
   ]
  },
  {
   "cell_type": "code",
   "execution_count": 33,
   "id": "e6eaf256",
   "metadata": {},
   "outputs": [
    {
     "name": "stdout",
     "output_type": "stream",
     "text": [
      "<class '__main__.Foo'>\n",
      "bar\n",
      "bar\n",
      "bar\n",
      "bar\n",
      "denominator is ['__add__', '__class__', '__delattr__', '__dict__', '__dir__', '__doc__', '__eq__', '__format__', '__ge__', '__getattribute__', '__gt__', '__hash__', '__init__', '__init_subclass__', '__le__', '__lt__', '__module__', '__ne__', '__new__', '__reduce__', '__reduce_ex__', '__repr__', '__setattr__', '__sizeof__', '__str__', '__subclasshook__', '__truediv__', '__weakref__', 'bar', 'spam']\n",
      "None\n"
     ]
    }
   ],
   "source": [
    "def bar():\n",
    "    print(\"hello from bar\")\n",
    "    \n",
    "myObj = Foo()  #invoke constructor\n",
    "yourObj = Foo()\n",
    "print(type(myObj))\n",
    "myObj.spam()\n",
    "Foo.spam(myObj) #static methods --- utility method  Math.pow(base, exp)\n",
    "\n",
    "x = myObj / yourObj\n",
    "print(x)"
   ]
  },
  {
   "cell_type": "code",
   "execution_count": 18,
   "id": "77de3fa6",
   "metadata": {},
   "outputs": [
    {
     "name": "stdout",
     "output_type": "stream",
     "text": [
      "['_Fan__color', '__class__', '__delattr__', '__dict__', '__dir__', '__doc__', '__eq__', '__format__', '__ge__', '__getattribute__', '__gt__', '__hash__', '__init__', '__init_subclass__', '__le__', '__lt__', '__module__', '__ne__', '__new__', '__reduce__', '__reduce_ex__', '__repr__', '__setattr__', '__sizeof__', '__str__', '__subclasshook__', '__weakref__', 'on', 'powerOff', 'powerOn', 'radius', 'speed']\n",
      "{'_Fan__color': 'blue', 'on': True, 'radius': 16, 'speed': 'slow'}\n",
      "{'_Fan__color': 'blue', 'on': False, 'radius': 16, 'speed': 'slow'}\n",
      "33\n"
     ]
    }
   ],
   "source": [
    "SLOW = \"slow\"\n",
    "MEDIUM = \"medium\"\n",
    "FAST = \"fast\"\n",
    "\n",
    "class Fan():\n",
    "    def __init__(self):\n",
    "        self.__color = \"blue\"  #_class.__label\n",
    "        self.on = False\n",
    "        self.radius = 16\n",
    "        self.speed = SLOW\n",
    "                                       \n",
    "    def powerOn(self, val):\n",
    "        self.on = val\n",
    "        \n",
    "    def powerOff(self):\n",
    "        self.on = False\n",
    "\n",
    "#     def __dir__(self):\n",
    "#         return format(\"blah\")\n",
    "\n",
    "            \n",
    "myFan = Fan()\n",
    "print(dir(myFan))\n",
    "\n",
    "\n",
    "myFan.powerOn(True)\n",
    "print(myFan.__dict__)\n",
    "\n",
    "myFan.powerOff()\n",
    "print(myFan.__dict__)\n",
    "myFan._Fan__color = 33\n",
    "print(myFan._Fan__color)"
   ]
  },
  {
   "cell_type": "code",
   "execution_count": 1,
   "id": "217a2eee",
   "metadata": {},
   "outputs": [],
   "source": [
    "class Account(object):\n",
    "    num_accounts = 0 #class variable shared by all class Account objects\n",
    "    \n",
    "    def __init__(self, name, balance, valid):\n",
    "        self.name = name\n",
    "        self.balance = balance\n",
    "        Account.num_accounts += 1 #modifies value in class object\n",
    "    def __del__(self):\n",
    "        Account.num_accounts -= 1\n",
    "    def deposit(self, amt):\n",
    "        self.balance += amt\n",
    "    def withdraw(self, amt):\n",
    "        self.balance -= amt  \n",
    "    def inquiry(self):\n",
    "        return f\"{self.name} has balance {self.balance}\"\n",
    "    def howMany(self):\n",
    "        return f\"There are {Account.num_accounts} class Account objects\"\n",
    "        "
   ]
  },
  {
   "cell_type": "code",
   "execution_count": 2,
   "id": "198bea21",
   "metadata": {},
   "outputs": [
    {
     "name": "stdout",
     "output_type": "stream",
     "text": [
      "1\n",
      "There are 1 class Account objects\n",
      "Jack Sparrow has balance 100.56\n",
      "2\n",
      "There are 2 class Account objects\n",
      "Marlon Brando has balance 100.56\n"
     ]
    }
   ],
   "source": [
    "#create an account\n",
    "myAcct = Account(\"Jack Sparrow\",100.56, True)\n",
    "print(Account.num_accounts)\n",
    "print(myAcct.howMany())\n",
    "\n",
    "print(myAcct.inquiry())\n",
    "\n",
    "myAcct2 = Account(\"Marlon Brando\",100.56, True)\n",
    "print(Account.num_accounts)\n",
    "print(myAcct2.howMany())\n",
    "\n",
    "print(myAcct2.inquiry())\n",
    "\n",
    "#print(dir(myAcct))\n",
    "#del(myAcct)\n"
   ]
  },
  {
   "cell_type": "markdown",
   "id": "987f3116",
   "metadata": {},
   "source": [
    "## Overloading"
   ]
  },
  {
   "cell_type": "markdown",
   "id": "02fd77dc",
   "metadata": {},
   "source": [
    "There isn't any method overloading in Python. You can however use default arguments, as follows. When you pass it an argument, it will follow the logic of the first condition and execute the first print statement. When you pass it no arguments, it will go into the else condition and execute the second print statement."
   ]
  },
  {
   "cell_type": "code",
   "execution_count": 46,
   "id": "52eea574",
   "metadata": {},
   "outputs": [
    {
     "name": "stdout",
     "output_type": "stream",
     "text": [
      "2 only method\n",
      "some_default_value only method\n"
     ]
    }
   ],
   "source": [
    "class A:\n",
    "\n",
    "    def stackoverflow(self, i='some_default_value'):\n",
    "        print (i, 'only method')\n",
    "\n",
    "ob=A()\n",
    "ob.stackoverflow(2)\n",
    "ob.stackoverflow()"
   ]
  },
  {
   "cell_type": "code",
   "execution_count": 42,
   "id": "0fc0c79b",
   "metadata": {},
   "outputs": [
    {
     "name": "stdout",
     "output_type": "stream",
     "text": [
      "color white\n",
      "radius 18\n",
      "speed fast\n",
      "light on\n",
      "fan does not support option light\n",
      "fan 1\n",
      "{'_Fan__color': 'blue', 'on': False, 'radius': 18, 'speed': 'fast', 'color': 'white'}\n",
      "['_Fan__color', '_Fan__numFans', '__class__', '__delattr__', '__dict__', '__dir__', '__doc__', '__eq__', '__format__', '__ge__', '__getattribute__', '__gt__', '__hash__', '__init__', '__init_subclass__', '__le__', '__lt__', '__module__', '__ne__', '__new__', '__reduce__', '__reduce_ex__', '__repr__', '__setattr__', '__sizeof__', '__str__', '__subclasshook__', '__weakref__', 'color', 'on', 'powerOff', 'powerOn', 'radius', 'speed']\n",
      "black\n",
      "{'_Fan__color': 'blue', 'on': True, 'radius': 18, 'speed': 'fast', 'color': 'black'}\n",
      "{'_Fan__color': 'blue', 'on': False, 'radius': 18, 'speed': 'fast', 'color': 'black'}\n",
      "fan 2\n",
      "{'_Fan__color': 'blue', 'on': True, 'radius': 16, 'speed': 'slow'}\n"
     ]
    }
   ],
   "source": [
    "SLOW = \"slow\"\n",
    "MEDIUM = \"medium\"\n",
    "FAST = \"fast\"\n",
    "\n",
    "class Fan():\n",
    "    __numFans = 0\n",
    "    def __init__(self, **kwargs):\n",
    "        self.__color = \"blue\"\n",
    "        self.on = False\n",
    "        self.radius = 16\n",
    "        self.speed = SLOW\n",
    "        \n",
    "        Fan.__numFans += 1\n",
    "\n",
    "        for s in kwargs:\n",
    "            print(s, kwargs.get(s))\n",
    "            if s == \"color\":\n",
    "                self.color = kwargs.get(s)\n",
    "            else:\n",
    "                if s == \"radius\":\n",
    "                    self.radius = kwargs.get(s)\n",
    "                else:\n",
    "                    if s == \"speed\":\n",
    "                        self.speed = kwargs.get(s)\n",
    "                    else:\n",
    "                        print(f\"fan does not support option {s}\")\n",
    "                                        \n",
    "    def powerOn(self):\n",
    "        self.on = True\n",
    "             \n",
    "# how do we overload powerOn() with speed parameter??\n",
    "\n",
    "    def powerOff(self):\n",
    "        self.on = False\n",
    "           \n",
    "            \n",
    "myFan = Fan(color = \"white\", radius = 18, speed = FAST, light = \"on\")\n",
    "print(f\"fan {(Fan._Fan__numFans)}\")\n",
    "print(myFan.__dict__)\n",
    "print(dir(myFan))\n",
    "\n",
    "myFan.color = \"black\"\n",
    "print(myFan.color)\n",
    "\n",
    "myFan.powerOn()\n",
    "print(myFan.__dict__)\n",
    "\n",
    "myFan.powerOff()\n",
    "print(myFan.__dict__)\n",
    "\n",
    "myFan2 = Fan()\n",
    "print(f\"fan {(Fan._Fan__numFans)}\")\n",
    "myFan2.powerOn()\n",
    "print(myFan2.__dict__)\n"
   ]
  },
  {
   "cell_type": "code",
   "execution_count": 62,
   "id": "c8ace22c",
   "metadata": {},
   "outputs": [],
   "source": [
    "class Foo(object):\n",
    "    def bar(self):\n",
    "        print(\"bar\")\n",
    "    def spam(self):\n",
    "#        bar(self)    #generates a NameError\n",
    "        self.bar()    #implied agument 'self'\n",
    "        Foo.bar(self)"
   ]
  },
  {
   "cell_type": "markdown",
   "id": "317b180e",
   "metadata": {},
   "source": [
    "## Inheritance"
   ]
  },
  {
   "cell_type": "markdown",
   "id": "7c974c83",
   "metadata": {},
   "source": [
    "Inheritance is often used to redefine the characteristics of a base class."
   ]
  },
  {
   "cell_type": "code",
   "execution_count": 26,
   "id": "2e25d9c4",
   "metadata": {},
   "outputs": [],
   "source": [
    "class SavingsAccount(Account):\n",
    "    def __init__(self, name, amt):\n",
    "        super().__init__(name, amt, True) #invoke superclass constructor\n",
    "        \n",
    "    def withdrawal(self, amt):\n",
    "        if self.balance - amt > 0:\n",
    "            self.balance -= amt\n",
    "        else:\n",
    "            raise RuntimeError(\"Savings overdraft detected\")\n",
    "    def toString(self):\n",
    "        return \"Balance of savings account named {} is: ${}\".format(self.name, self.balance)    \n",
    "        "
   ]
  },
  {
   "cell_type": "code",
   "execution_count": 27,
   "id": "b65ad9ef",
   "metadata": {},
   "outputs": [],
   "source": [
    "#class inherits from base class\n",
    "class CheckingAccount(Account):\n",
    "    def __init__(self, name, amt):\n",
    "        super().__init__(name, amt, True) #invoke superclass constructor    \n",
    "    \n",
    "    def withdrawal(self, amt):\n",
    "        if self.balance - amt > 0:\n",
    "            self.balance -= amt\n",
    "        else:\n",
    "            raise RuntimeError(\"Checking overdraft detected\")\n",
    "    #override the toString method\n",
    "    def toString(self):\n",
    "        return \"Balance of checking account named {} is: ${}\".format(self.name, self.balance)\n",
    "        "
   ]
  },
  {
   "cell_type": "code",
   "execution_count": 28,
   "id": "39ab90a9",
   "metadata": {
    "scrolled": true
   },
   "outputs": [
    {
     "name": "stdout",
     "output_type": "stream",
     "text": [
      "class Account account is valid\n",
      "Balance of checking account named Rocky Raccoon is: $310.13\n",
      "class Account account is valid\n",
      "Balance of savings account named Warren Buffett is: $1000000000.0\n"
     ]
    }
   ],
   "source": [
    "bankCheckingAccount = CheckingAccount(\"Rocky Raccoon\", 312.45)\n",
    "bankCheckingAccount.withdrawal(2.32)\n",
    "print(bankCheckingAccount.toString())\n",
    "\n",
    "bankSavingsAccount = SavingsAccount(\"Warren Buffett\", 1000e6)\n",
    "print(bankSavingsAccount.toString())\n",
    "\n",
    "#bankCheckingAccount.withdrawal(1000)"
   ]
  },
  {
   "cell_type": "markdown",
   "id": "4a997fe2",
   "metadata": {},
   "source": [
    "## Abstract Classes"
   ]
  },
  {
   "cell_type": "markdown",
   "id": "a811e142",
   "metadata": {},
   "source": [
    "Defining methods in a super-class that are intended to be overriden by a subclass is a problematic design.  There is no assurance that the subclass will override a specific method of the superclass.\n",
    "\n",
    "A better way is to specify the method as an <b>abstract method</b>.  And abstract method has no implementation and thus forces the a subclass to override the method.  A class that contains at least one abstract method is known as an <b>abstract class</b> (a class that contains no abstract methods is referred to as a <b>concrete class</b>).\n",
    "\n",
    "By specifying certain methods as abstract, you avoid the trouble of coming up with useless default methods that other subclasses might inherit by accident."
   ]
  },
  {
   "cell_type": "markdown",
   "id": "1931dcdc",
   "metadata": {},
   "source": [
    "In Python, there is no explicit way to specify an abstract method.  Instead, the common practice is to have the method raise a <b>NotImplementedError</b>."
   ]
  },
  {
   "cell_type": "code",
   "execution_count": 34,
   "id": "8385e002",
   "metadata": {},
   "outputs": [],
   "source": [
    "class Account(object):\n",
    "    # ....\n",
    "    def deductFees(self):\n",
    "        raise NotImplementedError"
   ]
  },
  {
   "cell_type": "markdown",
   "id": "d97eac00",
   "metadata": {},
   "source": [
    "## Polymorphism and Dynamic Binding"
   ]
  },
  {
   "cell_type": "markdown",
   "id": "7d7f39aa",
   "metadata": {},
   "source": [
    "Polymorphism and dynamic binding allows us to use an object without regard to its type.  Python programmers often write code that relies on this behavior.\n",
    "\n",
    "<b>Polymorphism</b> means that a variable of a super-class type can refer to a sub-class type.  Since Python is not a strongly typed language, the data type of a paramter is not specified and therefore the arguement can be of any type.  This may cause an exception at run-time as illustrated below.\n",
    "\n",
    "<b>Dynamic binding</b> is handled through the attribute lookup process related to class definitions that use inheritance.  The search order begins at the object's class first, then its class' base class, continuing up the class hierarch to the Python 'class object'."
   ]
  },
  {
   "cell_type": "code",
   "execution_count": 88,
   "id": "6d964638",
   "metadata": {},
   "outputs": [],
   "source": [
    "#define a super-class\n",
    "class A(object):\n",
    "    def foo(self, p):\n",
    "        print(self.foo)\n",
    "        print(\"{} method foo()\".format(p))\n",
    "        \n",
    "    def foobar(self, p):\n",
    "        print(self.foobar)\n",
    "        print(\"{} method foobar()\".format(p))        \n",
    "\n",
    "#define a subclass\n",
    "class B(A):\n",
    "    def foo(self, p):\n",
    "        print(self.foo)\n",
    "        print(\"{} method foo()\".format(p))"
   ]
  },
  {
   "cell_type": "code",
   "execution_count": 89,
   "id": "9370e213",
   "metadata": {},
   "outputs": [
    {
     "name": "stdout",
     "output_type": "stream",
     "text": [
      "<class '__main__.A'>\n",
      "<bound method A.foo of <__main__.A object at 0x0000029F2FB096A0>>\n",
      "<class '__main__.A'> method foo()\n",
      "<bound method A.foobar of <__main__.A object at 0x0000029F2FB096A0>>\n",
      "<class '__main__.A'> method foobar()\n",
      "<class '__main__.B'>\n",
      "<bound method B.foo of <__main__.B object at 0x0000029F2FB09250>>\n",
      "<class '__main__.B'> method foo()\n",
      "<bound method A.foobar of <__main__.B object at 0x0000029F2FB09250>>\n",
      "<class '__main__.B'> method foobar()\n"
     ]
    }
   ],
   "source": [
    "def bar(parm):\n",
    "    print(type(parm))\n",
    "    parm.foo(type(parm))\n",
    "    parm.foobar(type(parm))\n",
    "    \n",
    "myObj = A()\n",
    "bar(myObj)\n",
    "\n",
    "myObj = B()\n",
    "bar(myObj)\n",
    "\n",
    "\n"
   ]
  },
  {
   "cell_type": "markdown",
   "id": "e71a958a",
   "metadata": {},
   "source": [
    "## Static Methods and Class Methods"
   ]
  },
  {
   "cell_type": "markdown",
   "id": "5b275ea9",
   "metadata": {},
   "source": [
    "In a class definition, all function are assumed to operate on an object which is always passed as the first parameter (ie. \"self\").  However, a static method is an ordinary function that just happens to live in the namespace defined by a class and does not operate on any kind of object.  To define a static method we use the <b>@staticmethod</b> decorator.  A class can be designed for a specific utility implemented using static methods."
   ]
  },
  {
   "cell_type": "code",
   "execution_count": 3,
   "id": "6904afa6",
   "metadata": {},
   "outputs": [],
   "source": [
    "class Math(object):\n",
    "    @staticmethod\n",
    "    def add(x,y):\n",
    "        return x+y\n",
    "    @staticmethod\n",
    "    def pow(x,y):\n",
    "        return x**y"
   ]
  },
  {
   "cell_type": "code",
   "execution_count": 4,
   "id": "d2ae270a",
   "metadata": {},
   "outputs": [
    {
     "name": "stdout",
     "output_type": "stream",
     "text": [
      "7\n",
      "32\n"
     ]
    }
   ],
   "source": [
    "x = Math.add(3,4)\n",
    "print(x)\n",
    "\n",
    "e = Math.pow(2,5)\n",
    "print(e)"
   ]
  },
  {
   "cell_type": "markdown",
   "id": "e00a2a59",
   "metadata": {},
   "source": [
    "The <b>class methods</b> are methods that operate on the class itself as if it were the object.  Defined using the <b>classmethod</b> decorator, a class is passed as the first argument (here name cls)."
   ]
  },
  {
   "cell_type": "code",
   "execution_count": 1,
   "id": "103d0091",
   "metadata": {},
   "outputs": [],
   "source": [
    "class Factor(object):\n",
    "    multiplier = 1\n",
    "    @classmethod\n",
    "    def mul(cls, x):\n",
    "        return cls.multiplier*x\n",
    "    @classmethod\n",
    "    def changeMultiplier(cls, n):\n",
    "        cls.multiplier = n"
   ]
  },
  {
   "cell_type": "code",
   "execution_count": 8,
   "id": "6d8cdee7",
   "metadata": {},
   "outputs": [
    {
     "name": "stdout",
     "output_type": "stream",
     "text": [
      "3\n",
      "12\n",
      "3\n",
      "3\n",
      "12\n"
     ]
    }
   ],
   "source": [
    "print(Factor.multiplier)\n",
    "\n",
    "print(Factor.mul(4))\n",
    "\n",
    "Factor.changeMultiplier(3)\n",
    "print (Factor.multiplier)\n",
    "\n",
    "print(Factor.multiplier)\n",
    "print(Factor.mul(4))\n",
    "\n"
   ]
  },
  {
   "cell_type": "markdown",
   "id": "0431aded",
   "metadata": {},
   "source": [
    "## Properties"
   ]
  },
  {
   "cell_type": "markdown",
   "id": "e1696168",
   "metadata": {},
   "source": [
    "Unlike many other object oriented languages, Python allows direct access to the attributes of an object.  A <b>property</b> is a special kind of attribute that computes its value when accessed.  The <b>@property</b> decorator makes it possible to access the method as a simple attribute (without the extra '()').\n",
    "Here's a simple example:"
   ]
  },
  {
   "cell_type": "code",
   "execution_count": 126,
   "id": "0ab6c402",
   "metadata": {},
   "outputs": [],
   "source": [
    "import math\n",
    "class Circle(object):\n",
    "    def __init__(self, rad):\n",
    "        self.radius = rad\n",
    "    \n",
    "    @property\n",
    "    def area(self):\n",
    "        return math.pi*self.radius"
   ]
  },
  {
   "cell_type": "code",
   "execution_count": 127,
   "id": "9a4639f2",
   "metadata": {},
   "outputs": [
    {
     "name": "stdout",
     "output_type": "stream",
     "text": [
      "9.42477796076938\n",
      "15.707963267948966\n"
     ]
    }
   ],
   "source": [
    "myCircle = Circle(3)\n",
    "print(myCircle.area)  #note no () is used!\n",
    "\n",
    "myCircle.radius = 5\n",
    "print(myCircle.area)"
   ]
  },
  {
   "cell_type": "markdown",
   "id": "e7aeecc3",
   "metadata": {},
   "source": [
    "Properties can also intercept operations to set and delete an attribute.  This is done by attaching additional setter and deleter methods to a property."
   ]
  },
  {
   "cell_type": "code",
   "execution_count": 11,
   "id": "e4f0b815",
   "metadata": {},
   "outputs": [],
   "source": [
    "class Foo(object):\n",
    "    def __init__(self, name):\n",
    "        self.__name = name\n",
    "    \n",
    "    #define a read-only getter property for name\n",
    "    @property\n",
    "    def name(self):\n",
    "        print(\"getter method called\")\n",
    "        return self.__name\n",
    "    \n",
    "    #define a setter property\n",
    "    @name.setter\n",
    "    def name(self, value):\n",
    "        print(\"setter method called\")\n",
    "        self.__name = value\n",
    "        \n",
    "    @name.deleter\n",
    "    def name(self):\n",
    "        raise RuntimeError(\"Can't delete name\")"
   ]
  },
  {
   "cell_type": "code",
   "execution_count": 10,
   "id": "8582f553",
   "metadata": {},
   "outputs": [
    {
     "name": "stdout",
     "output_type": "stream",
     "text": [
      "getter method called\n",
      "Sally\n",
      "setter method called\n",
      "getter method called\n",
      "Jack\n"
     ]
    },
    {
     "ename": "RuntimeError",
     "evalue": "Can't delete name",
     "output_type": "error",
     "traceback": [
      "\u001b[1;31m---------------------------------------------------------------------------\u001b[0m",
      "\u001b[1;31mRuntimeError\u001b[0m                              Traceback (most recent call last)",
      "\u001b[1;32m~\\AppData\\Local\\Temp/ipykernel_1312/2793105191.py\u001b[0m in \u001b[0;36m<module>\u001b[1;34m\u001b[0m\n\u001b[0;32m      4\u001b[0m \u001b[0mprint\u001b[0m\u001b[1;33m(\u001b[0m\u001b[0mf\u001b[0m\u001b[1;33m.\u001b[0m\u001b[0mname\u001b[0m\u001b[1;33m)\u001b[0m\u001b[1;33m\u001b[0m\u001b[1;33m\u001b[0m\u001b[0m\n\u001b[0;32m      5\u001b[0m \u001b[1;33m\u001b[0m\u001b[0m\n\u001b[1;32m----> 6\u001b[1;33m \u001b[1;32mdel\u001b[0m \u001b[0mf\u001b[0m\u001b[1;33m.\u001b[0m\u001b[0mname\u001b[0m\u001b[1;33m\u001b[0m\u001b[1;33m\u001b[0m\u001b[0m\n\u001b[0m",
      "\u001b[1;32m~\\AppData\\Local\\Temp/ipykernel_1312/3065469371.py\u001b[0m in \u001b[0;36mname\u001b[1;34m(self)\u001b[0m\n\u001b[0;32m     16\u001b[0m     \u001b[1;33m@\u001b[0m\u001b[0mname\u001b[0m\u001b[1;33m.\u001b[0m\u001b[0mdeleter\u001b[0m\u001b[1;33m\u001b[0m\u001b[1;33m\u001b[0m\u001b[0m\n\u001b[0;32m     17\u001b[0m     \u001b[1;32mdef\u001b[0m \u001b[0mname\u001b[0m\u001b[1;33m(\u001b[0m\u001b[0mself\u001b[0m\u001b[1;33m)\u001b[0m\u001b[1;33m:\u001b[0m\u001b[1;33m\u001b[0m\u001b[1;33m\u001b[0m\u001b[0m\n\u001b[1;32m---> 18\u001b[1;33m         \u001b[1;32mraise\u001b[0m \u001b[0mRuntimeError\u001b[0m\u001b[1;33m(\u001b[0m\u001b[1;34m\"Can't delete name\"\u001b[0m\u001b[1;33m)\u001b[0m\u001b[1;33m\u001b[0m\u001b[1;33m\u001b[0m\u001b[0m\n\u001b[0m",
      "\u001b[1;31mRuntimeError\u001b[0m: Can't delete name"
     ]
    }
   ],
   "source": [
    "f = Foo(\"Sally\")\n",
    "print(f.name)\n",
    "f.name = \"Jack\"\n",
    "print(f.name)\n",
    "\n",
    "del f.name"
   ]
  },
  {
   "cell_type": "markdown",
   "id": "65111509",
   "metadata": {},
   "source": [
    "## Class Descriptors"
   ]
  },
  {
   "cell_type": "markdown",
   "id": "ab0d5385",
   "metadata": {},
   "source": [
    "## Data Encapsulation and Private Attributes"
   ]
  },
  {
   "cell_type": "markdown",
   "id": "938f76f8",
   "metadata": {},
   "source": [
    "## Types and Class Membership Tests"
   ]
  },
  {
   "cell_type": "markdown",
   "id": "5f4fef19",
   "metadata": {},
   "source": [
    "## Class Decorators"
   ]
  }
 ],
 "metadata": {
  "hide_input": false,
  "kernelspec": {
   "display_name": "Python 3 (ipykernel)",
   "language": "python",
   "name": "python3"
  },
  "language_info": {
   "codemirror_mode": {
    "name": "ipython",
    "version": 3
   },
   "file_extension": ".py",
   "mimetype": "text/x-python",
   "name": "python",
   "nbconvert_exporter": "python",
   "pygments_lexer": "ipython3",
   "version": "3.9.7"
  }
 },
 "nbformat": 4,
 "nbformat_minor": 5
}
