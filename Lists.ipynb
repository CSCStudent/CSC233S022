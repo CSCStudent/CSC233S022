{
 "cells": [
  {
   "cell_type": "markdown",
   "id": "f4c05939",
   "metadata": {},
   "source": [
    "## A list is a collection"
   ]
  },
  {
   "cell_type": "code",
   "execution_count": 1,
   "id": "b1323399",
   "metadata": {},
   "outputs": [
    {
     "name": "stdout",
     "output_type": "stream",
     "text": [
      "1930636368832\n",
      "['spam', 2.0, 5, [10, 20]]\n"
     ]
    }
   ],
   "source": [
    "myList = [\"spam\", 2.0, 5, [10,20]]\n",
    "print(id(myList))\n",
    "print(myList)"
   ]
  },
  {
   "cell_type": "markdown",
   "id": "6aa15406",
   "metadata": {},
   "source": [
    "## Lists are mutable"
   ]
  },
  {
   "cell_type": "code",
   "execution_count": 2,
   "id": "0d929261",
   "metadata": {},
   "outputs": [
    {
     "name": "stdout",
     "output_type": "stream",
     "text": [
      "1930636368832\n",
      "['spam', 33, 5, [10, 20]]\n"
     ]
    }
   ],
   "source": [
    "myList[1] = 33\n",
    "print(id(myList))\n",
    "print(myList)"
   ]
  },
  {
   "cell_type": "code",
   "execution_count": 3,
   "id": "0271354f",
   "metadata": {},
   "outputs": [
    {
     "name": "stdout",
     "output_type": "stream",
     "text": [
      "1930636377920\n",
      "1930636378432\n"
     ]
    }
   ],
   "source": [
    "cheeses = ['Cheddar', 'Edam', 'Gouda']\n",
    "print(id(cheeses))\n",
    "\n",
    "cheeses = ['Swiss', 'Goat', 'Provolone']\n",
    "print(id(cheeses))"
   ]
  },
  {
   "cell_type": "markdown",
   "id": "931fc7ac",
   "metadata": {},
   "source": [
    "## Traversing a list"
   ]
  },
  {
   "cell_type": "code",
   "execution_count": 4,
   "id": "9f05e144",
   "metadata": {},
   "outputs": [
    {
     "name": "stdout",
     "output_type": "stream",
     "text": [
      "Swiss\n",
      "Goat\n",
      "Provolone\n",
      "Swiss\n",
      "Goat\n",
      "Provolone\n"
     ]
    }
   ],
   "source": [
    "for c in cheeses:\n",
    "    print(c)\n",
    "    \n",
    "for i in range(len(cheeses)):\n",
    "    print(cheeses[i])"
   ]
  },
  {
   "cell_type": "markdown",
   "id": "31e13010",
   "metadata": {},
   "source": [
    "## List operations"
   ]
  },
  {
   "cell_type": "code",
   "execution_count": 5,
   "id": "755a2efc",
   "metadata": {},
   "outputs": [
    {
     "name": "stdout",
     "output_type": "stream",
     "text": [
      "[1, 2, 3, 4, 5, 6]\n"
     ]
    }
   ],
   "source": [
    "# The + operator concatenates lists:\n",
    "a = [1, 2, 3]\n",
    "b = [4, 5, 6]\n",
    "c = a + b\n",
    "print(c)"
   ]
  },
  {
   "cell_type": "code",
   "execution_count": 6,
   "id": "09d2010b",
   "metadata": {},
   "outputs": [
    {
     "name": "stdout",
     "output_type": "stream",
     "text": [
      "[0, 0, 0, 0]\n",
      "[1, 2, 3, 1, 2, 3, 1, 2, 3]\n"
     ]
    }
   ],
   "source": [
    "# the operator * repeats a list a given number of times:\n",
    "print([0] * 4)\n",
    "\n",
    "print([1, 2, 3] * 3)\n"
   ]
  },
  {
   "cell_type": "code",
   "execution_count": 7,
   "id": "70383b37",
   "metadata": {},
   "outputs": [
    {
     "name": "stdout",
     "output_type": "stream",
     "text": [
      "['b', 'c']\n",
      "['a', 'b', 'c', 'd']\n",
      "['d', 'e', 'f']\n"
     ]
    }
   ],
   "source": [
    "#The slice operator also works on lists:\n",
    "t = ['a', 'b', 'c', 'd', 'e', 'f']\n",
    "print(t[1:3]) #left-inclusive notation\n",
    "\n",
    "print(t[:4])\n",
    "\n",
    "print(t[3:])\n"
   ]
  },
  {
   "cell_type": "markdown",
   "id": "7a99a9ec",
   "metadata": {},
   "source": [
    "## List methods"
   ]
  },
  {
   "cell_type": "markdown",
   "id": "4efa5ee3",
   "metadata": {},
   "source": [
    "Most list methods are void; they modify the list and return None. If you accidentally\n",
    "write t = t.sort(), you will be disappointed with the result."
   ]
  },
  {
   "cell_type": "code",
   "execution_count": 8,
   "id": "9c9b29d9",
   "metadata": {},
   "outputs": [
    {
     "name": "stdout",
     "output_type": "stream",
     "text": [
      "['a', 'b', 'c', 'd', 'e']\n"
     ]
    }
   ],
   "source": [
    "t1 = ['a', 'b', 'c']\n",
    "t2 = ['d', 'e']\n",
    "t1.extend(t2)\n",
    "print(t1)\n"
   ]
  },
  {
   "cell_type": "code",
   "execution_count": 9,
   "id": "e8dc9632",
   "metadata": {},
   "outputs": [
    {
     "name": "stdout",
     "output_type": "stream",
     "text": [
      "['a', 'b', 'c', 'd', 'e']\n"
     ]
    }
   ],
   "source": [
    "t = ['d', 'c', 'e', 'b', 'a']\n",
    "t.sort()\n",
    "print(t)"
   ]
  },
  {
   "cell_type": "markdown",
   "id": "deb87b01",
   "metadata": {},
   "source": [
    "## Deleting elements"
   ]
  },
  {
   "cell_type": "code",
   "execution_count": 10,
   "id": "e1db4432",
   "metadata": {},
   "outputs": [
    {
     "name": "stdout",
     "output_type": "stream",
     "text": [
      "['a', 'c']\n",
      "b\n"
     ]
    }
   ],
   "source": [
    "t = ['a', 'b', 'c']\n",
    "x = t.pop(1)\n",
    "print(t)\n",
    "\n",
    "print(x)"
   ]
  },
  {
   "cell_type": "code",
   "execution_count": 12,
   "id": "f355aed3",
   "metadata": {},
   "outputs": [
    {
     "name": "stdout",
     "output_type": "stream",
     "text": [
      "['a', 'c']\n",
      "['a', 'f']\n"
     ]
    }
   ],
   "source": [
    "t = ['a', 'b', 'c']\n",
    "del t[1]\n",
    "print(t)\n",
    "\n",
    "t = ['a', 'b', 'c', 'd', 'e', 'f']\n",
    "del(t[1:5])\n",
    "print(t)"
   ]
  },
  {
   "cell_type": "code",
   "execution_count": 13,
   "id": "a8a63617",
   "metadata": {},
   "outputs": [
    {
     "name": "stdout",
     "output_type": "stream",
     "text": [
      "['a', 'c']\n"
     ]
    }
   ],
   "source": [
    "t = ['a', 'b', 'c']\n",
    "t.remove('b')\n",
    "print(t)"
   ]
  }
 ],
 "metadata": {
  "hide_input": false,
  "kernelspec": {
   "display_name": "Python 3 (ipykernel)",
   "language": "python",
   "name": "python3"
  },
  "language_info": {
   "codemirror_mode": {
    "name": "ipython",
    "version": 3
   },
   "file_extension": ".py",
   "mimetype": "text/x-python",
   "name": "python",
   "nbconvert_exporter": "python",
   "pygments_lexer": "ipython3",
   "version": "3.9.7"
  }
 },
 "nbformat": 4,
 "nbformat_minor": 5
}
