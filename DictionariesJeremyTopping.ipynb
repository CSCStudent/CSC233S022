{
 "cells": [
  {
   "cell_type": "markdown",
   "id": "09b7a7a0",
   "metadata": {},
   "source": [
    "# Python Dictionaries"
   ]
  },
  {
   "cell_type": "markdown",
   "id": "00259786",
   "metadata": {},
   "source": [
    "<b>Dictionaries</b> can be thought of as a more generalized list, where instead of each element in the list being indexed by an increasing integer they are instead indexed by a <u>key</u>. \n",
    "\n",
    "there are a few things to keep in mind when using dictionaries:\n",
    " -starting with phython 3.7 dictionaries are ordered, prior to that they are unordered. this means the order the items in the dictionary appear in a defined order\n",
    " -Dictionaries can not contain duplicate keys\n",
    " -dictionaries are mutable: you can change, add to, and delete from dictionaries\n",
    " -the key field can be any nonmutable data type, however the actual values can be any data type"
   ]
  },
  {
   "cell_type": "markdown",
   "id": "c4ab8894",
   "metadata": {},
   "source": [
    "there are several ways to create a dictionary, first we can use someDictionary = {KEY : VALUE, ...} or we can use someDictionary = dict(KEY = VALUE, ...) they do the same thing, just be consistant. there are also several ways to access the data stored in the dictionary. the data can be accessed by someDictionary[KEY] or by calling someDictionary.get(KEY). similarly there are two ways to change the value of a given key, either by using someDictionary[KEY] = newVALUE or someDictionary.update({KEY : newVALUE}), keep in mind update() takes a dictionary as an argument."
   ]
  },
  {
   "cell_type": "code",
   "execution_count": 25,
   "id": "62247493",
   "metadata": {},
   "outputs": [
    {
     "name": "stdout",
     "output_type": "stream",
     "text": [
      "Greetings\n",
      "firstValue\n",
      "firstValue\n",
      "See you later alligator\n"
     ]
    }
   ],
   "source": [
    "someDictionary = {\"firstKey\" : \"firstValue\", \"secondKey\" : \"secondValue\", True : \"Greetings\", False : \"Goodbye\"}\n",
    "anotherDictionary = dict(firstKey = \"firstValue\")\n",
    "\n",
    "print(someDictionary[True])\n",
    "print(someDictionary[\"firstKey\"])\n",
    "print(anotherDictionary.get(\"firstKey\"))\n",
    "\n",
    "someDictionary[False] = \"See you later\"\n",
    "someDictionary.update({\"goodbye\" : \"alligator\"})\n",
    "someDictionary[\"AddingKey\"] = \"Here\" #another way of adding items to your dictionary\n",
    "\n",
    "print(someDictionary[False] + \" \" + someDictionary[\"goodbye\"])"
   ]
  },
  {
   "cell_type": "markdown",
   "id": "da5418cf",
   "metadata": {},
   "source": [
    "there are several useful methods you can call when using dictionaries, someDirectory.keys() will return a list that contains all of the keys in that dictionary. whats great about using keys() is it actually returns a view of the keys, so the list is always updated. there is an important piece of information with using keys(), keys() is iterable, but it can not be indexed"
   ]
  },
  {
   "cell_type": "code",
   "execution_count": 35,
   "id": "ad4c0a4b",
   "metadata": {},
   "outputs": [
    {
     "name": "stdout",
     "output_type": "stream",
     "text": [
      "dict_keys(['firstKey', 'secondKey', True, False, 'goodbye'])\n",
      "\n",
      "\n",
      "someKeys after update:\n",
      "firstKey\n",
      "secondKey\n",
      "True\n",
      "False\n",
      "goodbye\n",
      "AnotherKey\n",
      "AddingKey\n"
     ]
    }
   ],
   "source": [
    "someKeys = someDictionary.keys()\n",
    "\n",
    "print(someKeys)\n",
    "\n",
    "someDictionary.update({\"AnotherKey\":15, True: 10})\n",
    "\n",
    "print(\"\\n\\nsomeKeys after update:\")\n",
    "for i in someKeys:\n",
    "    print(i)"
   ]
  },
  {
   "cell_type": "markdown",
   "id": "cfd4ec05",
   "metadata": {},
   "source": [
    "notice the error caused by trying to pull a single key?"
   ]
  },
  {
   "cell_type": "code",
   "execution_count": 27,
   "id": "46fc82e7",
   "metadata": {},
   "outputs": [
    {
     "ename": "TypeError",
     "evalue": "'dict_keys' object is not subscriptable",
     "output_type": "error",
     "traceback": [
      "\u001b[1;31m---------------------------------------------------------------------------\u001b[0m",
      "\u001b[1;31mTypeError\u001b[0m                                 Traceback (most recent call last)",
      "\u001b[1;32mC:\\Users\\PHEREX~1\\AppData\\Local\\Temp/ipykernel_14028/3445674353.py\u001b[0m in \u001b[0;36m<module>\u001b[1;34m\u001b[0m\n\u001b[1;32m----> 1\u001b[1;33m \u001b[0mprint\u001b[0m\u001b[1;33m(\u001b[0m\u001b[0msomeKeys\u001b[0m\u001b[1;33m[\u001b[0m\u001b[1;36m2\u001b[0m\u001b[1;33m]\u001b[0m\u001b[1;33m)\u001b[0m\u001b[1;33m\u001b[0m\u001b[1;33m\u001b[0m\u001b[0m\n\u001b[0m",
      "\u001b[1;31mTypeError\u001b[0m: 'dict_keys' object is not subscriptable"
     ]
    }
   ],
   "source": [
    "print(someKeys[2])"
   ]
  },
  {
   "cell_type": "markdown",
   "id": "407672b1",
   "metadata": {},
   "source": [
    "we can still accomplish this by it takes a little bit of work. lets say we want to return the 3rd key value"
   ]
  },
  {
   "cell_type": "code",
   "execution_count": 30,
   "id": "027f3a21",
   "metadata": {},
   "outputs": [
    {
     "name": "stdout",
     "output_type": "stream",
     "text": [
      "the 3 key is True\n"
     ]
    }
   ],
   "source": [
    "j = 0\n",
    "for i in someKeys:\n",
    "    if(j == 2):\n",
    "        print(\"the \" + str(j+1) + \" key is \" + str(i))\n",
    "    j = j+1"
   ]
  },
  {
   "cell_type": "markdown",
   "id": "a71d089f",
   "metadata": {},
   "source": [
    "we can do the same thing we did with keys() using values() except instead of a list of the keys, we get a list of the values. <b>PYTHON 3.7:</b> as of python 3.7 dictionaries are ordered, which means you can be sure the nth key is associated with the nth value, this is not true prior to 3.7"
   ]
  },
  {
   "cell_type": "code",
   "execution_count": 36,
   "id": "51a7636d",
   "metadata": {},
   "outputs": [
    {
     "name": "stdout",
     "output_type": "stream",
     "text": [
      "dict_values(['firstValue', 'secondValue', 10, 'See you later', 'alligator', 15, 'Here'])\n"
     ]
    }
   ],
   "source": [
    "someValues = someDictionary.values()\n",
    "\n",
    "print(someValues)"
   ]
  },
  {
   "cell_type": "markdown",
   "id": "9f180e61",
   "metadata": {},
   "source": [
    "using the items() method we can get a list of all keys and their associated values in one list."
   ]
  },
  {
   "cell_type": "code",
   "execution_count": 48,
   "id": "ccf6d5e1",
   "metadata": {},
   "outputs": [
    {
     "name": "stdout",
     "output_type": "stream",
     "text": [
      "dict_items([('firstKey', 'firstValue'), ('secondKey', 'secondValue'), (True, 10), (False, 'See you later'), ('goodbye', 'alligator'), ('AnotherKey', 15), ('AddingKey', 'Here')])\n",
      "\n",
      "\n",
      "\n",
      "Key: firstKey Value: firstValue\n",
      "Key: secondKey Value: secondValue\n",
      "Key: True Value: 10\n",
      "Key: False Value: See you later\n",
      "Key: goodbye Value: alligator\n",
      "Key: AnotherKey Value: 15\n",
      "Key: AddingKey Value: Here\n"
     ]
    }
   ],
   "source": [
    "someItems = someDictionary.items()\n",
    "print(someItems)\n",
    "print(\"\\n\\n\")\n",
    "\n",
    "for i in someItems:\n",
    "    for v in range(len(i)-1):\n",
    "        print(\"Key: \" + str(i[v]) + \" Value: \" + str(i[v+1]))"
   ]
  },
  {
   "cell_type": "code",
   "execution_count": null,
   "id": "9fb7411f",
   "metadata": {},
   "outputs": [],
   "source": []
  }
 ],
 "metadata": {
  "kernelspec": {
   "display_name": "Python 3 (ipykernel)",
   "language": "python",
   "name": "python3"
  },
  "language_info": {
   "codemirror_mode": {
    "name": "ipython",
    "version": 3
   },
   "file_extension": ".py",
   "mimetype": "text/x-python",
   "name": "python",
   "nbconvert_exporter": "python",
   "pygments_lexer": "ipython3",
   "version": "3.9.7"
  }
 },
 "nbformat": 4,
 "nbformat_minor": 5
}
