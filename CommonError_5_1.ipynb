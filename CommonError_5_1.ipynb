{
 "cells": [
  {
   "cell_type": "markdown",
   "id": "302c1a26",
   "metadata": {},
   "source": [
    "## Trying to modify arguments"
   ]
  },
  {
   "cell_type": "markdown",
   "id": "56409bc8",
   "metadata": {},
   "source": [
    "In Python, a function can never change the contents of a variable that was passsed as an argument.  This is referred to as \"pass-by-value\".  A copy of the variable is actually passed to the function.  Think of the parameters as just local to the function."
   ]
  },
  {
   "cell_type": "code",
   "execution_count": 2,
   "id": "0af6d6bf",
   "metadata": {},
   "outputs": [
    {
     "name": "stdout",
     "output_type": "stream",
     "text": [
      "21.4\n",
      "20.0\n"
     ]
    }
   ],
   "source": [
    "def calcTax(price, rate):\n",
    "    tax = price * rate\n",
    "    price += tax\n",
    "    return price\n",
    "    \n",
    "itemPrice = 20.0\n",
    "print(calcTax(itemPrice, .07))\n",
    "print(itemPrice)"
   ]
  }
 ],
 "metadata": {
  "hide_input": false,
  "kernelspec": {
   "display_name": "Python 3 (ipykernel)",
   "language": "python",
   "name": "python3"
  },
  "language_info": {
   "codemirror_mode": {
    "name": "ipython",
    "version": 3
   },
   "file_extension": ".py",
   "mimetype": "text/x-python",
   "name": "python",
   "nbconvert_exporter": "python",
   "pygments_lexer": "ipython3",
   "version": "3.9.7"
  }
 },
 "nbformat": 4,
 "nbformat_minor": 5
}
