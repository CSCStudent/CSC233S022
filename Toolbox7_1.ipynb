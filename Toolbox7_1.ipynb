{
 "cells": [
  {
   "cell_type": "markdown",
   "id": "6a921217",
   "metadata": {},
   "source": [
    "# Working with CSV Files"
   ]
  },
  {
   "cell_type": "markdown",
   "id": "d66129c8",
   "metadata": {},
   "source": [
    "Most spreadsheets (like MS Excel)store their data in proprietary file formats that cannot be accessed directly.  Fortunately, most can save a copy of the data set in a portable format such as comma-separated values (CSV) files.   This type filie is so common that the Python standard libary provides tools for working with them.  "
   ]
  },
  {
   "cell_type": "markdown",
   "id": "8977b854",
   "metadata": {},
   "source": [
    "## Reading a CSV file"
   ]
  },
  {
   "cell_type": "markdown",
   "id": "c586eb3c",
   "metadata": {},
   "source": [
    "To read the contents of a CSV file, you must first open the file as a regular text file."
   ]
  },
  {
   "cell_type": "code",
   "execution_count": 7,
   "id": "eb71d443",
   "metadata": {},
   "outputs": [
    {
     "name": "stdout",
     "output_type": "stream",
     "text": [
      "['Detective Story', '1951', 'William Wyler']\n",
      "['Airport 1975', '1974', 'Jack Smight']\n",
      "['Hamlet', '1996', 'Kenneth Branagh']\n",
      "['American Beauty', '1999', 'Sam Mendes']\n",
      "['Bitter Moon', '1992', 'Roman Polanski']\n",
      "['Million Dollar Baby', '2004', 'Clint Eastwood']\n",
      "['Round Midnight', '1986', 'Bertrand Tavernier']\n",
      "['Kiss of the Spider Woman', '1985', 'HÃ©ctor Babenco']\n",
      "['Twin Falls Idaho', '1999', 'Michael Polish']\n",
      "['Traffic', '2000', 'Steven Soderbergh']\n"
     ]
    }
   ],
   "source": [
    "from csv import reader\n",
    "infile = open(\"movies1.csv\")\n",
    "\n",
    "#now create a csv reader object\n",
    "csvReader = reader(infile)\n",
    "\n",
    "#use a for loop to iterate through the data\n",
    "for row in csvReader:\n",
    "    print(row)"
   ]
  },
  {
   "cell_type": "markdown",
   "id": "46e1b1f7",
   "metadata": {},
   "source": [
    "## Create a CSV file"
   ]
  },
  {
   "cell_type": "markdown",
   "id": "fc2e5e07",
   "metadata": {},
   "source": [
    "To create a CSV file, first create a new text file using the open() function."
   ]
  },
  {
   "cell_type": "code",
   "execution_count": 17,
   "id": "3c18cbe3",
   "metadata": {},
   "outputs": [],
   "source": [
    "from csv import writer\n",
    "\n",
    "outfile = open(\"newdata.csv\", \"w\")\n",
    "\n",
    "csvWriter = writer(outfile)\n",
    "\n",
    "csvWriter.writerow([\"Name\", \"Id\", \"Class\", \"Average\"])\n",
    "\n",
    "# you can add numbers or a mixture of text and numbers\n",
    "csvWriter.writerow([\"Jack Sparrow\", \"S0000001\", \"CSC233\", 70])\n",
    "\n",
    "outfile.close()"
   ]
  },
  {
   "cell_type": "markdown",
   "id": "261c875e",
   "metadata": {},
   "source": [
    "## Processing a CSV file"
   ]
  },
  {
   "cell_type": "code",
   "execution_count": 33,
   "id": "cf12a19b",
   "metadata": {},
   "outputs": [],
   "source": [
    "##\n",
    "#  This program reads data from a csv file that contains movie information,\n",
    "#  filters out unwanted data, and produces a new csv file.\n",
    "#\n",
    "\n",
    "from csv import reader, writer\n",
    "\n",
    "# Open the two csv files.\n",
    "infile = open(\"movies.csv\")\n",
    "csvReader = reader(infile)\n",
    "\n",
    "outfile = open(\"filtered.csv\", \"w\")\n",
    "csvWriter = writer(outfile)\n",
    "\n",
    "# Add the list of column headers to the csv file.\n",
    "headers = [\"Name\",\"Year\",\"Actors\"]\n",
    "csvWriter.writerow(headers)\n",
    "\n",
    "# Skip the row of column headers in the reader.\n",
    "next(csvReader)\n",
    "\n",
    "# Filter the rows of data.\n",
    "for row in csvReader :\n",
    "  year = int(row[1])\n",
    "  if year >= 1990 and year <= 1999 :\n",
    "    newRow = [row[0], row[1], row[4]]\n",
    "    csvWriter.writerow(newRow)\n",
    "\n",
    "    \n",
    "infile.close()\n",
    "outfile.close()\n",
    "\n"
   ]
  }
 ],
 "metadata": {
  "kernelspec": {
   "display_name": "Python 3 (ipykernel)",
   "language": "python",
   "name": "python3"
  },
  "language_info": {
   "codemirror_mode": {
    "name": "ipython",
    "version": 3
   },
   "file_extension": ".py",
   "mimetype": "text/x-python",
   "name": "python",
   "nbconvert_exporter": "python",
   "pygments_lexer": "ipython3",
   "version": "3.9.7"
  }
 },
 "nbformat": 4,
 "nbformat_minor": 5
}
