{
 "cells": [
  {
   "cell_type": "markdown",
   "id": "64107a7c",
   "metadata": {},
   "source": [
    "## Writing a Simple Program"
   ]
  },
  {
   "cell_type": "markdown",
   "id": "e3c0410a",
   "metadata": {},
   "source": [
    "Write a program that simulates a vending machinie.  A cutomer selects an item for purchase and inserts a bill of any denomination into the vending machine.  The vending machine dispenses the item and gives change based on the denomination of the bill.  Assume that all item prices are multiples of 25 cents and that the machine gives all change in dollar coins and quarters.  Your task is to compute how many coins of each type to return."
   ]
  },
  {
   "cell_type": "code",
   "execution_count": 11,
   "id": "ea8d83b4",
   "metadata": {},
   "outputs": [
    {
     "name": "stdout",
     "output_type": "stream",
     "text": [
      "Enter bill value (1 = $1 bill, 5 = $5 bill, etc.): 1\n",
      "Enter item price in pennies: 75\n",
      "Dollar coins:      0\n",
      "Quarters:          1\n"
     ]
    }
   ],
   "source": [
    "##\n",
    "#  This program simulates a vending machine that gives change.\n",
    "#\n",
    "\n",
    "# Define constants.\n",
    "PENNIES_PER_DOLLAR = 100\n",
    "PENNIES_PER_QUARTER = 25\n",
    "\n",
    "# Obtain input from user.\n",
    "userInput = input(\"Enter bill value (1 = $1 bill, 5 = $5 bill, etc.): \")\n",
    "billValue = int(userInput)\n",
    "userInput = input(\"Enter item price in pennies: \")\n",
    "itemPrice = int(userInput)\n",
    "\n",
    "# Compute change due.\n",
    "changeDue = PENNIES_PER_DOLLAR * billValue - itemPrice\n",
    "dollarCoins = changeDue // PENNIES_PER_DOLLAR\n",
    "changeDue = changeDue % PENNIES_PER_DOLLAR\n",
    "quarters = changeDue // PENNIES_PER_QUARTER\n",
    "\n",
    "# Print change due.\n",
    "print(\"Dollar coins: %6d\" % dollarCoins)\n",
    "print(\"Quarters:     %6d\" % quarters)\n",
    "\n"
   ]
  },
  {
   "cell_type": "markdown",
   "id": "b06805eb",
   "metadata": {},
   "source": [
    "Write a program that simulates a parking toll kiosk.  The parking fee is 25 cents per hour.  A cutomer specifies the number of hours that is desired and inserts a bill of any denomination into the kiosk.  The kiosk dispenses a receipt and gives change based on the denomination of the bill.  Assume that all fees are multiples of 25 cents and that the machine gives all change in dollar coins and quarters.  Your task is to compute how many coins of each type to return."
   ]
  },
  {
   "cell_type": "code",
   "execution_count": null,
   "id": "b6dfb8ee",
   "metadata": {},
   "outputs": [],
   "source": []
  },
  {
   "cell_type": "markdown",
   "id": "ad99c0a2",
   "metadata": {},
   "source": [
    "## Drawing Graphical Shapes"
   ]
  },
  {
   "cell_type": "code",
   "execution_count": 8,
   "id": "576a5e0a",
   "metadata": {},
   "outputs": [],
   "source": [
    "from ezgraphics import GraphicsWindow\n",
    "import tkinter as tk"
   ]
  },
  {
   "cell_type": "code",
   "execution_count": 10,
   "id": "308c7223",
   "metadata": {},
   "outputs": [],
   "source": [
    "##\n",
    "#  This program draws an Italian flag using the ezgraphics module.\n",
    "#\n",
    "\n",
    "from ezgraphics import GraphicsWindow\n",
    "\n",
    "win = GraphicsWindow(300, 300)\n",
    "canvas = win.canvas()\n",
    "\n",
    "# Define variables with the upper-left position and the size.\n",
    "xLeft = 100\n",
    "yTop = 100\n",
    "width = 90\n",
    "\n",
    "# Draw the flag.\n",
    "canvas.setColor(\"green\")\n",
    "canvas.drawRect(xLeft, yTop, width / 3, width * 2 / 3)\n",
    "\n",
    "canvas.setColor(\"red\")\n",
    "canvas.drawRect(xLeft + 2 * width / 3, yTop, width / 3, width * 2 / 3)\n",
    "\n",
    "canvas.setColor(\"black\")\n",
    "canvas.drawLine(xLeft + width / 3, yTop, xLeft + width * 2 / 3, yTop)\n",
    "canvas.drawLine(xLeft + width / 3, yTop + width * 2 / 3, \n",
    "                xLeft + width * 2 / 3, yTop + width * 2 / 3)\n",
    "\n",
    "# Wait for the user to close the window.\n",
    "win.wait()\n",
    "\n"
   ]
  }
 ],
 "metadata": {
  "kernelspec": {
   "display_name": "Python 3 (ipykernel)",
   "language": "python",
   "name": "python3"
  },
  "language_info": {
   "codemirror_mode": {
    "name": "ipython",
    "version": 3
   },
   "file_extension": ".py",
   "mimetype": "text/x-python",
   "name": "python",
   "nbconvert_exporter": "python",
   "pygments_lexer": "ipython3",
   "version": "3.9.7"
  }
 },
 "nbformat": 4,
 "nbformat_minor": 5
}
