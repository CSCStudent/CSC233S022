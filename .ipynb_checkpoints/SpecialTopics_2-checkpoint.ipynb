{
 "cells": [
  {
   "cell_type": "markdown",
   "id": "ccefbeac",
   "metadata": {},
   "source": [
    "## Combining Assignment and Arithmetic"
   ]
  },
  {
   "cell_type": "code",
   "execution_count": 3,
   "id": "70a463b3",
   "metadata": {},
   "outputs": [
    {
     "name": "stdout",
     "output_type": "stream",
     "text": [
      "total cabs on duty 10\n"
     ]
    }
   ],
   "source": [
    "totalCabs = 0\n",
    "cabs = 10\n",
    "\n",
    "totalCabs += cabs\n",
    "print(f\"total cabs on duty {totalCabs}\")"
   ]
  },
  {
   "cell_type": "markdown",
   "id": "8081d554",
   "metadata": {},
   "source": [
    "## Line Joining"
   ]
  },
  {
   "cell_type": "markdown",
   "id": "5486da16",
   "metadata": {},
   "source": [
    "You should avoid writing expressions that are too long.  You can continue a line on another line provided the line break occurs inside parentheses.\n",
    "\n",
    "If the last character is a backslash character '\\', the line is joined with the one following it."
   ]
  },
  {
   "cell_type": "code",
   "execution_count": 9,
   "id": "88c18e8b",
   "metadata": {},
   "outputs": [
    {
     "name": "stdout",
     "output_type": "stream",
     "text": [
      "-0.5 -1.0\n"
     ]
    }
   ],
   "source": [
    "from math import sqrt\n",
    "a = 2\n",
    "b = 3\n",
    "c = 1\n",
    "x1 = ((-b + sqrt(b**2 - 4 * a * c))\n",
    "     / (2*a))\n",
    "x2 = ((-b - sqrt(b**2 - 4 * a * c))\n",
    "     / (2*a))\n",
    "print (x1, x2)\n",
    "\n",
    "x1 = (-b + sqrt(b**2 - 4 * a * c)) \\\n",
    "     / (2*a)"
   ]
  },
  {
   "cell_type": "markdown",
   "id": "1a469174",
   "metadata": {},
   "source": [
    "## Character Values and Escape Sequences"
   ]
  },
  {
   "cell_type": "markdown",
   "id": "e8821b56",
   "metadata": {},
   "source": [
    "Python provides two functions related to character encoding.  The <b>ord()</b> function returns the encoding value of a character and the <b>chr()</b> function returns the the character that the numeric argument represents."
   ]
  },
  {
   "cell_type": "code",
   "execution_count": 3,
   "id": "fd077367",
   "metadata": {},
   "outputs": [
    {
     "name": "stdout",
     "output_type": "stream",
     "text": [
      "The letter H has a code of  72\n",
      "The character with encoding value of 97 is 'a'\n"
     ]
    }
   ],
   "source": [
    "print(\"The letter H has a code of \", ord(\"H\"))\n",
    "print(f\"The character with encoding value of 97 is \\'{chr(97)}\\'\")"
   ]
  },
  {
   "cell_type": "markdown",
   "id": "9b66ff53",
   "metadata": {},
   "source": [
    "Sometimes you need to include special format characters in a literal string.  This can be done by using the escape character \"\\\\\"."
   ]
  }
 ],
 "metadata": {
  "kernelspec": {
   "display_name": "Python 3 (ipykernel)",
   "language": "python",
   "name": "python3"
  },
  "language_info": {
   "codemirror_mode": {
    "name": "ipython",
    "version": 3
   },
   "file_extension": ".py",
   "mimetype": "text/x-python",
   "name": "python",
   "nbconvert_exporter": "python",
   "pygments_lexer": "ipython3",
   "version": "3.9.7"
  }
 },
 "nbformat": 4,
 "nbformat_minor": 5
}
