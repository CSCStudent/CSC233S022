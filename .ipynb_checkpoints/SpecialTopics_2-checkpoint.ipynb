{
 "cells": [
  {
   "cell_type": "markdown",
   "id": "ccefbeac",
   "metadata": {},
   "source": [
    "## Combining Assignment and Arithmetic"
   ]
  },
  {
   "cell_type": "markdown",
   "id": "8081d554",
   "metadata": {},
   "source": [
    "## Line Joining"
   ]
  },
  {
   "cell_type": "markdown",
   "id": "1a469174",
   "metadata": {},
   "source": [
    "## Character Values and Escape Sequences"
   ]
  }
 ],
 "metadata": {
  "kernelspec": {
   "display_name": "Python 3 (ipykernel)",
   "language": "python",
   "name": "python3"
  },
  "language_info": {
   "codemirror_mode": {
    "name": "ipython",
    "version": 3
   },
   "file_extension": ".py",
   "mimetype": "text/x-python",
   "name": "python",
   "nbconvert_exporter": "python",
   "pygments_lexer": "ipython3",
   "version": "3.9.7"
  }
 },
 "nbformat": 4,
 "nbformat_minor": 5
}
