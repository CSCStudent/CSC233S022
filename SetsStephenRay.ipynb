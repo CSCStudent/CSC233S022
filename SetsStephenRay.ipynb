{
 "cells": [
  {
   "cell_type": "markdown",
   "id": "87bfaabc",
   "metadata": {},
   "source": [
    "<b>Sets</b>\n",
    "\n",
    "Similar to lists, dictionaries, and tuples in Python, sets can store multiple items in a single variable.\n",
    "\n",
    "Important note: sets are not mutable.You can remove and add items to a set but you cannot change items in a set."
   ]
  },
  {
   "cell_type": "code",
   "execution_count": 4,
   "id": "92eb2697",
   "metadata": {},
   "outputs": [
    {
     "name": "stdout",
     "output_type": "stream",
     "text": [
      "{'Goober', 'Chimpy', 'Scoobert'}\n"
     ]
    }
   ],
   "source": [
    "turboSet = {\"Goober\", \"Scoobert\", \"Chimpy\"}\n",
    "print(turboSet)"
   ]
  },
  {
   "cell_type": "markdown",
   "id": "a5dd9167",
   "metadata": {},
   "source": [
    "<b>Duplicates are not Allowed in Sets</b>\n",
    "\n",
    "Any duplicate values in a set are ignored by the system."
   ]
  },
  {
   "cell_type": "code",
   "execution_count": 5,
   "id": "46ee287e",
   "metadata": {},
   "outputs": [
    {
     "name": "stdout",
     "output_type": "stream",
     "text": [
      "{'Chimpy', 'Goober', 'Scoobertson', 'Scoobert'}\n"
     ]
    }
   ],
   "source": [
    "turboSet = {\"Goober\", \"Scoobert\", \"Chimpy\", \"Goober\", \"Scoobertson\"}\n",
    "print(turboSet)"
   ]
  },
  {
   "cell_type": "markdown",
   "id": "4f127366",
   "metadata": {},
   "source": [
    "<b>Sets are Unordered</b>\n",
    "\n",
    "Sets are not in any particular order and may appear in a different order each time you use them. Set values cannot be referenced by an index number."
   ]
  }
 ],
 "metadata": {
  "kernelspec": {
   "display_name": "Python 3 (ipykernel)",
   "language": "python",
   "name": "python3"
  },
  "language_info": {
   "codemirror_mode": {
    "name": "ipython",
    "version": 3
   },
   "file_extension": ".py",
   "mimetype": "text/x-python",
   "name": "python",
   "nbconvert_exporter": "python",
   "pygments_lexer": "ipython3",
   "version": "3.9.7"
  }
 },
 "nbformat": 4,
 "nbformat_minor": 5
}
