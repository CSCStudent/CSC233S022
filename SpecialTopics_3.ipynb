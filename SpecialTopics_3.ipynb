{
 "cells": [
  {
   "cell_type": "markdown",
   "id": "937f735d",
   "metadata": {},
   "source": [
    "## Ternary Conditional Expression"
   ]
  },
  {
   "cell_type": "markdown",
   "id": "e65a3a88",
   "metadata": {},
   "source": [
    "Python has a ternary conditional operator of the form:\n",
    "\n",
    "value<1> if condition else value<2>\n",
    "\n",
    "The value of that expression is either value<1>  if the condition is True or value<2> if it is False."
   ]
  },
  {
   "cell_type": "code",
   "execution_count": 4,
   "id": "692c935d",
   "metadata": {},
   "outputs": [
    {
     "name": "stdout",
     "output_type": "stream",
     "text": [
      "19\n"
     ]
    }
   ],
   "source": [
    "# floor 13 is often skipped ... supersticios??\n",
    "floor = 20\n",
    "actualFloor = floor - 1 if floor > 13 else floor    #note that colon is not used!\n",
    "print(actualFloor)"
   ]
  },
  {
   "cell_type": "markdown",
   "id": "1958974d",
   "metadata": {},
   "source": [
    "## Lexicographic Ordering of Strings"
   ]
  },
  {
   "cell_type": "markdown",
   "id": "595c784f",
   "metadata": {},
   "source": [
    "## Chaining Relational Operators"
   ]
  },
  {
   "cell_type": "markdown",
   "id": "cfe5b6f2",
   "metadata": {},
   "source": [
    "## Short-Circuit Evaluation of Boolean Operators"
   ]
  },
  {
   "cell_type": "markdown",
   "id": "845da70d",
   "metadata": {},
   "source": [
    "## DeMorgan's Law"
   ]
  },
  {
   "cell_type": "markdown",
   "id": "3ebd2baf",
   "metadata": {},
   "source": [
    "## Terminating a Program"
   ]
  },
  {
   "cell_type": "markdown",
   "id": "a49da3c5",
   "metadata": {},
   "source": [
    "## Interactive Graphical Programs"
   ]
  },
  {
   "cell_type": "code",
   "execution_count": 2,
   "id": "b5c64d85",
   "metadata": {},
   "outputs": [
    {
     "name": "stdout",
     "output_type": "stream",
     "text": [
      "Enter parameters for the first circle:\n",
      "  x-coord: 50\n",
      "  y-coord: 20\n",
      "  radius: 8\n",
      "Enter parameters for the second circle:\n",
      "  x-coord: 80\n",
      "  y-coord: 20\n",
      "  radius: 8\n"
     ]
    }
   ],
   "source": [
    "##\n",
    "#  Draws and determines if two circles intersect. The parameters of both\n",
    "#  circles are obtained from the user.\n",
    "#\n",
    "\n",
    "from ezgraphics import GraphicsWindow\n",
    "from math import sqrt\n",
    "from sys import exit\n",
    "\n",
    "# Define constant variables.\n",
    "MIN_RADIUS = 5\n",
    "WIN_WIDTH = 500\n",
    "WIN_HEIGHT = 500\n",
    "\n",
    "# Create the graphics window and get the canvas.\n",
    "win = GraphicsWindow(WIN_WIDTH, WIN_HEIGHT)\n",
    "canvas = win.canvas()\n",
    "\n",
    "# Obtain the parameters of the first circle.\n",
    "print(\"Enter parameters for the first circle:\")\n",
    "x0 = int(input(\"  x-coord: \"))\n",
    "y0 = int(input(\"  y-coord: \"))\n",
    "if x0 < 0 or x0 >= WIN_WIDTH or y0 < 0 or y0 >= WIN_HEIGHT :\n",
    "   exit(\"Error: the center of the circle must be within the area of the window.\") \n",
    "\n",
    "r0 = int(input(\"  radius: \"))\n",
    "if r0 <= MIN_RADIUS :\n",
    "   exit(\"Error: the radius must be >\", MIN_RADIUS)\n",
    "\n",
    "# Draw the first circle.\n",
    "canvas.setOutline(\"blue\")\n",
    "canvas.drawOval(x0 - r0, y0 - r0, 2 * r0, 2 * r0)\n",
    "\n",
    "# Obtain the parameters of the second circle.\n",
    "print(\"Enter parameters for the second circle:\")\n",
    "x1 = int(input(\"  x-coord: \"))\n",
    "y1 = int(input(\"  y-coord: \"))\n",
    "if x1 < 0 or x1 >= WIN_WIDTH or y1 < 0 or y1 >= WIN_HEIGHT :\n",
    "   exit(\"Error: the center of the circle must be within the area of the window.\") \n",
    "\n",
    "r1 = int(input(\"  radius: \"))\n",
    "if r1 <= MIN_RADIUS :\n",
    "   exit(f\"Error: the radius must be > {MIN_RADIUS}\")\n",
    "\n",
    "# Draw the second circle.\n",
    "canvas.setOutline(\"red\")\n",
    "canvas.drawOval(x1 - r1, y1 - r1, 2 * r1, 2 * r1)\n",
    "\n",
    "# Determine if the two circles intersect and select appropriate message.\n",
    "dist = sqrt((x1 - x0) ** 2 + (y1 - y0) ** 2)\n",
    "\n",
    "if dist > r0 + r1 :\n",
    "   message = \"The circles are completely separate.\"\n",
    "elif dist < abs(r0 - r1) :\n",
    "   message = \"One circle is contained within the other.\"\n",
    "elif dist == r0 + r1 :\n",
    "   message = \"The circles intersect at a single point.\"\n",
    "elif dist == 0 and r0 == r1 :\n",
    "   message = \"The circles are coincident.\"\n",
    "else :\n",
    "   message = \"The circles intersect at two points.\"\n",
    "      \n",
    "# Display the result at the bottom of the graphics window.\n",
    "canvas.setOutline(\"black\")\n",
    "canvas.drawText(15, WIN_HEIGHT - 15, message)\n",
    "\n",
    "# Wait until the user closes the window.\n",
    "win.wait()\n",
    "\n"
   ]
  }
 ],
 "metadata": {
  "kernelspec": {
   "display_name": "Python 3 (ipykernel)",
   "language": "python",
   "name": "python3"
  },
  "language_info": {
   "codemirror_mode": {
    "name": "ipython",
    "version": 3
   },
   "file_extension": ".py",
   "mimetype": "text/x-python",
   "name": "python",
   "nbconvert_exporter": "python",
   "pygments_lexer": "ipython3",
   "version": "3.9.7"
  }
 },
 "nbformat": 4,
 "nbformat_minor": 5
}
