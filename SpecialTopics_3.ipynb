{
 "cells": [
  {
   "cell_type": "markdown",
   "id": "bbb85e67",
   "metadata": {},
   "source": [
    "## Logical Operators"
   ]
  },
  {
   "cell_type": "markdown",
   "id": "bc0d33ad",
   "metadata": {},
   "source": [
    "There are three logical operators: <b>and</b>, <b>or</b>, and <b>not</b>. The semantics (meaning) of\n",
    "these operators is similar to their meaning in English."
   ]
  },
  {
   "cell_type": "markdown",
   "id": "937f735d",
   "metadata": {},
   "source": [
    "## Ternary Conditional Expression"
   ]
  },
  {
   "cell_type": "markdown",
   "id": "e65a3a88",
   "metadata": {},
   "source": [
    "Python has a ternary conditional operator of the form:\n",
    "\n",
    "value<1> if condition else value<2>\n",
    "\n",
    "The value of that expression is either value<1>  if the condition is True or value<2> if it is False."
   ]
  },
  {
   "cell_type": "code",
   "execution_count": 4,
   "id": "692c935d",
   "metadata": {},
   "outputs": [
    {
     "name": "stdout",
     "output_type": "stream",
     "text": [
      "19\n"
     ]
    }
   ],
   "source": [
    "# floor 13 is often skipped ... supersticios??\n",
    "floor = 20\n",
    "actualFloor = floor - 1 if floor > 13 else floor    #note that colon is not used!\n",
    "print(actualFloor)"
   ]
  },
  {
   "cell_type": "markdown",
   "id": "1958974d",
   "metadata": {},
   "source": [
    "## Lexicographic Ordering of Strings"
   ]
  },
  {
   "cell_type": "markdown",
   "id": "cd5b6147",
   "metadata": {},
   "source": [
    "Often it's necessary to compare two strings in parsing string input.  Python relational operators compare strings in <b>lexicographic</b> order."
   ]
  },
  {
   "cell_type": "code",
   "execution_count": 1,
   "id": "0fc4b80f",
   "metadata": {},
   "outputs": [
    {
     "name": "stdout",
     "output_type": "stream",
     "text": [
      "True\n"
     ]
    }
   ],
   "source": [
    "print(\"hello\" < \"help\")"
   ]
  },
  {
   "cell_type": "markdown",
   "id": "595c784f",
   "metadata": {},
   "source": [
    "## Chaining Relational Operators"
   ]
  },
  {
   "cell_type": "markdown",
   "id": "fadcaeb8",
   "metadata": {},
   "source": [
    "In mathematics, we can use the expression 0 <= val <= 100.  In Python, we can use the the same expressio.  The Python interpretor will automatically insert the Boolean operator <b>and</b> so that the expression is processed as <i>0 <= val and val <= 100</i>."
   ]
  },
  {
   "cell_type": "code",
   "execution_count": 4,
   "id": "48a7a775",
   "metadata": {},
   "outputs": [
    {
     "name": "stdout",
     "output_type": "stream",
     "text": [
      "True\n"
     ]
    }
   ],
   "source": [
    "val = 20\n",
    "print(0 <= val <= 100)"
   ]
  },
  {
   "cell_type": "markdown",
   "id": "cfe5b6f2",
   "metadata": {},
   "source": [
    "## Short-Circuit Evaluation of Boolean Operators"
   ]
  },
  {
   "cell_type": "markdown",
   "id": "6b1061cf",
   "metadata": {},
   "source": [
    "The <b>and</b> and <b>or</b> Boolean operators are computed using a short-circuit evaluation."
   ]
  },
  {
   "cell_type": "code",
   "execution_count": 18,
   "id": "b2188b5e",
   "metadata": {},
   "outputs": [
    {
     "name": "stdout",
     "output_type": "stream",
     "text": [
      "True\n"
     ]
    }
   ],
   "source": [
    "n = 10\n",
    "price = 23.00\n",
    "n > 0 and print(price/n < 10)"
   ]
  },
  {
   "cell_type": "markdown",
   "id": "26f91085",
   "metadata": {},
   "source": [
    "## Truth Tables"
   ]
  },
  {
   "cell_type": "markdown",
   "id": "1cfe9d29",
   "metadata": {},
   "source": [
    "Although you do not have to memorize De Morgan’s Laws for the CS A Exam, you should be able to show that two boolean expressions are equivalent. One way to do this is by using truth tables. For example, we can show that !(a && b) is equivalent to !a || !b by constructing the truth table below and seeing that they give identical results for the 2 expressions (the last 2 columns in the table below are identical!)."
   ]
  },
  {
   "attachments": {
    "Screenshot%202022-01-17%20140056.jpg": {
     "image/jpeg": "[encoded data removed]"
    }
   },
   "cell_type": "markdown",
   "id": "63a37768",
   "metadata": {},
   "source": [
    "![Screenshot%202022-01-17%20140056.jpg](attachment:Screenshot%202022-01-17%20140056.jpg)"
   ]
  },
  {
   "cell_type": "markdown",
   "id": "845da70d",
   "metadata": {},
   "source": [
    "## DeMorgan's Law"
   ]
  },
  {
   "cell_type": "markdown",
   "id": "336c4db8",
   "metadata": {},
   "source": [
    "DeMorgan's Law has two forms that are often used to simplify complex Boolean expressions:\n",
    "\n",
    "not (A and B) is the same as (not A) or (not B)\n",
    "not (A or B) is the same as (not A) and (not B)\n",
    "\n",
    "To simplify conditionals it is usually a good idea to apply DeMorgan's Law to move the negations to the innermost level."
   ]
  },
  {
   "cell_type": "markdown",
   "id": "6b9280ee",
   "metadata": {},
   "source": [
    "Use De Morgan’s laws to write equivalent  expressions for each of the following, then write an application that defines class DeMorgan to show that both the original expression and the new expression in each case produce the same value:\n",
    "\n",
    "    !(x<5)&&!(y>=7)\n",
    "    !(a == b) || !(g != 5)\n",
    "    !((x<=8)&&(y>4))\n",
    "    !((i > 4) || (j <= 6))\n"
   ]
  },
  {
   "cell_type": "code",
   "execution_count": 3,
   "id": "475c5cb4",
   "metadata": {},
   "outputs": [
    {
     "name": "stdout",
     "output_type": "stream",
     "text": [
      "False\n",
      "False\n"
     ]
    }
   ],
   "source": [
    "x = 10\n",
    "y = 8\n",
    "print(not(x<5) and not(y>=7))\n",
    "print(not ((x<5) or (y>=7)))"
   ]
  },
  {
   "cell_type": "markdown",
   "id": "5c8000f6",
   "metadata": {},
   "source": [
    "Often, you can simplify boolean expressions to create equivalent expressions. For example, applying De Morgan’s Laws to !(x < 3 && y > 2) yields !(x < 3) || !(y > 2) as seen in the figure below. This can then be simplified further by flipping the relational operators to remove the not. So, !(x < 3) || !(y > 2) is simplified to (x >= 3 || y <= 2) where the relational operators are flipped and the negation is removed. These two simplification steps are seen below."
   ]
  },
  {
   "attachments": {
    "Screenshot%202022-01-17%20135747.jpg": {
     "image/jpeg": "[encoded data removed]"
    }
   },
   "cell_type": "markdown",
   "id": "34c1bbd4",
   "metadata": {},
   "source": [
    "![Screenshot%202022-01-17%20135747.jpg](attachment:Screenshot%202022-01-17%20135747.jpg)"
   ]
  },
  {
   "cell_type": "code",
   "execution_count": null,
   "id": "5be8b9b0",
   "metadata": {},
   "outputs": [],
   "source": []
  },
  {
   "cell_type": "markdown",
   "id": "3ebd2baf",
   "metadata": {},
   "source": [
    "## Terminating a Program"
   ]
  },
  {
   "cell_type": "markdown",
   "id": "e5655ba3",
   "metadata": {},
   "source": [
    "The exit() function defined in the sys standard library module immediate aborts the program.  An optional message can be displayed to the terminal before the program aborts."
   ]
  },
  {
   "cell_type": "code",
   "execution_count": 41,
   "id": "eded07d9",
   "metadata": {
    "scrolled": true
   },
   "outputs": [
    {
     "ename": "SystemExit",
     "evalue": "testing the program abort",
     "output_type": "error",
     "traceback": [
      "An exception has occurred, use %tb to see the full traceback.\n",
      "\u001b[1;31mSystemExit\u001b[0m\u001b[1;31m:\u001b[0m testing the program abort\n"
     ]
    }
   ],
   "source": [
    "from sys import exit\n",
    "\n",
    "exit(\"testing the program abort\")\n",
    "\n"
   ]
  },
  {
   "cell_type": "markdown",
   "id": "a49da3c5",
   "metadata": {},
   "source": [
    "## Interactive Graphical Programs"
   ]
  },
  {
   "cell_type": "code",
   "execution_count": 2,
   "id": "b5c64d85",
   "metadata": {},
   "outputs": [
    {
     "name": "stdout",
     "output_type": "stream",
     "text": [
      "Enter parameters for the first circle:\n",
      "  x-coord: 50\n",
      "  y-coord: 20\n",
      "  radius: 8\n",
      "Enter parameters for the second circle:\n",
      "  x-coord: 80\n",
      "  y-coord: 20\n",
      "  radius: 8\n"
     ]
    }
   ],
   "source": [
    "##\n",
    "#  Draws and determines if two circles intersect. The parameters of both\n",
    "#  circles are obtained from the user.\n",
    "#\n",
    "\n",
    "from ezgraphics import GraphicsWindow\n",
    "from math import sqrt\n",
    "from sys import exit\n",
    "\n",
    "# Define constant variables.\n",
    "MIN_RADIUS = 5\n",
    "WIN_WIDTH = 500\n",
    "WIN_HEIGHT = 500\n",
    "\n",
    "# Create the graphics window and get the canvas.\n",
    "win = GraphicsWindow(WIN_WIDTH, WIN_HEIGHT)\n",
    "canvas = win.canvas()\n",
    "\n",
    "# Obtain the parameters of the first circle.\n",
    "print(\"Enter parameters for the first circle:\")\n",
    "x0 = int(input(\"  x-coord: \"))\n",
    "y0 = int(input(\"  y-coord: \"))\n",
    "if x0 < 0 or x0 >= WIN_WIDTH or y0 < 0 or y0 >= WIN_HEIGHT :\n",
    "   exit(\"Error: the center of the circle must be within the area of the window.\") \n",
    "\n",
    "r0 = int(input(\"  radius: \"))\n",
    "if r0 <= MIN_RADIUS :\n",
    "   exit(\"Error: the radius must be >\", MIN_RADIUS)\n",
    "\n",
    "# Draw the first circle.\n",
    "canvas.setOutline(\"blue\")\n",
    "canvas.drawOval(x0 - r0, y0 - r0, 2 * r0, 2 * r0)\n",
    "\n",
    "# Obtain the parameters of the second circle.\n",
    "print(\"Enter parameters for the second circle:\")\n",
    "x1 = int(input(\"  x-coord: \"))\n",
    "y1 = int(input(\"  y-coord: \"))\n",
    "if x1 < 0 or x1 >= WIN_WIDTH or y1 < 0 or y1 >= WIN_HEIGHT :\n",
    "   exit(\"Error: the center of the circle must be within the area of the window.\") \n",
    "\n",
    "r1 = int(input(\"  radius: \"))\n",
    "if r1 <= MIN_RADIUS :\n",
    "   exit(f\"Error: the radius must be > {MIN_RADIUS}\")\n",
    "\n",
    "# Draw the second circle.\n",
    "canvas.setOutline(\"red\")\n",
    "canvas.drawOval(x1 - r1, y1 - r1, 2 * r1, 2 * r1)\n",
    "\n",
    "# Determine if the two circles intersect and select appropriate message.\n",
    "dist = sqrt((x1 - x0) ** 2 + (y1 - y0) ** 2)\n",
    "\n",
    "if dist > r0 + r1 :\n",
    "   message = \"The circles are completely separate.\"\n",
    "elif dist < abs(r0 - r1) :\n",
    "   message = \"One circle is contained within the other.\"\n",
    "elif dist == r0 + r1 :\n",
    "   message = \"The circles intersect at a single point.\"\n",
    "elif dist == 0 and r0 == r1 :\n",
    "   message = \"The circles are coincident.\"\n",
    "else :\n",
    "   message = \"The circles intersect at two points.\"\n",
    "      \n",
    "# Display the result at the bottom of the graphics window.\n",
    "canvas.setOutline(\"black\")\n",
    "canvas.drawText(15, WIN_HEIGHT - 15, message)\n",
    "\n",
    "# Wait until the user closes the window.\n",
    "win.wait()\n",
    "\n"
   ]
  }
 ],
 "metadata": {
  "kernelspec": {
   "display_name": "Python 3 (ipykernel)",
   "language": "python",
   "name": "python3"
  },
  "language_info": {
   "codemirror_mode": {
    "name": "ipython",
    "version": 3
   },
   "file_extension": ".py",
   "mimetype": "text/x-python",
   "name": "python",
   "nbconvert_exporter": "python",
   "pygments_lexer": "ipython3",
   "version": "3.9.7"
  }
 },
 "nbformat": 4,
 "nbformat_minor": 5
}
