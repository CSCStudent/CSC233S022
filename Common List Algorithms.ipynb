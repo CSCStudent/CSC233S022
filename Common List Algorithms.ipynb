{
 "cells": [
  {
   "cell_type": "markdown",
   "id": "921ff615",
   "metadata": {},
   "source": [
    "## Filling"
   ]
  },
  {
   "cell_type": "markdown",
   "id": "70f64086",
   "metadata": {},
   "source": [
    "## Combining List Elements"
   ]
  },
  {
   "cell_type": "markdown",
   "id": "1a0e06dc",
   "metadata": {},
   "source": [
    "## Element Separators"
   ]
  },
  {
   "cell_type": "markdown",
   "id": "9be8844a",
   "metadata": {},
   "source": [
    "## Maximum and Minimum"
   ]
  },
  {
   "cell_type": "markdown",
   "id": "b40c6bf9",
   "metadata": {},
   "source": [
    "## Linear Search"
   ]
  },
  {
   "cell_type": "markdown",
   "id": "0cd2ad1b",
   "metadata": {},
   "source": [
    "## Collecting and Counting Matches"
   ]
  },
  {
   "cell_type": "markdown",
   "id": "4ad04c9e",
   "metadata": {},
   "source": [
    "## Removing Matches"
   ]
  },
  {
   "cell_type": "markdown",
   "id": "de4a0074",
   "metadata": {},
   "source": [
    "## Swapping Elements"
   ]
  },
  {
   "cell_type": "markdown",
   "id": "8654dd69",
   "metadata": {},
   "source": [
    "## Reading Input"
   ]
  },
  {
   "cell_type": "markdown",
   "id": "dd7486ae",
   "metadata": {},
   "source": [
    "## Using Lists with Functions"
   ]
  },
  {
   "cell_type": "code",
   "execution_count": 2,
   "id": "488f54e0",
   "metadata": {},
   "outputs": [
    {
     "name": "stdout",
     "output_type": "stream",
     "text": [
      "Enter 5 numbers:\n",
      "5\n",
      "10\n",
      "15\n",
      "20\n",
      "25\n",
      "250.0 200.0 150.0 100.0 50.0 \n"
     ]
    }
   ],
   "source": [
    "##\n",
    "#  This program reads, scales and reverses a sequence of numbers.\n",
    "#\n",
    "\n",
    "def main() :\n",
    "   numbers = readFloats(5)\n",
    "   multiply(numbers, 10)\n",
    "   printReversed(numbers)\n",
    "\n",
    "## Reads a sequence of floating-point numbers.\n",
    "#  @param numberOfInputs the number of inputs to read\n",
    "#  @return a list containing the input values\n",
    "#\n",
    "def readFloats(numberOfInputs) :\n",
    "   print(\"Enter\", numberOfInputs, \"numbers:\")\n",
    "   inputs = []\n",
    "   for i in range(numberOfInputs) :\n",
    "      value = float(input(\"\"))\n",
    "      inputs.append(value)\n",
    "      \n",
    "   return inputs\n",
    "\n",
    "## Multiplies all elements of a list by a factor.\n",
    "#  @param values a list of numbers\n",
    "#  @param factor the value with which element is multiplied\n",
    "#\n",
    "def multiply(values, factor) :\n",
    "   for i in range(len(values)) :\n",
    "      values[i] = values[i] * factor\n",
    "\n",
    "## Prints a list in reverse order.\n",
    "#  @param values a list of numbers\n",
    "#\n",
    "def printReversed(values) :\n",
    "   # Traverse the list in reverse order, starting with the last element\n",
    "   i = len(values) - 1\n",
    "   while i >= 0 :\n",
    "      print(values[i], end=\" \")\n",
    "      i = i - 1\n",
    "   print()\n",
    "   \n",
    "# Start the program.\n",
    "main()\n",
    "\n"
   ]
  }
 ],
 "metadata": {
  "kernelspec": {
   "display_name": "Python 3 (ipykernel)",
   "language": "python",
   "name": "python3"
  },
  "language_info": {
   "codemirror_mode": {
    "name": "ipython",
    "version": 3
   },
   "file_extension": ".py",
   "mimetype": "text/x-python",
   "name": "python",
   "nbconvert_exporter": "python",
   "pygments_lexer": "ipython3",
   "version": "3.9.7"
  }
 },
 "nbformat": 4,
 "nbformat_minor": 5
}
