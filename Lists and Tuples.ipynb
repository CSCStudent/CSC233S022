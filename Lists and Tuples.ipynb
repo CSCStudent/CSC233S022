{
 "cells": [
  {
   "cell_type": "markdown",
   "id": "f4c05939",
   "metadata": {},
   "source": [
    "## A list is a Sequence Type"
   ]
  },
  {
   "cell_type": "markdown",
   "id": "9c12dceb",
   "metadata": {},
   "source": [
    "A <b>sequence type</b> that represent orered sets of objects indexed by non-negative integers.\n",
    "\n",
    "Sometimes called a container — is simply an object that groups multiple elements into a single unit. Collections are used to store, retrieve, manipulate, and communicate aggregate data. \n"
   ]
  },
  {
   "cell_type": "markdown",
   "id": "5e7d6f9f",
   "metadata": {},
   "source": [
    "Are mutable.\n",
    "A sequence of arbitrary objects."
   ]
  },
  {
   "cell_type": "code",
   "execution_count": 3,
   "id": "fa3e9613",
   "metadata": {},
   "outputs": [
    {
     "name": "stdout",
     "output_type": "stream",
     "text": [
      "2160743562816\n",
      "['spam', 2.0, 5, [10, 20]]\n"
     ]
    }
   ],
   "source": [
    "myList = [\"spam\", 2.0, 5, [10,20]]\n",
    "print(id(myList))\n",
    "print(myList)"
   ]
  },
  {
   "cell_type": "markdown",
   "id": "6aa15406",
   "metadata": {},
   "source": [
    "## Lists are mutable"
   ]
  },
  {
   "cell_type": "code",
   "execution_count": 9,
   "id": "0d929261",
   "metadata": {},
   "outputs": [
    {
     "name": "stdout",
     "output_type": "stream",
     "text": [
      "2160743562816\n",
      "['33', 33, 5, [10, 33]]\n",
      "[10, 'hooray']\n"
     ]
    }
   ],
   "source": [
    "myList[0] = \"33\"\n",
    "print(id(myList))\n",
    "print(myList)\n",
    "myList[3][1] = \"hooray\"\n",
    "print(myList[3])"
   ]
  },
  {
   "cell_type": "code",
   "execution_count": 12,
   "id": "0271354f",
   "metadata": {},
   "outputs": [
    {
     "name": "stdout",
     "output_type": "stream",
     "text": [
      "2160743509504\n",
      "2160743559232\n"
     ]
    }
   ],
   "source": [
    "cheeses = ['Cheddar', 'Edam', 'Gouda']\n",
    "print(id(cheeses))\n",
    "\n",
    "cheeses = ['Swiss', 'Goat', 'Provolone']\n",
    "print(id(cheeses))"
   ]
  },
  {
   "cell_type": "markdown",
   "id": "931fc7ac",
   "metadata": {},
   "source": [
    "## Traversing a list"
   ]
  },
  {
   "cell_type": "code",
   "execution_count": 18,
   "id": "9f05e144",
   "metadata": {},
   "outputs": [
    {
     "name": "stdout",
     "output_type": "stream",
     "text": [
      "Swiss\n",
      "Goat\n",
      "Provolone\n",
      "Swiss\n",
      "Goat\n",
      "Provolone\n"
     ]
    }
   ],
   "source": [
    "for c in cheeses:\n",
    "    print(c)\n",
    "    \n",
    "for i in range(len(cheeses)): #0, 1, 2....left inclusive\n",
    "    print(cheeses[i])"
   ]
  },
  {
   "cell_type": "markdown",
   "id": "31e13010",
   "metadata": {},
   "source": [
    "## List operations"
   ]
  },
  {
   "cell_type": "code",
   "execution_count": 5,
   "id": "755a2efc",
   "metadata": {},
   "outputs": [
    {
     "name": "stdout",
     "output_type": "stream",
     "text": [
      "[1, 2, 3, 4, 5, 6]\n"
     ]
    }
   ],
   "source": [
    "# The + operator concatenates lists:\n",
    "a = [1, 2, 3]\n",
    "b = [4, 5, 6]\n",
    "c = a + b\n",
    "print(c)"
   ]
  },
  {
   "cell_type": "code",
   "execution_count": 6,
   "id": "09d2010b",
   "metadata": {},
   "outputs": [
    {
     "name": "stdout",
     "output_type": "stream",
     "text": [
      "[0, 0, 0, 0]\n",
      "[1, 2, 3, 1, 2, 3, 1, 2, 3]\n"
     ]
    }
   ],
   "source": [
    "# the operator * repeats a list a given number of times:\n",
    "print([0] * 4)\n",
    "\n",
    "print([1, 2, 3] * 3)\n"
   ]
  },
  {
   "cell_type": "code",
   "execution_count": 7,
   "id": "70383b37",
   "metadata": {},
   "outputs": [
    {
     "name": "stdout",
     "output_type": "stream",
     "text": [
      "['b', 'c']\n",
      "['a', 'b', 'c', 'd']\n",
      "['d', 'e', 'f']\n"
     ]
    }
   ],
   "source": [
    "#The slice operator also works on lists:\n",
    "t = ['a', 'b', 'c', 'd', 'e', 'f']\n",
    "print(t[1:3]) #left-inclusive notation\n",
    "\n",
    "print(t[:4])\n",
    "\n",
    "print(t[3:])\n"
   ]
  },
  {
   "cell_type": "markdown",
   "id": "7a99a9ec",
   "metadata": {},
   "source": [
    "## List methods"
   ]
  },
  {
   "cell_type": "markdown",
   "id": "4efa5ee3",
   "metadata": {},
   "source": [
    "Most list methods are void; they modify the list and return None. If you accidentally\n",
    "write t = t.sort(), you will be disappointed with the result."
   ]
  },
  {
   "cell_type": "code",
   "execution_count": 8,
   "id": "9c9b29d9",
   "metadata": {},
   "outputs": [
    {
     "name": "stdout",
     "output_type": "stream",
     "text": [
      "['a', 'b', 'c', 'd', 'e']\n"
     ]
    }
   ],
   "source": [
    "t1 = ['a', 'b', 'c']\n",
    "t2 = ['d', 'e']\n",
    "t1.extend(t2)\n",
    "print(t1)\n"
   ]
  },
  {
   "cell_type": "code",
   "execution_count": 9,
   "id": "e8dc9632",
   "metadata": {},
   "outputs": [
    {
     "name": "stdout",
     "output_type": "stream",
     "text": [
      "['a', 'b', 'c', 'd', 'e']\n"
     ]
    }
   ],
   "source": [
    "t = ['d', 'c', 'e', 'b', 'a']\n",
    "t.sort()\n",
    "print(t)"
   ]
  },
  {
   "cell_type": "markdown",
   "id": "deb87b01",
   "metadata": {},
   "source": [
    "## Deleting elements"
   ]
  },
  {
   "cell_type": "code",
   "execution_count": 10,
   "id": "e1db4432",
   "metadata": {},
   "outputs": [
    {
     "name": "stdout",
     "output_type": "stream",
     "text": [
      "['a', 'c']\n",
      "b\n"
     ]
    }
   ],
   "source": [
    "t = ['a', 'b', 'c']\n",
    "x = t.pop(1)\n",
    "print(t)\n",
    "\n",
    "print(x)"
   ]
  },
  {
   "cell_type": "code",
   "execution_count": 12,
   "id": "f355aed3",
   "metadata": {},
   "outputs": [
    {
     "name": "stdout",
     "output_type": "stream",
     "text": [
      "['a', 'c']\n",
      "['a', 'f']\n"
     ]
    }
   ],
   "source": [
    "t = ['a', 'b', 'c']\n",
    "del t[1]\n",
    "print(t)\n",
    "\n",
    "t = ['a', 'b', 'c', 'd', 'e', 'f']\n",
    "del(t[1:5])\n",
    "print(t)"
   ]
  },
  {
   "cell_type": "code",
   "execution_count": 13,
   "id": "a8a63617",
   "metadata": {},
   "outputs": [
    {
     "name": "stdout",
     "output_type": "stream",
     "text": [
      "['a', 'c']\n"
     ]
    }
   ],
   "source": [
    "t = ['a', 'b', 'c']\n",
    "t.remove('b')\n",
    "print(t)"
   ]
  },
  {
   "cell_type": "markdown",
   "id": "53285326",
   "metadata": {},
   "source": [
    "## A Tuple is a Sequence Type"
   ]
  },
  {
   "cell_type": "markdown",
   "id": "514630ff",
   "metadata": {},
   "source": [
    "A <b>tuple</b> is a sequence of values much like a list. The values stored in a tuple can\n",
    "be any type, and they are indexed by integers. The important difference is that\n",
    "tuples are immutable.\n",
    "<br>\n",
    "Tuples are also comparable and hashable so we can sort lists\n",
    "of them and use tuples as key values in Python dictionaries.\n",
    "Syntactically, a tuple is a comma-separated list of values:"
   ]
  },
  {
   "cell_type": "code",
   "execution_count": 4,
   "id": "ebb4bd6d",
   "metadata": {},
   "outputs": [
    {
     "name": "stdout",
     "output_type": "stream",
     "text": [
      "('a', 'b', 'c', 'd', 'e')\n",
      "<class 'tuple'>\n"
     ]
    }
   ],
   "source": [
    "t = 'a', 'b', 'c', 'd', 'e'\n",
    "t = ('a', 'b', 'c', 'd', 'e') #it is common to enclose tuples in parentheses\n",
    "print(t)\n",
    "print(type(t))"
   ]
  },
  {
   "cell_type": "code",
   "execution_count": 5,
   "id": "690f6dd7",
   "metadata": {},
   "outputs": [],
   "source": [
    "t1 = ('a',) #To create a tuple with a single element, you have to include the final comma:"
   ]
  },
  {
   "cell_type": "markdown",
   "id": "8fbd5ff5",
   "metadata": {},
   "source": [
    "## Tuple Assignment"
   ]
  },
  {
   "cell_type": "code",
   "execution_count": 1,
   "id": "c654e810",
   "metadata": {},
   "outputs": [
    {
     "name": "stdout",
     "output_type": "stream",
     "text": [
      "19.95 12\n"
     ]
    }
   ],
   "source": [
    "price, quantity = (19.95, 12)\n",
    "print(price, quantity)"
   ]
  },
  {
   "cell_type": "markdown",
   "id": "50578834",
   "metadata": {},
   "source": [
    "## Returning Multiple Values with Tuples"
   ]
  },
  {
   "cell_type": "code",
   "execution_count": 4,
   "id": "8d77bf66",
   "metadata": {},
   "outputs": [
    {
     "name": "stdout",
     "output_type": "stream",
     "text": [
      "Enter a date\n",
      " month: 2\n",
      " day: 1\n",
      " year: 2022\n",
      "(2, 1, 2022)\n",
      "Enter a date\n",
      " month: 2\n",
      " day: 1\n",
      " year: 2022\n",
      "2/1/2022\n"
     ]
    }
   ],
   "source": [
    "def readDate():\n",
    "    print(\"Enter a date\")\n",
    "    month = int(input(\" month: \"))\n",
    "    day = int(input(\" day: \"))\n",
    "    year = int(input(\" year: \"))\n",
    "    return (month, day, year)\n",
    "\n",
    "date = readDate()\n",
    "print(date)\n",
    "\n",
    "month, day, year = readDate()\n",
    "print(f\"{month}/{day}/{year}\")"
   ]
  }
 ],
 "metadata": {
  "hide_input": false,
  "kernelspec": {
   "display_name": "Python 3 (ipykernel)",
   "language": "python",
   "name": "python3"
  },
  "language_info": {
   "codemirror_mode": {
    "name": "ipython",
    "version": 3
   },
   "file_extension": ".py",
   "mimetype": "text/x-python",
   "name": "python",
   "nbconvert_exporter": "python",
   "pygments_lexer": "ipython3",
   "version": "3.9.7"
  }
 },
 "nbformat": 4,
 "nbformat_minor": 5
}
