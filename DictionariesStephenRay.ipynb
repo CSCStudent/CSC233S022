{
 "cells": [
  {
   "cell_type": "markdown",
   "id": "49fa6f40",
   "metadata": {},
   "source": [
    "<b>A dictionary </b> is like a list, but more general. In a list, the index positions have to\n",
    "be integers; <u>in a dictionary, the indices can be (almost) any type.</u>\n",
    "You can think of a dictionary as a mapping between a set of indices (which are\n",
    "called keys) and a set of values. Each key maps to a value. The association of a\n",
    "key and a value is called a key-value pair or sometimes an item.\n",
    "As an example, we’ll build a dictionary that maps from English to Spanish words,\n",
    "so the keys and the values are all strings.\n",
    "The function dict creates a new dictionary with no items. Because dict is the\n",
    "name of a built-in function, you should avoid using it as a variable name."
   ]
  },
  {
   "cell_type": "markdown",
   "id": "e55c92da",
   "metadata": {},
   "source": [
    "<b>Dictionary as a Set of Counters</b>\n",
    "\n",
    "Suppose you are given a string and you want to count how many times each letter\n",
    "appears. There are several ways you could do it:\n",
    "1. You could create 26 variables, one for each letter of the alphabet. Then you\n",
    "could traverse the string and, for each character, increment the corresponding\n",
    "counter, probably using a chained conditional.\n",
    "2. You could create a list with 26 elements. Then you could convert each\n",
    "character to a number (using the built-in function ord), use the number as\n",
    "an index into the list, and increment the appropriate counter.\n",
    "3. You could create a dictionary with characters as keys and counters as the\n",
    "corresponding values. The first time you see a character, you would add\n",
    "an item to the dictionary. After that you would increment the value of an\n",
    "existing item.\n",
    "\n",
    "An implementation is a way of performing a computation; some implementations\n",
    "are better than others. For example, an advantage of the dictionary implementa\u0002tion is that we don’t have to know ahead of time which letters appear in the string\n",
    "and we only have to make room for the letters that do appear.\n",
    "Here is what the code might look like:"
   ]
  },
  {
   "cell_type": "code",
   "execution_count": 2,
   "id": "aecf802d",
   "metadata": {},
   "outputs": [
    {
     "name": "stdout",
     "output_type": "stream",
     "text": [
      "{'b': 1, 'r': 2, 'o': 2, 'n': 1, 't': 1, 's': 2, 'a': 1, 'u': 2}\n"
     ]
    }
   ],
   "source": [
    "word = 'brontosaurus'\n",
    "\n",
    "d = dict()\n",
    "for c in word:\n",
    "    if c not in d:\n",
    "        d[c] = 1\n",
    "    else:\n",
    "        d[c] = d[c] + 1\n",
    "        \n",
    "print(d)"
   ]
  },
  {
   "cell_type": "code",
   "execution_count": 3,
   "id": "9bef8624",
   "metadata": {},
   "outputs": [
    {
     "name": "stdout",
     "output_type": "stream",
     "text": [
      "{'car': 'is a four wheel road vehicle'}\n"
     ]
    }
   ],
   "source": [
    "mydict = dict()\n",
    "mydict['car'] = 'is a four wheel road vehicle'\n",
    "print(mydict)"
   ]
  },
  {
   "cell_type": "code",
   "execution_count": 11,
   "id": "ba5aa93e",
   "metadata": {},
   "outputs": [
    {
     "name": "stdout",
     "output_type": "stream",
     "text": [
      "{'goober': 'An absolute doofus.', 'loon': 'An absolute fool.'}\n"
     ]
    }
   ],
   "source": [
    "mydict = dict()\n",
    "mydict['goober'] = 'An absolute doofus.'\n",
    "mydict['loon'] = 'An absolute fool.'\n",
    "mydict[0] = 'FUBAR'\n",
    "del mydict[0]\n",
    "print(mydict)"
   ]
  },
  {
   "cell_type": "code",
   "execution_count": 14,
   "id": "9201bb8c",
   "metadata": {
    "scrolled": true
   },
   "outputs": [
    {
     "name": "stdout",
     "output_type": "stream",
     "text": [
      "Loon\n"
     ]
    }
   ],
   "source": [
    "mydict = dict()\n",
    "\n",
    "mydict[0] = ['Goober', 'Loon']\n",
    "print(mydict[0][1])"
   ]
  },
  {
   "cell_type": "markdown",
   "id": "e1e323ac",
   "metadata": {},
   "source": [
    "<b>Dictionaries and Files</b>\n",
    "\n",
    "One of the common uses of a dictionary is to count the occurrence of words in a\n",
    "file with some written text."
   ]
  },
  {
   "cell_type": "markdown",
   "id": "0cf5382e",
   "metadata": {},
   "source": [
    "<b>Looping and Dictionaries</b>\n",
    "\n",
    "If you use a dictionary as the sequence in a for statement, it traverses the keys of\n",
    "the dictionary. This loop prints each key and the corresponding value:"
   ]
  },
  {
   "cell_type": "code",
   "execution_count": 2,
   "id": "8b2f1597",
   "metadata": {},
   "outputs": [
    {
     "name": "stdout",
     "output_type": "stream",
     "text": [
      "annie 42\n",
      "gerbil 4320\n"
     ]
    }
   ],
   "source": [
    "counts = {'chuck': 1, 'annie' : 42, 'gerbil' : 4320}\n",
    "for key in counts:\n",
    "    if counts[key] > 10 :\n",
    "        print(key, counts[key])"
   ]
  },
  {
   "cell_type": "markdown",
   "id": "68582d63",
   "metadata": {},
   "source": [
    "<b>Advanced Text Parsing</b>\n",
    "\n",
    "In the above example using the file romeo.txt, we made the file as simple as possi\u0002ble by removing all punctuation by hand. The actual text has lots of punctuation,\n",
    "as shown below.\n",
    "But, soft! what light through yonder window breaks?\n",
    "It is the east, and Juliet is the sun.\n",
    "Arise, fair sun, and kill the envious moon,\n",
    "Who is already sick and pale with grief,\n",
    "Since the Python split function looks for spaces and treats words as tokens sep\u0002arated by spaces, we would treat the words “soft!” and “soft” as different words\n",
    "and create a separate dictionary entry for each word.\n",
    "Also since the file has capitalization, we would treat “who” and “Who” as different\n",
    "words with different counts.\n",
    "We can solve both these problems by using the string methods lower, punctuation,\n",
    "and translate. The translate is the most subtle of the methods. Here is the\n",
    "documentation for translate:\n",
    "\n",
    "line.translate(str.maketrans(fromstr, tostr, deletestr))\n"
   ]
  }
 ],
 "metadata": {
  "kernelspec": {
   "display_name": "Python 3 (ipykernel)",
   "language": "python",
   "name": "python3"
  },
  "language_info": {
   "codemirror_mode": {
    "name": "ipython",
    "version": 3
   },
   "file_extension": ".py",
   "mimetype": "text/x-python",
   "name": "python",
   "nbconvert_exporter": "python",
   "pygments_lexer": "ipython3",
   "version": "3.9.7"
  }
 },
 "nbformat": 4,
 "nbformat_minor": 5
}
